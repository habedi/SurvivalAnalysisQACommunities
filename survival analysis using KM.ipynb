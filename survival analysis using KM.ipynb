{
 "cells": [
  {
   "cell_type": "code",
   "metadata": {
    "cell_id": "78796593-38d1-4ad9-ba3a-1422e7030b85",
    "deepnote_to_be_reexecuted": false,
    "source_hash": "e260564e",
    "execution_start": 1654251585416,
    "execution_millis": 4389,
    "deepnote_cell_type": "code",
    "deepnote_cell_height": 323.75
   },
   "source": "import tikzplotlib\nimport pandas as pd\nimport numpy as np\n\nfrom pandas_profiling import ProfileReport\nfrom pysurvival.utils.display import correlation_matrix\nfrom matplotlib import pyplot as plt\n%pylab inline\n\nplt.style.use('tableau-colorblind10')",
   "execution_count": null,
   "outputs": [
    {
     "name": "stderr",
     "text": "/shared-libs/python3.7/py/lib/python3.7/site-packages/tqdm/auto.py:22: TqdmWarning: IProgress not found. Please update jupyter and ipywidgets. See https://ipywidgets.readthedocs.io/en/stable/user_install.html\n  from .autonotebook import tqdm as notebook_tqdm\nPopulating the interactive namespace from numpy and matplotlib\n",
     "output_type": "stream"
    }
   ]
  },
  {
   "cell_type": "code",
   "metadata": {
    "cell_id": "00001-31a3fcb7-190a-42ff-8870-ebc6764c2fe6",
    "deepnote_to_be_reexecuted": false,
    "source_hash": "32a1b0e5",
    "execution_start": 1654251589810,
    "execution_millis": 316,
    "deepnote_cell_type": "code",
    "deepnote_cell_height": 423.25,
    "deepnote_output_heights": [
     null,
     130
    ]
   },
   "source": "# Reading the dataset\nraw_dataset = pd.read_csv(\"dataset/ds/user_features.csv\", sep=\"\\t\")\nprint(\"The raw_dataset has the following shape: {}.\".format(raw_dataset.shape))\nraw_dataset.head(3)",
   "execution_count": null,
   "outputs": [
    {
     "name": "stdout",
     "text": "The raw_dataset has the following shape: (100581, 19).\n",
     "output_type": "stream"
    },
    {
     "output_type": "execute_result",
     "execution_count": 2,
     "data": {
      "application/vnd.deepnote.dataframe.v3+json": {
       "column_count": 19,
       "row_count": 3,
       "columns": [
        {
         "name": "UserId",
         "dtype": "int64",
         "stats": {
          "unique_count": 3,
          "nan_count": 0,
          "min": "60",
          "max": "69",
          "histogram": [
           {
            "bin_start": 60,
            "bin_end": 60.9,
            "count": 1
           },
           {
            "bin_start": 60.9,
            "bin_end": 61.8,
            "count": 0
           },
           {
            "bin_start": 61.8,
            "bin_end": 62.7,
            "count": 0
           },
           {
            "bin_start": 62.7,
            "bin_end": 63.6,
            "count": 0
           },
           {
            "bin_start": 63.6,
            "bin_end": 64.5,
            "count": 0
           },
           {
            "bin_start": 64.5,
            "bin_end": 65.4,
            "count": 0
           },
           {
            "bin_start": 65.4,
            "bin_end": 66.3,
            "count": 0
           },
           {
            "bin_start": 66.3,
            "bin_end": 67.2,
            "count": 1
           },
           {
            "bin_start": 67.2,
            "bin_end": 68.1,
            "count": 0
           },
           {
            "bin_start": 68.1,
            "bin_end": 69,
            "count": 1
           }
          ]
         }
        },
        {
         "name": "CreationDate",
         "dtype": "object",
         "stats": {
          "unique_count": 3,
          "nan_count": 0,
          "categories": [
           {
            "name": "2014-05-14 00:56:07",
            "count": 1
           },
           {
            "name": "2014-05-14 01:29:11",
            "count": 1
           },
           {
            "name": "2014-05-14 01:40:28",
            "count": 1
           }
          ]
         }
        },
        {
         "name": "CastDownVotes",
         "dtype": "int64",
         "stats": {
          "unique_count": 1,
          "nan_count": 0,
          "min": "0",
          "max": "0",
          "histogram": [
           {
            "bin_start": -0.5,
            "bin_end": -0.4,
            "count": 0
           },
           {
            "bin_start": -0.4,
            "bin_end": -0.3,
            "count": 0
           },
           {
            "bin_start": -0.3,
            "bin_end": -0.19999999999999996,
            "count": 0
           },
           {
            "bin_start": -0.19999999999999996,
            "bin_end": -0.09999999999999998,
            "count": 0
           },
           {
            "bin_start": -0.09999999999999998,
            "bin_end": 0,
            "count": 0
           },
           {
            "bin_start": 0,
            "bin_end": 0.10000000000000009,
            "count": 3
           },
           {
            "bin_start": 0.10000000000000009,
            "bin_end": 0.20000000000000007,
            "count": 0
           },
           {
            "bin_start": 0.20000000000000007,
            "bin_end": 0.30000000000000004,
            "count": 0
           },
           {
            "bin_start": 0.30000000000000004,
            "bin_end": 0.4,
            "count": 0
           },
           {
            "bin_start": 0.4,
            "bin_end": 0.5,
            "count": 0
           }
          ]
         }
        },
        {
         "name": "CastUpVotes",
         "dtype": "int64",
         "stats": {
          "unique_count": 2,
          "nan_count": 0,
          "min": "0",
          "max": "1",
          "histogram": [
           {
            "bin_start": 0,
            "bin_end": 0.1,
            "count": 2
           },
           {
            "bin_start": 0.1,
            "bin_end": 0.2,
            "count": 0
           },
           {
            "bin_start": 0.2,
            "bin_end": 0.30000000000000004,
            "count": 0
           },
           {
            "bin_start": 0.30000000000000004,
            "bin_end": 0.4,
            "count": 0
           },
           {
            "bin_start": 0.4,
            "bin_end": 0.5,
            "count": 0
           },
           {
            "bin_start": 0.5,
            "bin_end": 0.6000000000000001,
            "count": 0
           },
           {
            "bin_start": 0.6000000000000001,
            "bin_end": 0.7000000000000001,
            "count": 0
           },
           {
            "bin_start": 0.7000000000000001,
            "bin_end": 0.8,
            "count": 0
           },
           {
            "bin_start": 0.8,
            "bin_end": 0.9,
            "count": 0
           },
           {
            "bin_start": 0.9,
            "bin_end": 1,
            "count": 1
           }
          ]
         }
        },
        {
         "name": "ProfileViews",
         "dtype": "int64",
         "stats": {
          "unique_count": 1,
          "nan_count": 0,
          "min": "1",
          "max": "1",
          "histogram": [
           {
            "bin_start": 0.5,
            "bin_end": 0.6,
            "count": 0
           },
           {
            "bin_start": 0.6,
            "bin_end": 0.7,
            "count": 0
           },
           {
            "bin_start": 0.7,
            "bin_end": 0.8,
            "count": 0
           },
           {
            "bin_start": 0.8,
            "bin_end": 0.9,
            "count": 0
           },
           {
            "bin_start": 0.9,
            "bin_end": 1,
            "count": 0
           },
           {
            "bin_start": 1,
            "bin_end": 1.1,
            "count": 3
           },
           {
            "bin_start": 1.1,
            "bin_end": 1.2000000000000002,
            "count": 0
           },
           {
            "bin_start": 1.2000000000000002,
            "bin_end": 1.3,
            "count": 0
           },
           {
            "bin_start": 1.3,
            "bin_end": 1.4,
            "count": 0
           },
           {
            "bin_start": 1.4,
            "bin_end": 1.5,
            "count": 0
           }
          ]
         }
        },
        {
         "name": "LastAccessDate",
         "dtype": "object",
         "stats": {
          "unique_count": 3,
          "nan_count": 0,
          "categories": [
           {
            "name": "2014-05-14 00:56:07",
            "count": 1
           },
           {
            "name": "2014-05-14 02:03:08",
            "count": 1
           },
           {
            "name": "2014-05-14 04:26:39",
            "count": 1
           }
          ]
         }
        },
        {
         "name": "QuestionCount",
         "dtype": "int64",
         "stats": {
          "unique_count": 1,
          "nan_count": 0,
          "min": "0",
          "max": "0",
          "histogram": [
           {
            "bin_start": -0.5,
            "bin_end": -0.4,
            "count": 0
           },
           {
            "bin_start": -0.4,
            "bin_end": -0.3,
            "count": 0
           },
           {
            "bin_start": -0.3,
            "bin_end": -0.19999999999999996,
            "count": 0
           },
           {
            "bin_start": -0.19999999999999996,
            "bin_end": -0.09999999999999998,
            "count": 0
           },
           {
            "bin_start": -0.09999999999999998,
            "bin_end": 0,
            "count": 0
           },
           {
            "bin_start": 0,
            "bin_end": 0.10000000000000009,
            "count": 3
           },
           {
            "bin_start": 0.10000000000000009,
            "bin_end": 0.20000000000000007,
            "count": 0
           },
           {
            "bin_start": 0.20000000000000007,
            "bin_end": 0.30000000000000004,
            "count": 0
           },
           {
            "bin_start": 0.30000000000000004,
            "bin_end": 0.4,
            "count": 0
           },
           {
            "bin_start": 0.4,
            "bin_end": 0.5,
            "count": 0
           }
          ]
         }
        },
        {
         "name": "AnswerCount",
         "dtype": "int64",
         "stats": {
          "unique_count": 1,
          "nan_count": 0,
          "min": "0",
          "max": "0",
          "histogram": [
           {
            "bin_start": -0.5,
            "bin_end": -0.4,
            "count": 0
           },
           {
            "bin_start": -0.4,
            "bin_end": -0.3,
            "count": 0
           },
           {
            "bin_start": -0.3,
            "bin_end": -0.19999999999999996,
            "count": 0
           },
           {
            "bin_start": -0.19999999999999996,
            "bin_end": -0.09999999999999998,
            "count": 0
           },
           {
            "bin_start": -0.09999999999999998,
            "bin_end": 0,
            "count": 0
           },
           {
            "bin_start": 0,
            "bin_end": 0.10000000000000009,
            "count": 3
           },
           {
            "bin_start": 0.10000000000000009,
            "bin_end": 0.20000000000000007,
            "count": 0
           },
           {
            "bin_start": 0.20000000000000007,
            "bin_end": 0.30000000000000004,
            "count": 0
           },
           {
            "bin_start": 0.30000000000000004,
            "bin_end": 0.4,
            "count": 0
           },
           {
            "bin_start": 0.4,
            "bin_end": 0.5,
            "count": 0
           }
          ]
         }
        },
        {
         "name": "CommentCount",
         "dtype": "int64",
         "stats": {
          "unique_count": 1,
          "nan_count": 0,
          "min": "0",
          "max": "0",
          "histogram": [
           {
            "bin_start": -0.5,
            "bin_end": -0.4,
            "count": 0
           },
           {
            "bin_start": -0.4,
            "bin_end": -0.3,
            "count": 0
           },
           {
            "bin_start": -0.3,
            "bin_end": -0.19999999999999996,
            "count": 0
           },
           {
            "bin_start": -0.19999999999999996,
            "bin_end": -0.09999999999999998,
            "count": 0
           },
           {
            "bin_start": -0.09999999999999998,
            "bin_end": 0,
            "count": 0
           },
           {
            "bin_start": 0,
            "bin_end": 0.10000000000000009,
            "count": 3
           },
           {
            "bin_start": 0.10000000000000009,
            "bin_end": 0.20000000000000007,
            "count": 0
           },
           {
            "bin_start": 0.20000000000000007,
            "bin_end": 0.30000000000000004,
            "count": 0
           },
           {
            "bin_start": 0.30000000000000004,
            "bin_end": 0.4,
            "count": 0
           },
           {
            "bin_start": 0.4,
            "bin_end": 0.5,
            "count": 0
           }
          ]
         }
        },
        {
         "name": "AvgQuestionViewCount",
         "dtype": "float64",
         "stats": {
          "unique_count": 1,
          "nan_count": 0,
          "min": "0.0",
          "max": "0.0",
          "histogram": [
           {
            "bin_start": -0.5,
            "bin_end": -0.4,
            "count": 0
           },
           {
            "bin_start": -0.4,
            "bin_end": -0.3,
            "count": 0
           },
           {
            "bin_start": -0.3,
            "bin_end": -0.19999999999999996,
            "count": 0
           },
           {
            "bin_start": -0.19999999999999996,
            "bin_end": -0.09999999999999998,
            "count": 0
           },
           {
            "bin_start": -0.09999999999999998,
            "bin_end": 0,
            "count": 0
           },
           {
            "bin_start": 0,
            "bin_end": 0.10000000000000009,
            "count": 3
           },
           {
            "bin_start": 0.10000000000000009,
            "bin_end": 0.20000000000000007,
            "count": 0
           },
           {
            "bin_start": 0.20000000000000007,
            "bin_end": 0.30000000000000004,
            "count": 0
           },
           {
            "bin_start": 0.30000000000000004,
            "bin_end": 0.4,
            "count": 0
           },
           {
            "bin_start": 0.4,
            "bin_end": 0.5,
            "count": 0
           }
          ]
         }
        },
        {
         "name": "AvgQuestionFavouriteCount",
         "dtype": "float64",
         "stats": {
          "unique_count": 1,
          "nan_count": 0,
          "min": "0.0",
          "max": "0.0",
          "histogram": [
           {
            "bin_start": -0.5,
            "bin_end": -0.4,
            "count": 0
           },
           {
            "bin_start": -0.4,
            "bin_end": -0.3,
            "count": 0
           },
           {
            "bin_start": -0.3,
            "bin_end": -0.19999999999999996,
            "count": 0
           },
           {
            "bin_start": -0.19999999999999996,
            "bin_end": -0.09999999999999998,
            "count": 0
           },
           {
            "bin_start": -0.09999999999999998,
            "bin_end": 0,
            "count": 0
           },
           {
            "bin_start": 0,
            "bin_end": 0.10000000000000009,
            "count": 3
           },
           {
            "bin_start": 0.10000000000000009,
            "bin_end": 0.20000000000000007,
            "count": 0
           },
           {
            "bin_start": 0.20000000000000007,
            "bin_end": 0.30000000000000004,
            "count": 0
           },
           {
            "bin_start": 0.30000000000000004,
            "bin_end": 0.4,
            "count": 0
           },
           {
            "bin_start": 0.4,
            "bin_end": 0.5,
            "count": 0
           }
          ]
         }
        },
        {
         "name": "AvgQuestionCommentCount",
         "dtype": "float64",
         "stats": {
          "unique_count": 1,
          "nan_count": 0,
          "min": "0.0",
          "max": "0.0",
          "histogram": [
           {
            "bin_start": -0.5,
            "bin_end": -0.4,
            "count": 0
           },
           {
            "bin_start": -0.4,
            "bin_end": -0.3,
            "count": 0
           },
           {
            "bin_start": -0.3,
            "bin_end": -0.19999999999999996,
            "count": 0
           },
           {
            "bin_start": -0.19999999999999996,
            "bin_end": -0.09999999999999998,
            "count": 0
           },
           {
            "bin_start": -0.09999999999999998,
            "bin_end": 0,
            "count": 0
           },
           {
            "bin_start": 0,
            "bin_end": 0.10000000000000009,
            "count": 3
           },
           {
            "bin_start": 0.10000000000000009,
            "bin_end": 0.20000000000000007,
            "count": 0
           },
           {
            "bin_start": 0.20000000000000007,
            "bin_end": 0.30000000000000004,
            "count": 0
           },
           {
            "bin_start": 0.30000000000000004,
            "bin_end": 0.4,
            "count": 0
           },
           {
            "bin_start": 0.4,
            "bin_end": 0.5,
            "count": 0
           }
          ]
         }
        },
        {
         "name": "AvgQuestionScore",
         "dtype": "float64",
         "stats": {
          "unique_count": 1,
          "nan_count": 0,
          "min": "0.0",
          "max": "0.0",
          "histogram": [
           {
            "bin_start": -0.5,
            "bin_end": -0.4,
            "count": 0
           },
           {
            "bin_start": -0.4,
            "bin_end": -0.3,
            "count": 0
           },
           {
            "bin_start": -0.3,
            "bin_end": -0.19999999999999996,
            "count": 0
           },
           {
            "bin_start": -0.19999999999999996,
            "bin_end": -0.09999999999999998,
            "count": 0
           },
           {
            "bin_start": -0.09999999999999998,
            "bin_end": 0,
            "count": 0
           },
           {
            "bin_start": 0,
            "bin_end": 0.10000000000000009,
            "count": 3
           },
           {
            "bin_start": 0.10000000000000009,
            "bin_end": 0.20000000000000007,
            "count": 0
           },
           {
            "bin_start": 0.20000000000000007,
            "bin_end": 0.30000000000000004,
            "count": 0
           },
           {
            "bin_start": 0.30000000000000004,
            "bin_end": 0.4,
            "count": 0
           },
           {
            "bin_start": 0.4,
            "bin_end": 0.5,
            "count": 0
           }
          ]
         }
        },
        {
         "name": "AvgAnswerScore",
         "dtype": "float64",
         "stats": {
          "unique_count": 1,
          "nan_count": 0,
          "min": "0.0",
          "max": "0.0",
          "histogram": [
           {
            "bin_start": -0.5,
            "bin_end": -0.4,
            "count": 0
           },
           {
            "bin_start": -0.4,
            "bin_end": -0.3,
            "count": 0
           },
           {
            "bin_start": -0.3,
            "bin_end": -0.19999999999999996,
            "count": 0
           },
           {
            "bin_start": -0.19999999999999996,
            "bin_end": -0.09999999999999998,
            "count": 0
           },
           {
            "bin_start": -0.09999999999999998,
            "bin_end": 0,
            "count": 0
           },
           {
            "bin_start": 0,
            "bin_end": 0.10000000000000009,
            "count": 3
           },
           {
            "bin_start": 0.10000000000000009,
            "bin_end": 0.20000000000000007,
            "count": 0
           },
           {
            "bin_start": 0.20000000000000007,
            "bin_end": 0.30000000000000004,
            "count": 0
           },
           {
            "bin_start": 0.30000000000000004,
            "bin_end": 0.4,
            "count": 0
           },
           {
            "bin_start": 0.4,
            "bin_end": 0.5,
            "count": 0
           }
          ]
         }
        },
        {
         "name": "AvgAnswerCommentCount",
         "dtype": "float64",
         "stats": {
          "unique_count": 1,
          "nan_count": 0,
          "min": "0.0",
          "max": "0.0",
          "histogram": [
           {
            "bin_start": -0.5,
            "bin_end": -0.4,
            "count": 0
           },
           {
            "bin_start": -0.4,
            "bin_end": -0.3,
            "count": 0
           },
           {
            "bin_start": -0.3,
            "bin_end": -0.19999999999999996,
            "count": 0
           },
           {
            "bin_start": -0.19999999999999996,
            "bin_end": -0.09999999999999998,
            "count": 0
           },
           {
            "bin_start": -0.09999999999999998,
            "bin_end": 0,
            "count": 0
           },
           {
            "bin_start": 0,
            "bin_end": 0.10000000000000009,
            "count": 3
           },
           {
            "bin_start": 0.10000000000000009,
            "bin_end": 0.20000000000000007,
            "count": 0
           },
           {
            "bin_start": 0.20000000000000007,
            "bin_end": 0.30000000000000004,
            "count": 0
           },
           {
            "bin_start": 0.30000000000000004,
            "bin_end": 0.4,
            "count": 0
           },
           {
            "bin_start": 0.4,
            "bin_end": 0.5,
            "count": 0
           }
          ]
         }
        },
        {
         "name": "AvgCommentScore",
         "dtype": "float64",
         "stats": {
          "unique_count": 1,
          "nan_count": 0,
          "min": "0.0",
          "max": "0.0",
          "histogram": [
           {
            "bin_start": -0.5,
            "bin_end": -0.4,
            "count": 0
           },
           {
            "bin_start": -0.4,
            "bin_end": -0.3,
            "count": 0
           },
           {
            "bin_start": -0.3,
            "bin_end": -0.19999999999999996,
            "count": 0
           },
           {
            "bin_start": -0.19999999999999996,
            "bin_end": -0.09999999999999998,
            "count": 0
           },
           {
            "bin_start": -0.09999999999999998,
            "bin_end": 0,
            "count": 0
           },
           {
            "bin_start": 0,
            "bin_end": 0.10000000000000009,
            "count": 3
           },
           {
            "bin_start": 0.10000000000000009,
            "bin_end": 0.20000000000000007,
            "count": 0
           },
           {
            "bin_start": 0.20000000000000007,
            "bin_end": 0.30000000000000004,
            "count": 0
           },
           {
            "bin_start": 0.30000000000000004,
            "bin_end": 0.4,
            "count": 0
           },
           {
            "bin_start": 0.4,
            "bin_end": 0.5,
            "count": 0
           }
          ]
         }
        },
        {
         "name": "MonthsActive",
         "dtype": "int64",
         "stats": {
          "unique_count": 1,
          "nan_count": 0,
          "min": "0",
          "max": "0",
          "histogram": [
           {
            "bin_start": -0.5,
            "bin_end": -0.4,
            "count": 0
           },
           {
            "bin_start": -0.4,
            "bin_end": -0.3,
            "count": 0
           },
           {
            "bin_start": -0.3,
            "bin_end": -0.19999999999999996,
            "count": 0
           },
           {
            "bin_start": -0.19999999999999996,
            "bin_end": -0.09999999999999998,
            "count": 0
           },
           {
            "bin_start": -0.09999999999999998,
            "bin_end": 0,
            "count": 0
           },
           {
            "bin_start": 0,
            "bin_end": 0.10000000000000009,
            "count": 3
           },
           {
            "bin_start": 0.10000000000000009,
            "bin_end": 0.20000000000000007,
            "count": 0
           },
           {
            "bin_start": 0.20000000000000007,
            "bin_end": 0.30000000000000004,
            "count": 0
           },
           {
            "bin_start": 0.30000000000000004,
            "bin_end": 0.4,
            "count": 0
           },
           {
            "bin_start": 0.4,
            "bin_end": 0.5,
            "count": 0
           }
          ]
         }
        },
        {
         "name": "MonthsSinceLastActivity",
         "dtype": "int64",
         "stats": {
          "unique_count": 1,
          "nan_count": 0,
          "min": "85",
          "max": "85",
          "histogram": [
           {
            "bin_start": 84.5,
            "bin_end": 84.6,
            "count": 0
           },
           {
            "bin_start": 84.6,
            "bin_end": 84.7,
            "count": 0
           },
           {
            "bin_start": 84.7,
            "bin_end": 84.8,
            "count": 0
           },
           {
            "bin_start": 84.8,
            "bin_end": 84.9,
            "count": 0
           },
           {
            "bin_start": 84.9,
            "bin_end": 85,
            "count": 0
           },
           {
            "bin_start": 85,
            "bin_end": 85.1,
            "count": 3
           },
           {
            "bin_start": 85.1,
            "bin_end": 85.2,
            "count": 0
           },
           {
            "bin_start": 85.2,
            "bin_end": 85.3,
            "count": 0
           },
           {
            "bin_start": 85.3,
            "bin_end": 85.4,
            "count": 0
           },
           {
            "bin_start": 85.4,
            "bin_end": 85.5,
            "count": 0
           }
          ]
         }
        },
        {
         "name": "MonthsSinceJoined",
         "dtype": "int64",
         "stats": {
          "unique_count": 1,
          "nan_count": 0,
          "min": "85",
          "max": "85",
          "histogram": [
           {
            "bin_start": 84.5,
            "bin_end": 84.6,
            "count": 0
           },
           {
            "bin_start": 84.6,
            "bin_end": 84.7,
            "count": 0
           },
           {
            "bin_start": 84.7,
            "bin_end": 84.8,
            "count": 0
           },
           {
            "bin_start": 84.8,
            "bin_end": 84.9,
            "count": 0
           },
           {
            "bin_start": 84.9,
            "bin_end": 85,
            "count": 0
           },
           {
            "bin_start": 85,
            "bin_end": 85.1,
            "count": 3
           },
           {
            "bin_start": 85.1,
            "bin_end": 85.2,
            "count": 0
           },
           {
            "bin_start": 85.2,
            "bin_end": 85.3,
            "count": 0
           },
           {
            "bin_start": 85.3,
            "bin_end": 85.4,
            "count": 0
           },
           {
            "bin_start": 85.4,
            "bin_end": 85.5,
            "count": 0
           }
          ]
         }
        },
        {
         "name": "_deepnote_index_column",
         "dtype": "int64"
        }
       ],
       "rows": [
        {
         "UserId": 60,
         "CreationDate": "2014-05-14 00:56:07",
         "CastDownVotes": 0,
         "CastUpVotes": 0,
         "ProfileViews": 1,
         "LastAccessDate": "2014-05-14 00:56:07",
         "QuestionCount": 0,
         "AnswerCount": 0,
         "CommentCount": 0,
         "AvgQuestionViewCount": 0,
         "AvgQuestionFavouriteCount": 0,
         "AvgQuestionCommentCount": 0,
         "AvgQuestionScore": 0,
         "AvgAnswerScore": 0,
         "AvgAnswerCommentCount": 0,
         "AvgCommentScore": 0,
         "MonthsActive": 0,
         "MonthsSinceLastActivity": 85,
         "MonthsSinceJoined": 85,
         "_deepnote_index_column": 0
        },
        {
         "UserId": 67,
         "CreationDate": "2014-05-14 01:29:11",
         "CastDownVotes": 0,
         "CastUpVotes": 0,
         "ProfileViews": 1,
         "LastAccessDate": "2014-05-14 02:03:08",
         "QuestionCount": 0,
         "AnswerCount": 0,
         "CommentCount": 0,
         "AvgQuestionViewCount": 0,
         "AvgQuestionFavouriteCount": 0,
         "AvgQuestionCommentCount": 0,
         "AvgQuestionScore": 0,
         "AvgAnswerScore": 0,
         "AvgAnswerCommentCount": 0,
         "AvgCommentScore": 0,
         "MonthsActive": 0,
         "MonthsSinceLastActivity": 85,
         "MonthsSinceJoined": 85,
         "_deepnote_index_column": 1
        },
        {
         "UserId": 69,
         "CreationDate": "2014-05-14 01:40:28",
         "CastDownVotes": 0,
         "CastUpVotes": 1,
         "ProfileViews": 1,
         "LastAccessDate": "2014-05-14 04:26:39",
         "QuestionCount": 0,
         "AnswerCount": 0,
         "CommentCount": 0,
         "AvgQuestionViewCount": 0,
         "AvgQuestionFavouriteCount": 0,
         "AvgQuestionCommentCount": 0,
         "AvgQuestionScore": 0,
         "AvgAnswerScore": 0,
         "AvgAnswerCommentCount": 0,
         "AvgCommentScore": 0,
         "MonthsActive": 0,
         "MonthsSinceLastActivity": 85,
         "MonthsSinceJoined": 85,
         "_deepnote_index_column": 2
        }
       ]
      },
      "text/plain": "   UserId         CreationDate  CastDownVotes  CastUpVotes  ProfileViews  \\\n0      60  2014-05-14 00:56:07              0            0             1   \n1      67  2014-05-14 01:29:11              0            0             1   \n2      69  2014-05-14 01:40:28              0            1             1   \n\n        LastAccessDate  QuestionCount  AnswerCount  CommentCount  \\\n0  2014-05-14 00:56:07              0            0             0   \n1  2014-05-14 02:03:08              0            0             0   \n2  2014-05-14 04:26:39              0            0             0   \n\n   AvgQuestionViewCount  AvgQuestionFavouriteCount  AvgQuestionCommentCount  \\\n0                   0.0                        0.0                      0.0   \n1                   0.0                        0.0                      0.0   \n2                   0.0                        0.0                      0.0   \n\n   AvgQuestionScore  AvgAnswerScore  AvgAnswerCommentCount  AvgCommentScore  \\\n0               0.0             0.0                    0.0              0.0   \n1               0.0             0.0                    0.0              0.0   \n2               0.0             0.0                    0.0              0.0   \n\n   MonthsActive  MonthsSinceLastActivity  MonthsSinceJoined  \n0             0                       85                 85  \n1             0                       85                 85  \n2             0                       85                 85  ",
      "text/html": "<div>\n<style scoped>\n    .dataframe tbody tr th:only-of-type {\n        vertical-align: middle;\n    }\n\n    .dataframe tbody tr th {\n        vertical-align: top;\n    }\n\n    .dataframe thead th {\n        text-align: right;\n    }\n</style>\n<table border=\"1\" class=\"dataframe\">\n  <thead>\n    <tr style=\"text-align: right;\">\n      <th></th>\n      <th>UserId</th>\n      <th>CreationDate</th>\n      <th>CastDownVotes</th>\n      <th>CastUpVotes</th>\n      <th>ProfileViews</th>\n      <th>LastAccessDate</th>\n      <th>QuestionCount</th>\n      <th>AnswerCount</th>\n      <th>CommentCount</th>\n      <th>AvgQuestionViewCount</th>\n      <th>AvgQuestionFavouriteCount</th>\n      <th>AvgQuestionCommentCount</th>\n      <th>AvgQuestionScore</th>\n      <th>AvgAnswerScore</th>\n      <th>AvgAnswerCommentCount</th>\n      <th>AvgCommentScore</th>\n      <th>MonthsActive</th>\n      <th>MonthsSinceLastActivity</th>\n      <th>MonthsSinceJoined</th>\n    </tr>\n  </thead>\n  <tbody>\n    <tr>\n      <th>0</th>\n      <td>60</td>\n      <td>2014-05-14 00:56:07</td>\n      <td>0</td>\n      <td>0</td>\n      <td>1</td>\n      <td>2014-05-14 00:56:07</td>\n      <td>0</td>\n      <td>0</td>\n      <td>0</td>\n      <td>0.0</td>\n      <td>0.0</td>\n      <td>0.0</td>\n      <td>0.0</td>\n      <td>0.0</td>\n      <td>0.0</td>\n      <td>0.0</td>\n      <td>0</td>\n      <td>85</td>\n      <td>85</td>\n    </tr>\n    <tr>\n      <th>1</th>\n      <td>67</td>\n      <td>2014-05-14 01:29:11</td>\n      <td>0</td>\n      <td>0</td>\n      <td>1</td>\n      <td>2014-05-14 02:03:08</td>\n      <td>0</td>\n      <td>0</td>\n      <td>0</td>\n      <td>0.0</td>\n      <td>0.0</td>\n      <td>0.0</td>\n      <td>0.0</td>\n      <td>0.0</td>\n      <td>0.0</td>\n      <td>0.0</td>\n      <td>0</td>\n      <td>85</td>\n      <td>85</td>\n    </tr>\n    <tr>\n      <th>2</th>\n      <td>69</td>\n      <td>2014-05-14 01:40:28</td>\n      <td>0</td>\n      <td>1</td>\n      <td>1</td>\n      <td>2014-05-14 04:26:39</td>\n      <td>0</td>\n      <td>0</td>\n      <td>0</td>\n      <td>0.0</td>\n      <td>0.0</td>\n      <td>0.0</td>\n      <td>0.0</td>\n      <td>0.0</td>\n      <td>0.0</td>\n      <td>0.0</td>\n      <td>0</td>\n      <td>85</td>\n      <td>85</td>\n    </tr>\n  </tbody>\n</table>\n</div>"
     },
     "metadata": {}
    }
   ]
  },
  {
   "cell_type": "code",
   "metadata": {
    "cell_id": "00002-aa2c10a4-f0a8-4ef5-b6c4-263eb2b8e67d",
    "deepnote_to_be_reexecuted": false,
    "source_hash": "66d778dc",
    "execution_start": 1654251590133,
    "execution_millis": 7,
    "deepnote_cell_type": "code",
    "deepnote_cell_height": 232.75,
    "deepnote_output_heights": [
     136
    ]
   },
   "source": "raw_dataset.columns",
   "execution_count": null,
   "outputs": [
    {
     "output_type": "execute_result",
     "execution_count": 3,
     "data": {
      "text/plain": "Index(['UserId', 'CreationDate', 'CastDownVotes', 'CastUpVotes',\n       'ProfileViews', 'LastAccessDate', 'QuestionCount', 'AnswerCount',\n       'CommentCount', 'AvgQuestionViewCount', 'AvgQuestionFavouriteCount',\n       'AvgQuestionCommentCount', 'AvgQuestionScore', 'AvgAnswerScore',\n       'AvgAnswerCommentCount', 'AvgCommentScore', 'MonthsActive',\n       'MonthsSinceLastActivity', 'MonthsSinceJoined'],\n      dtype='object')"
     },
     "metadata": {}
    }
   ]
  },
  {
   "cell_type": "code",
   "metadata": {
    "cell_id": "00003-fc8872a6-619a-4080-8dc7-fefcba0d951b",
    "deepnote_to_be_reexecuted": false,
    "source_hash": "1a2de8",
    "execution_start": 1654251590150,
    "execution_millis": 613,
    "deepnote_cell_type": "code",
    "deepnote_cell_height": 521.75,
    "deepnote_output_heights": [
     371
    ]
   },
   "source": "features = ['CastDownVotes', 'CastUpVotes', 'QuestionCount', \n            'AnswerCount', 'CommentCount']\n\ncorrelation_matrix(raw_dataset[features], figure_size=(10, 4), text_fontsize=8)",
   "execution_count": null,
   "outputs": [
    {
     "data": {
      "text/plain": "<Figure size 720x288 with 2 Axes>",
      "image/png": "[encoded data removed]"
     },
     "metadata": {
      "needs_background": "light",
      "image/png": {
       "width": 434,
       "height": 369
      }
     },
     "output_type": "display_data"
    }
   ]
  },
  {
   "cell_type": "code",
   "metadata": {
    "cell_id": "00004-3c43a168-dcf1-402e-9bca-047fc4d7e3b9",
    "deepnote_to_be_reexecuted": false,
    "source_hash": "7832fb47",
    "execution_start": 1654251590762,
    "execution_millis": 45,
    "deepnote_cell_type": "code",
    "deepnote_cell_height": 188.8333282470703
   },
   "source": "def f(x):\n    if x > 24:\n        return 1\n    else:\n        return 0\n    \nraw_dataset['disengaged'] = raw_dataset['MonthsSinceLastActivity'].apply(f)",
   "execution_count": null,
   "outputs": []
  },
  {
   "cell_type": "code",
   "metadata": {
    "cell_id": "00005-646df3c1-de99-4b3f-87dc-6a857bf44b6a",
    "deepnote_to_be_reexecuted": false,
    "source_hash": "f792113b",
    "execution_start": 1654251590892,
    "execution_millis": 25,
    "deepnote_cell_type": "code",
    "deepnote_cell_height": 405.66668701171875,
    "deepnote_output_heights": [
     187
    ]
   },
   "source": "raw_dataset.head()",
   "execution_count": null,
   "outputs": [
    {
     "output_type": "execute_result",
     "execution_count": 6,
     "data": {
      "application/vnd.deepnote.dataframe.v3+json": {
       "column_count": 20,
       "row_count": 5,
       "columns": [
        {
         "name": "UserId",
         "dtype": "int64",
         "stats": {
          "unique_count": 5,
          "nan_count": 0,
          "min": "60",
          "max": "99",
          "histogram": [
           {
            "bin_start": 60,
            "bin_end": 63.9,
            "count": 1
           },
           {
            "bin_start": 63.9,
            "bin_end": 67.8,
            "count": 1
           },
           {
            "bin_start": 67.8,
            "bin_end": 71.7,
            "count": 1
           },
           {
            "bin_start": 71.7,
            "bin_end": 75.6,
            "count": 0
           },
           {
            "bin_start": 75.6,
            "bin_end": 79.5,
            "count": 0
           },
           {
            "bin_start": 79.5,
            "bin_end": 83.4,
            "count": 0
           },
           {
            "bin_start": 83.4,
            "bin_end": 87.3,
            "count": 0
           },
           {
            "bin_start": 87.3,
            "bin_end": 91.2,
            "count": 0
           },
           {
            "bin_start": 91.2,
            "bin_end": 95.1,
            "count": 1
           },
           {
            "bin_start": 95.1,
            "bin_end": 99,
            "count": 1
           }
          ]
         }
        },
        {
         "name": "CreationDate",
         "dtype": "object",
         "stats": {
          "unique_count": 5,
          "nan_count": 0,
          "categories": [
           {
            "name": "2014-05-14 00:56:07",
            "count": 1
           },
           {
            "name": "2014-05-14 01:29:11",
            "count": 1
           },
           {
            "name": "3 others",
            "count": 3
           }
          ]
         }
        },
        {
         "name": "CastDownVotes",
         "dtype": "int64",
         "stats": {
          "unique_count": 1,
          "nan_count": 0,
          "min": "0",
          "max": "0",
          "histogram": [
           {
            "bin_start": -0.5,
            "bin_end": -0.4,
            "count": 0
           },
           {
            "bin_start": -0.4,
            "bin_end": -0.3,
            "count": 0
           },
           {
            "bin_start": -0.3,
            "bin_end": -0.19999999999999996,
            "count": 0
           },
           {
            "bin_start": -0.19999999999999996,
            "bin_end": -0.09999999999999998,
            "count": 0
           },
           {
            "bin_start": -0.09999999999999998,
            "bin_end": 0,
            "count": 0
           },
           {
            "bin_start": 0,
            "bin_end": 0.10000000000000009,
            "count": 5
           },
           {
            "bin_start": 0.10000000000000009,
            "bin_end": 0.20000000000000007,
            "count": 0
           },
           {
            "bin_start": 0.20000000000000007,
            "bin_end": 0.30000000000000004,
            "count": 0
           },
           {
            "bin_start": 0.30000000000000004,
            "bin_end": 0.4,
            "count": 0
           },
           {
            "bin_start": 0.4,
            "bin_end": 0.5,
            "count": 0
           }
          ]
         }
        },
        {
         "name": "CastUpVotes",
         "dtype": "int64",
         "stats": {
          "unique_count": 2,
          "nan_count": 0,
          "min": "0",
          "max": "1",
          "histogram": [
           {
            "bin_start": 0,
            "bin_end": 0.1,
            "count": 4
           },
           {
            "bin_start": 0.1,
            "bin_end": 0.2,
            "count": 0
           },
           {
            "bin_start": 0.2,
            "bin_end": 0.30000000000000004,
            "count": 0
           },
           {
            "bin_start": 0.30000000000000004,
            "bin_end": 0.4,
            "count": 0
           },
           {
            "bin_start": 0.4,
            "bin_end": 0.5,
            "count": 0
           },
           {
            "bin_start": 0.5,
            "bin_end": 0.6000000000000001,
            "count": 0
           },
           {
            "bin_start": 0.6000000000000001,
            "bin_end": 0.7000000000000001,
            "count": 0
           },
           {
            "bin_start": 0.7000000000000001,
            "bin_end": 0.8,
            "count": 0
           },
           {
            "bin_start": 0.8,
            "bin_end": 0.9,
            "count": 0
           },
           {
            "bin_start": 0.9,
            "bin_end": 1,
            "count": 1
           }
          ]
         }
        },
        {
         "name": "ProfileViews",
         "dtype": "int64",
         "stats": {
          "unique_count": 2,
          "nan_count": 0,
          "min": "1",
          "max": "2",
          "histogram": [
           {
            "bin_start": 1,
            "bin_end": 1.1,
            "count": 4
           },
           {
            "bin_start": 1.1,
            "bin_end": 1.2,
            "count": 0
           },
           {
            "bin_start": 1.2,
            "bin_end": 1.3,
            "count": 0
           },
           {
            "bin_start": 1.3,
            "bin_end": 1.4,
            "count": 0
           },
           {
            "bin_start": 1.4,
            "bin_end": 1.5,
            "count": 0
           },
           {
            "bin_start": 1.5,
            "bin_end": 1.6,
            "count": 0
           },
           {
            "bin_start": 1.6,
            "bin_end": 1.7000000000000002,
            "count": 0
           },
           {
            "bin_start": 1.7000000000000002,
            "bin_end": 1.8,
            "count": 0
           },
           {
            "bin_start": 1.8,
            "bin_end": 1.9,
            "count": 0
           },
           {
            "bin_start": 1.9,
            "bin_end": 2,
            "count": 1
           }
          ]
         }
        },
        {
         "name": "LastAccessDate",
         "dtype": "object",
         "stats": {
          "unique_count": 5,
          "nan_count": 0,
          "categories": [
           {
            "name": "2014-05-14 00:56:07",
            "count": 1
           },
           {
            "name": "2014-05-14 02:03:08",
            "count": 1
           },
           {
            "name": "3 others",
            "count": 3
           }
          ]
         }
        },
        {
         "name": "QuestionCount",
         "dtype": "int64",
         "stats": {
          "unique_count": 1,
          "nan_count": 0,
          "min": "0",
          "max": "0",
          "histogram": [
           {
            "bin_start": -0.5,
            "bin_end": -0.4,
            "count": 0
           },
           {
            "bin_start": -0.4,
            "bin_end": -0.3,
            "count": 0
           },
           {
            "bin_start": -0.3,
            "bin_end": -0.19999999999999996,
            "count": 0
           },
           {
            "bin_start": -0.19999999999999996,
            "bin_end": -0.09999999999999998,
            "count": 0
           },
           {
            "bin_start": -0.09999999999999998,
            "bin_end": 0,
            "count": 0
           },
           {
            "bin_start": 0,
            "bin_end": 0.10000000000000009,
            "count": 5
           },
           {
            "bin_start": 0.10000000000000009,
            "bin_end": 0.20000000000000007,
            "count": 0
           },
           {
            "bin_start": 0.20000000000000007,
            "bin_end": 0.30000000000000004,
            "count": 0
           },
           {
            "bin_start": 0.30000000000000004,
            "bin_end": 0.4,
            "count": 0
           },
           {
            "bin_start": 0.4,
            "bin_end": 0.5,
            "count": 0
           }
          ]
         }
        },
        {
         "name": "AnswerCount",
         "dtype": "int64",
         "stats": {
          "unique_count": 1,
          "nan_count": 0,
          "min": "0",
          "max": "0",
          "histogram": [
           {
            "bin_start": -0.5,
            "bin_end": -0.4,
            "count": 0
           },
           {
            "bin_start": -0.4,
            "bin_end": -0.3,
            "count": 0
           },
           {
            "bin_start": -0.3,
            "bin_end": -0.19999999999999996,
            "count": 0
           },
           {
            "bin_start": -0.19999999999999996,
            "bin_end": -0.09999999999999998,
            "count": 0
           },
           {
            "bin_start": -0.09999999999999998,
            "bin_end": 0,
            "count": 0
           },
           {
            "bin_start": 0,
            "bin_end": 0.10000000000000009,
            "count": 5
           },
           {
            "bin_start": 0.10000000000000009,
            "bin_end": 0.20000000000000007,
            "count": 0
           },
           {
            "bin_start": 0.20000000000000007,
            "bin_end": 0.30000000000000004,
            "count": 0
           },
           {
            "bin_start": 0.30000000000000004,
            "bin_end": 0.4,
            "count": 0
           },
           {
            "bin_start": 0.4,
            "bin_end": 0.5,
            "count": 0
           }
          ]
         }
        },
        {
         "name": "CommentCount",
         "dtype": "int64",
         "stats": {
          "unique_count": 1,
          "nan_count": 0,
          "min": "0",
          "max": "0",
          "histogram": [
           {
            "bin_start": -0.5,
            "bin_end": -0.4,
            "count": 0
           },
           {
            "bin_start": -0.4,
            "bin_end": -0.3,
            "count": 0
           },
           {
            "bin_start": -0.3,
            "bin_end": -0.19999999999999996,
            "count": 0
           },
           {
            "bin_start": -0.19999999999999996,
            "bin_end": -0.09999999999999998,
            "count": 0
           },
           {
            "bin_start": -0.09999999999999998,
            "bin_end": 0,
            "count": 0
           },
           {
            "bin_start": 0,
            "bin_end": 0.10000000000000009,
            "count": 5
           },
           {
            "bin_start": 0.10000000000000009,
            "bin_end": 0.20000000000000007,
            "count": 0
           },
           {
            "bin_start": 0.20000000000000007,
            "bin_end": 0.30000000000000004,
            "count": 0
           },
           {
            "bin_start": 0.30000000000000004,
            "bin_end": 0.4,
            "count": 0
           },
           {
            "bin_start": 0.4,
            "bin_end": 0.5,
            "count": 0
           }
          ]
         }
        },
        {
         "name": "AvgQuestionViewCount",
         "dtype": "float64",
         "stats": {
          "unique_count": 1,
          "nan_count": 0,
          "min": "0.0",
          "max": "0.0",
          "histogram": [
           {
            "bin_start": -0.5,
            "bin_end": -0.4,
            "count": 0
           },
           {
            "bin_start": -0.4,
            "bin_end": -0.3,
            "count": 0
           },
           {
            "bin_start": -0.3,
            "bin_end": -0.19999999999999996,
            "count": 0
           },
           {
            "bin_start": -0.19999999999999996,
            "bin_end": -0.09999999999999998,
            "count": 0
           },
           {
            "bin_start": -0.09999999999999998,
            "bin_end": 0,
            "count": 0
           },
           {
            "bin_start": 0,
            "bin_end": 0.10000000000000009,
            "count": 5
           },
           {
            "bin_start": 0.10000000000000009,
            "bin_end": 0.20000000000000007,
            "count": 0
           },
           {
            "bin_start": 0.20000000000000007,
            "bin_end": 0.30000000000000004,
            "count": 0
           },
           {
            "bin_start": 0.30000000000000004,
            "bin_end": 0.4,
            "count": 0
           },
           {
            "bin_start": 0.4,
            "bin_end": 0.5,
            "count": 0
           }
          ]
         }
        },
        {
         "name": "AvgQuestionFavouriteCount",
         "dtype": "float64",
         "stats": {
          "unique_count": 1,
          "nan_count": 0,
          "min": "0.0",
          "max": "0.0",
          "histogram": [
           {
            "bin_start": -0.5,
            "bin_end": -0.4,
            "count": 0
           },
           {
            "bin_start": -0.4,
            "bin_end": -0.3,
            "count": 0
           },
           {
            "bin_start": -0.3,
            "bin_end": -0.19999999999999996,
            "count": 0
           },
           {
            "bin_start": -0.19999999999999996,
            "bin_end": -0.09999999999999998,
            "count": 0
           },
           {
            "bin_start": -0.09999999999999998,
            "bin_end": 0,
            "count": 0
           },
           {
            "bin_start": 0,
            "bin_end": 0.10000000000000009,
            "count": 5
           },
           {
            "bin_start": 0.10000000000000009,
            "bin_end": 0.20000000000000007,
            "count": 0
           },
           {
            "bin_start": 0.20000000000000007,
            "bin_end": 0.30000000000000004,
            "count": 0
           },
           {
            "bin_start": 0.30000000000000004,
            "bin_end": 0.4,
            "count": 0
           },
           {
            "bin_start": 0.4,
            "bin_end": 0.5,
            "count": 0
           }
          ]
         }
        },
        {
         "name": "AvgQuestionCommentCount",
         "dtype": "float64",
         "stats": {
          "unique_count": 1,
          "nan_count": 0,
          "min": "0.0",
          "max": "0.0",
          "histogram": [
           {
            "bin_start": -0.5,
            "bin_end": -0.4,
            "count": 0
           },
           {
            "bin_start": -0.4,
            "bin_end": -0.3,
            "count": 0
           },
           {
            "bin_start": -0.3,
            "bin_end": -0.19999999999999996,
            "count": 0
           },
           {
            "bin_start": -0.19999999999999996,
            "bin_end": -0.09999999999999998,
            "count": 0
           },
           {
            "bin_start": -0.09999999999999998,
            "bin_end": 0,
            "count": 0
           },
           {
            "bin_start": 0,
            "bin_end": 0.10000000000000009,
            "count": 5
           },
           {
            "bin_start": 0.10000000000000009,
            "bin_end": 0.20000000000000007,
            "count": 0
           },
           {
            "bin_start": 0.20000000000000007,
            "bin_end": 0.30000000000000004,
            "count": 0
           },
           {
            "bin_start": 0.30000000000000004,
            "bin_end": 0.4,
            "count": 0
           },
           {
            "bin_start": 0.4,
            "bin_end": 0.5,
            "count": 0
           }
          ]
         }
        },
        {
         "name": "AvgQuestionScore",
         "dtype": "float64",
         "stats": {
          "unique_count": 1,
          "nan_count": 0,
          "min": "0.0",
          "max": "0.0",
          "histogram": [
           {
            "bin_start": -0.5,
            "bin_end": -0.4,
            "count": 0
           },
           {
            "bin_start": -0.4,
            "bin_end": -0.3,
            "count": 0
           },
           {
            "bin_start": -0.3,
            "bin_end": -0.19999999999999996,
            "count": 0
           },
           {
            "bin_start": -0.19999999999999996,
            "bin_end": -0.09999999999999998,
            "count": 0
           },
           {
            "bin_start": -0.09999999999999998,
            "bin_end": 0,
            "count": 0
           },
           {
            "bin_start": 0,
            "bin_end": 0.10000000000000009,
            "count": 5
           },
           {
            "bin_start": 0.10000000000000009,
            "bin_end": 0.20000000000000007,
            "count": 0
           },
           {
            "bin_start": 0.20000000000000007,
            "bin_end": 0.30000000000000004,
            "count": 0
           },
           {
            "bin_start": 0.30000000000000004,
            "bin_end": 0.4,
            "count": 0
           },
           {
            "bin_start": 0.4,
            "bin_end": 0.5,
            "count": 0
           }
          ]
         }
        },
        {
         "name": "AvgAnswerScore",
         "dtype": "float64",
         "stats": {
          "unique_count": 1,
          "nan_count": 0,
          "min": "0.0",
          "max": "0.0",
          "histogram": [
           {
            "bin_start": -0.5,
            "bin_end": -0.4,
            "count": 0
           },
           {
            "bin_start": -0.4,
            "bin_end": -0.3,
            "count": 0
           },
           {
            "bin_start": -0.3,
            "bin_end": -0.19999999999999996,
            "count": 0
           },
           {
            "bin_start": -0.19999999999999996,
            "bin_end": -0.09999999999999998,
            "count": 0
           },
           {
            "bin_start": -0.09999999999999998,
            "bin_end": 0,
            "count": 0
           },
           {
            "bin_start": 0,
            "bin_end": 0.10000000000000009,
            "count": 5
           },
           {
            "bin_start": 0.10000000000000009,
            "bin_end": 0.20000000000000007,
            "count": 0
           },
           {
            "bin_start": 0.20000000000000007,
            "bin_end": 0.30000000000000004,
            "count": 0
           },
           {
            "bin_start": 0.30000000000000004,
            "bin_end": 0.4,
            "count": 0
           },
           {
            "bin_start": 0.4,
            "bin_end": 0.5,
            "count": 0
           }
          ]
         }
        },
        {
         "name": "AvgAnswerCommentCount",
         "dtype": "float64",
         "stats": {
          "unique_count": 1,
          "nan_count": 0,
          "min": "0.0",
          "max": "0.0",
          "histogram": [
           {
            "bin_start": -0.5,
            "bin_end": -0.4,
            "count": 0
           },
           {
            "bin_start": -0.4,
            "bin_end": -0.3,
            "count": 0
           },
           {
            "bin_start": -0.3,
            "bin_end": -0.19999999999999996,
            "count": 0
           },
           {
            "bin_start": -0.19999999999999996,
            "bin_end": -0.09999999999999998,
            "count": 0
           },
           {
            "bin_start": -0.09999999999999998,
            "bin_end": 0,
            "count": 0
           },
           {
            "bin_start": 0,
            "bin_end": 0.10000000000000009,
            "count": 5
           },
           {
            "bin_start": 0.10000000000000009,
            "bin_end": 0.20000000000000007,
            "count": 0
           },
           {
            "bin_start": 0.20000000000000007,
            "bin_end": 0.30000000000000004,
            "count": 0
           },
           {
            "bin_start": 0.30000000000000004,
            "bin_end": 0.4,
            "count": 0
           },
           {
            "bin_start": 0.4,
            "bin_end": 0.5,
            "count": 0
           }
          ]
         }
        },
        {
         "name": "AvgCommentScore",
         "dtype": "float64",
         "stats": {
          "unique_count": 1,
          "nan_count": 0,
          "min": "0.0",
          "max": "0.0",
          "histogram": [
           {
            "bin_start": -0.5,
            "bin_end": -0.4,
            "count": 0
           },
           {
            "bin_start": -0.4,
            "bin_end": -0.3,
            "count": 0
           },
           {
            "bin_start": -0.3,
            "bin_end": -0.19999999999999996,
            "count": 0
           },
           {
            "bin_start": -0.19999999999999996,
            "bin_end": -0.09999999999999998,
            "count": 0
           },
           {
            "bin_start": -0.09999999999999998,
            "bin_end": 0,
            "count": 0
           },
           {
            "bin_start": 0,
            "bin_end": 0.10000000000000009,
            "count": 5
           },
           {
            "bin_start": 0.10000000000000009,
            "bin_end": 0.20000000000000007,
            "count": 0
           },
           {
            "bin_start": 0.20000000000000007,
            "bin_end": 0.30000000000000004,
            "count": 0
           },
           {
            "bin_start": 0.30000000000000004,
            "bin_end": 0.4,
            "count": 0
           },
           {
            "bin_start": 0.4,
            "bin_end": 0.5,
            "count": 0
           }
          ]
         }
        },
        {
         "name": "MonthsActive",
         "dtype": "int64",
         "stats": {
          "unique_count": 1,
          "nan_count": 0,
          "min": "0",
          "max": "0",
          "histogram": [
           {
            "bin_start": -0.5,
            "bin_end": -0.4,
            "count": 0
           },
           {
            "bin_start": -0.4,
            "bin_end": -0.3,
            "count": 0
           },
           {
            "bin_start": -0.3,
            "bin_end": -0.19999999999999996,
            "count": 0
           },
           {
            "bin_start": -0.19999999999999996,
            "bin_end": -0.09999999999999998,
            "count": 0
           },
           {
            "bin_start": -0.09999999999999998,
            "bin_end": 0,
            "count": 0
           },
           {
            "bin_start": 0,
            "bin_end": 0.10000000000000009,
            "count": 5
           },
           {
            "bin_start": 0.10000000000000009,
            "bin_end": 0.20000000000000007,
            "count": 0
           },
           {
            "bin_start": 0.20000000000000007,
            "bin_end": 0.30000000000000004,
            "count": 0
           },
           {
            "bin_start": 0.30000000000000004,
            "bin_end": 0.4,
            "count": 0
           },
           {
            "bin_start": 0.4,
            "bin_end": 0.5,
            "count": 0
           }
          ]
         }
        },
        {
         "name": "MonthsSinceLastActivity",
         "dtype": "int64",
         "stats": {
          "unique_count": 1,
          "nan_count": 0,
          "min": "85",
          "max": "85",
          "histogram": [
           {
            "bin_start": 84.5,
            "bin_end": 84.6,
            "count": 0
           },
           {
            "bin_start": 84.6,
            "bin_end": 84.7,
            "count": 0
           },
           {
            "bin_start": 84.7,
            "bin_end": 84.8,
            "count": 0
           },
           {
            "bin_start": 84.8,
            "bin_end": 84.9,
            "count": 0
           },
           {
            "bin_start": 84.9,
            "bin_end": 85,
            "count": 0
           },
           {
            "bin_start": 85,
            "bin_end": 85.1,
            "count": 5
           },
           {
            "bin_start": 85.1,
            "bin_end": 85.2,
            "count": 0
           },
           {
            "bin_start": 85.2,
            "bin_end": 85.3,
            "count": 0
           },
           {
            "bin_start": 85.3,
            "bin_end": 85.4,
            "count": 0
           },
           {
            "bin_start": 85.4,
            "bin_end": 85.5,
            "count": 0
           }
          ]
         }
        },
        {
         "name": "MonthsSinceJoined",
         "dtype": "int64",
         "stats": {
          "unique_count": 1,
          "nan_count": 0,
          "min": "85",
          "max": "85",
          "histogram": [
           {
            "bin_start": 84.5,
            "bin_end": 84.6,
            "count": 0
           },
           {
            "bin_start": 84.6,
            "bin_end": 84.7,
            "count": 0
           },
           {
            "bin_start": 84.7,
            "bin_end": 84.8,
            "count": 0
           },
           {
            "bin_start": 84.8,
            "bin_end": 84.9,
            "count": 0
           },
           {
            "bin_start": 84.9,
            "bin_end": 85,
            "count": 0
           },
           {
            "bin_start": 85,
            "bin_end": 85.1,
            "count": 5
           },
           {
            "bin_start": 85.1,
            "bin_end": 85.2,
            "count": 0
           },
           {
            "bin_start": 85.2,
            "bin_end": 85.3,
            "count": 0
           },
           {
            "bin_start": 85.3,
            "bin_end": 85.4,
            "count": 0
           },
           {
            "bin_start": 85.4,
            "bin_end": 85.5,
            "count": 0
           }
          ]
         }
        },
        {
         "name": "disengaged",
         "dtype": "int64",
         "stats": {
          "unique_count": 1,
          "nan_count": 0,
          "min": "1",
          "max": "1",
          "histogram": [
           {
            "bin_start": 0.5,
            "bin_end": 0.6,
            "count": 0
           },
           {
            "bin_start": 0.6,
            "bin_end": 0.7,
            "count": 0
           },
           {
            "bin_start": 0.7,
            "bin_end": 0.8,
            "count": 0
           },
           {
            "bin_start": 0.8,
            "bin_end": 0.9,
            "count": 0
           },
           {
            "bin_start": 0.9,
            "bin_end": 1,
            "count": 0
           },
           {
            "bin_start": 1,
            "bin_end": 1.1,
            "count": 5
           },
           {
            "bin_start": 1.1,
            "bin_end": 1.2000000000000002,
            "count": 0
           },
           {
            "bin_start": 1.2000000000000002,
            "bin_end": 1.3,
            "count": 0
           },
           {
            "bin_start": 1.3,
            "bin_end": 1.4,
            "count": 0
           },
           {
            "bin_start": 1.4,
            "bin_end": 1.5,
            "count": 0
           }
          ]
         }
        },
        {
         "name": "_deepnote_index_column",
         "dtype": "int64"
        }
       ],
       "rows": [
        {
         "UserId": 60,
         "CreationDate": "2014-05-14 00:56:07",
         "CastDownVotes": 0,
         "CastUpVotes": 0,
         "ProfileViews": 1,
         "LastAccessDate": "2014-05-14 00:56:07",
         "QuestionCount": 0,
         "AnswerCount": 0,
         "CommentCount": 0,
         "AvgQuestionViewCount": 0,
         "AvgQuestionFavouriteCount": 0,
         "AvgQuestionCommentCount": 0,
         "AvgQuestionScore": 0,
         "AvgAnswerScore": 0,
         "AvgAnswerCommentCount": 0,
         "AvgCommentScore": 0,
         "MonthsActive": 0,
         "MonthsSinceLastActivity": 85,
         "MonthsSinceJoined": 85,
         "disengaged": 1,
         "_deepnote_index_column": 0
        },
        {
         "UserId": 67,
         "CreationDate": "2014-05-14 01:29:11",
         "CastDownVotes": 0,
         "CastUpVotes": 0,
         "ProfileViews": 1,
         "LastAccessDate": "2014-05-14 02:03:08",
         "QuestionCount": 0,
         "AnswerCount": 0,
         "CommentCount": 0,
         "AvgQuestionViewCount": 0,
         "AvgQuestionFavouriteCount": 0,
         "AvgQuestionCommentCount": 0,
         "AvgQuestionScore": 0,
         "AvgAnswerScore": 0,
         "AvgAnswerCommentCount": 0,
         "AvgCommentScore": 0,
         "MonthsActive": 0,
         "MonthsSinceLastActivity": 85,
         "MonthsSinceJoined": 85,
         "disengaged": 1,
         "_deepnote_index_column": 1
        },
        {
         "UserId": 69,
         "CreationDate": "2014-05-14 01:40:28",
         "CastDownVotes": 0,
         "CastUpVotes": 1,
         "ProfileViews": 1,
         "LastAccessDate": "2014-05-14 04:26:39",
         "QuestionCount": 0,
         "AnswerCount": 0,
         "CommentCount": 0,
         "AvgQuestionViewCount": 0,
         "AvgQuestionFavouriteCount": 0,
         "AvgQuestionCommentCount": 0,
         "AvgQuestionScore": 0,
         "AvgAnswerScore": 0,
         "AvgAnswerCommentCount": 0,
         "AvgCommentScore": 0,
         "MonthsActive": 0,
         "MonthsSinceLastActivity": 85,
         "MonthsSinceJoined": 85,
         "disengaged": 1,
         "_deepnote_index_column": 2
        },
        {
         "UserId": 93,
         "CreationDate": "2014-05-14 05:23:16",
         "CastDownVotes": 0,
         "CastUpVotes": 0,
         "ProfileViews": 2,
         "LastAccessDate": "2014-05-14 05:23:16",
         "QuestionCount": 0,
         "AnswerCount": 0,
         "CommentCount": 0,
         "AvgQuestionViewCount": 0,
         "AvgQuestionFavouriteCount": 0,
         "AvgQuestionCommentCount": 0,
         "AvgQuestionScore": 0,
         "AvgAnswerScore": 0,
         "AvgAnswerCommentCount": 0,
         "AvgCommentScore": 0,
         "MonthsActive": 0,
         "MonthsSinceLastActivity": 85,
         "MonthsSinceJoined": 85,
         "disengaged": 1,
         "_deepnote_index_column": 3
        },
        {
         "UserId": 99,
         "CreationDate": "2014-05-14 05:44:39",
         "CastDownVotes": 0,
         "CastUpVotes": 0,
         "ProfileViews": 1,
         "LastAccessDate": "2014-05-14 09:24:43",
         "QuestionCount": 0,
         "AnswerCount": 0,
         "CommentCount": 0,
         "AvgQuestionViewCount": 0,
         "AvgQuestionFavouriteCount": 0,
         "AvgQuestionCommentCount": 0,
         "AvgQuestionScore": 0,
         "AvgAnswerScore": 0,
         "AvgAnswerCommentCount": 0,
         "AvgCommentScore": 0,
         "MonthsActive": 0,
         "MonthsSinceLastActivity": 85,
         "MonthsSinceJoined": 85,
         "disengaged": 1,
         "_deepnote_index_column": 4
        }
       ]
      },
      "text/plain": "   UserId         CreationDate  CastDownVotes  CastUpVotes  ProfileViews  \\\n0      60  2014-05-14 00:56:07              0            0             1   \n1      67  2014-05-14 01:29:11              0            0             1   \n2      69  2014-05-14 01:40:28              0            1             1   \n3      93  2014-05-14 05:23:16              0            0             2   \n4      99  2014-05-14 05:44:39              0            0             1   \n\n        LastAccessDate  QuestionCount  AnswerCount  CommentCount  \\\n0  2014-05-14 00:56:07              0            0             0   \n1  2014-05-14 02:03:08              0            0             0   \n2  2014-05-14 04:26:39              0            0             0   \n3  2014-05-14 05:23:16              0            0             0   \n4  2014-05-14 09:24:43              0            0             0   \n\n   AvgQuestionViewCount  AvgQuestionFavouriteCount  AvgQuestionCommentCount  \\\n0                   0.0                        0.0                      0.0   \n1                   0.0                        0.0                      0.0   \n2                   0.0                        0.0                      0.0   \n3                   0.0                        0.0                      0.0   \n4                   0.0                        0.0                      0.0   \n\n   AvgQuestionScore  AvgAnswerScore  AvgAnswerCommentCount  AvgCommentScore  \\\n0               0.0             0.0                    0.0              0.0   \n1               0.0             0.0                    0.0              0.0   \n2               0.0             0.0                    0.0              0.0   \n3               0.0             0.0                    0.0              0.0   \n4               0.0             0.0                    0.0              0.0   \n\n   MonthsActive  MonthsSinceLastActivity  MonthsSinceJoined  disengaged  \n0             0                       85                 85           1  \n1             0                       85                 85           1  \n2             0                       85                 85           1  \n3             0                       85                 85           1  \n4             0                       85                 85           1  ",
      "text/html": "<div>\n<style scoped>\n    .dataframe tbody tr th:only-of-type {\n        vertical-align: middle;\n    }\n\n    .dataframe tbody tr th {\n        vertical-align: top;\n    }\n\n    .dataframe thead th {\n        text-align: right;\n    }\n</style>\n<table border=\"1\" class=\"dataframe\">\n  <thead>\n    <tr style=\"text-align: right;\">\n      <th></th>\n      <th>UserId</th>\n      <th>CreationDate</th>\n      <th>CastDownVotes</th>\n      <th>CastUpVotes</th>\n      <th>ProfileViews</th>\n      <th>LastAccessDate</th>\n      <th>QuestionCount</th>\n      <th>AnswerCount</th>\n      <th>CommentCount</th>\n      <th>AvgQuestionViewCount</th>\n      <th>AvgQuestionFavouriteCount</th>\n      <th>AvgQuestionCommentCount</th>\n      <th>AvgQuestionScore</th>\n      <th>AvgAnswerScore</th>\n      <th>AvgAnswerCommentCount</th>\n      <th>AvgCommentScore</th>\n      <th>MonthsActive</th>\n      <th>MonthsSinceLastActivity</th>\n      <th>MonthsSinceJoined</th>\n      <th>disengaged</th>\n    </tr>\n  </thead>\n  <tbody>\n    <tr>\n      <th>0</th>\n      <td>60</td>\n      <td>2014-05-14 00:56:07</td>\n      <td>0</td>\n      <td>0</td>\n      <td>1</td>\n      <td>2014-05-14 00:56:07</td>\n      <td>0</td>\n      <td>0</td>\n      <td>0</td>\n      <td>0.0</td>\n      <td>0.0</td>\n      <td>0.0</td>\n      <td>0.0</td>\n      <td>0.0</td>\n      <td>0.0</td>\n      <td>0.0</td>\n      <td>0</td>\n      <td>85</td>\n      <td>85</td>\n      <td>1</td>\n    </tr>\n    <tr>\n      <th>1</th>\n      <td>67</td>\n      <td>2014-05-14 01:29:11</td>\n      <td>0</td>\n      <td>0</td>\n      <td>1</td>\n      <td>2014-05-14 02:03:08</td>\n      <td>0</td>\n      <td>0</td>\n      <td>0</td>\n      <td>0.0</td>\n      <td>0.0</td>\n      <td>0.0</td>\n      <td>0.0</td>\n      <td>0.0</td>\n      <td>0.0</td>\n      <td>0.0</td>\n      <td>0</td>\n      <td>85</td>\n      <td>85</td>\n      <td>1</td>\n    </tr>\n    <tr>\n      <th>2</th>\n      <td>69</td>\n      <td>2014-05-14 01:40:28</td>\n      <td>0</td>\n      <td>1</td>\n      <td>1</td>\n      <td>2014-05-14 04:26:39</td>\n      <td>0</td>\n      <td>0</td>\n      <td>0</td>\n      <td>0.0</td>\n      <td>0.0</td>\n      <td>0.0</td>\n      <td>0.0</td>\n      <td>0.0</td>\n      <td>0.0</td>\n      <td>0.0</td>\n      <td>0</td>\n      <td>85</td>\n      <td>85</td>\n      <td>1</td>\n    </tr>\n    <tr>\n      <th>3</th>\n      <td>93</td>\n      <td>2014-05-14 05:23:16</td>\n      <td>0</td>\n      <td>0</td>\n      <td>2</td>\n      <td>2014-05-14 05:23:16</td>\n      <td>0</td>\n      <td>0</td>\n      <td>0</td>\n      <td>0.0</td>\n      <td>0.0</td>\n      <td>0.0</td>\n      <td>0.0</td>\n      <td>0.0</td>\n      <td>0.0</td>\n      <td>0.0</td>\n      <td>0</td>\n      <td>85</td>\n      <td>85</td>\n      <td>1</td>\n    </tr>\n    <tr>\n      <th>4</th>\n      <td>99</td>\n      <td>2014-05-14 05:44:39</td>\n      <td>0</td>\n      <td>0</td>\n      <td>1</td>\n      <td>2014-05-14 09:24:43</td>\n      <td>0</td>\n      <td>0</td>\n      <td>0</td>\n      <td>0.0</td>\n      <td>0.0</td>\n      <td>0.0</td>\n      <td>0.0</td>\n      <td>0.0</td>\n      <td>0.0</td>\n      <td>0.0</td>\n      <td>0</td>\n      <td>85</td>\n      <td>85</td>\n      <td>1</td>\n    </tr>\n  </tbody>\n</table>\n</div>"
     },
     "metadata": {}
    }
   ]
  },
  {
   "cell_type": "code",
   "metadata": {
    "cell_id": "00006-25ba4fd8-66eb-4a26-843b-ba0b5b5f34ad",
    "deepnote_to_be_reexecuted": false,
    "source_hash": "e2ff3a61",
    "execution_start": 1654251590918,
    "execution_millis": 66,
    "deepnote_cell_type": "code",
    "deepnote_cell_height": 862.6666870117188,
    "deepnote_output_heights": [
     392
    ]
   },
   "source": "features = ['CastDownVotes', 'CastUpVotes', 'QuestionCount', 'AnswerCount', 'CommentCount']\n\ntime_column = \"MonthsActive\"\nevent_column = \"disengaged\"\n\nraw_dataset_cut = raw_dataset.copy()[features + [time_column, event_column]]\nraw_dataset_cut = raw_dataset_cut[((raw_dataset_cut['QuestionCount'] > 0) | \\\n                                  (raw_dataset_cut['AnswerCount'] > 0) |\n                                  (raw_dataset_cut['CommentCount'] > 0) |\n                                  (raw_dataset_cut['CastDownVotes'] > 0) |\n                                  (raw_dataset_cut['CastUpVotes'] > 0))|\n                                  True]\n\nraw_dataset_cut.reset_index(inplace=True)\nraw_dataset_cut",
   "execution_count": null,
   "outputs": [
    {
     "output_type": "execute_result",
     "execution_count": 7,
     "data": {
      "application/vnd.deepnote.dataframe.v3+json": {
       "column_count": 8,
       "row_count": 100581,
       "columns": [
        {
         "name": "index",
         "dtype": "int64"
        },
        {
         "name": "CastDownVotes",
         "dtype": "int64"
        },
        {
         "name": "CastUpVotes",
         "dtype": "int64"
        },
        {
         "name": "QuestionCount",
         "dtype": "int64"
        },
        {
         "name": "AnswerCount",
         "dtype": "int64"
        },
        {
         "name": "CommentCount",
         "dtype": "int64"
        },
        {
         "name": "MonthsActive",
         "dtype": "int64"
        },
        {
         "name": "disengaged",
         "dtype": "int64"
        },
        {
         "name": "_deepnote_index_column",
         "dtype": "int64"
        }
       ],
       "rows": [
        {
         "index": 0,
         "CastDownVotes": 0,
         "CastUpVotes": 0,
         "QuestionCount": 0,
         "AnswerCount": 0,
         "CommentCount": 0,
         "MonthsActive": 0,
         "disengaged": 1,
         "_deepnote_index_column": 0
        },
        {
         "index": 1,
         "CastDownVotes": 0,
         "CastUpVotes": 0,
         "QuestionCount": 0,
         "AnswerCount": 0,
         "CommentCount": 0,
         "MonthsActive": 0,
         "disengaged": 1,
         "_deepnote_index_column": 1
        },
        {
         "index": 2,
         "CastDownVotes": 0,
         "CastUpVotes": 1,
         "QuestionCount": 0,
         "AnswerCount": 0,
         "CommentCount": 0,
         "MonthsActive": 0,
         "disengaged": 1,
         "_deepnote_index_column": 2
        },
        {
         "index": 3,
         "CastDownVotes": 0,
         "CastUpVotes": 0,
         "QuestionCount": 0,
         "AnswerCount": 0,
         "CommentCount": 0,
         "MonthsActive": 0,
         "disengaged": 1,
         "_deepnote_index_column": 3
        },
        {
         "index": 4,
         "CastDownVotes": 0,
         "CastUpVotes": 0,
         "QuestionCount": 0,
         "AnswerCount": 0,
         "CommentCount": 0,
         "MonthsActive": 0,
         "disengaged": 1,
         "_deepnote_index_column": 4
        },
        {
         "index": 5,
         "CastDownVotes": 0,
         "CastUpVotes": 0,
         "QuestionCount": 0,
         "AnswerCount": 0,
         "CommentCount": 0,
         "MonthsActive": 0,
         "disengaged": 1,
         "_deepnote_index_column": 5
        },
        {
         "index": 6,
         "CastDownVotes": 0,
         "CastUpVotes": 0,
         "QuestionCount": 0,
         "AnswerCount": 0,
         "CommentCount": 0,
         "MonthsActive": 0,
         "disengaged": 1,
         "_deepnote_index_column": 6
        },
        {
         "index": 7,
         "CastDownVotes": 0,
         "CastUpVotes": 0,
         "QuestionCount": 0,
         "AnswerCount": 0,
         "CommentCount": 0,
         "MonthsActive": 0,
         "disengaged": 1,
         "_deepnote_index_column": 7
        },
        {
         "index": 8,
         "CastDownVotes": 0,
         "CastUpVotes": 0,
         "QuestionCount": 0,
         "AnswerCount": 0,
         "CommentCount": 0,
         "MonthsActive": 0,
         "disengaged": 1,
         "_deepnote_index_column": 8
        },
        {
         "index": 9,
         "CastDownVotes": 0,
         "CastUpVotes": 1,
         "QuestionCount": 0,
         "AnswerCount": 0,
         "CommentCount": 0,
         "MonthsActive": 0,
         "disengaged": 1,
         "_deepnote_index_column": 9
        }
       ]
      },
      "text/plain": "         index  CastDownVotes  CastUpVotes  QuestionCount  AnswerCount  \\\n0            0              0            0              0            0   \n1            1              0            0              0            0   \n2            2              0            1              0            0   \n3            3              0            0              0            0   \n4            4              0            0              0            0   \n...        ...            ...          ...            ...          ...   \n100576  100576            717         1983              0           28   \n100577  100577              0            7              1            1   \n100578  100578              0            2              0            1   \n100579  100579              0            0              0            0   \n100580  100580              0         4815             24          345   \n\n        CommentCount  MonthsActive  disengaged  \n0                  0             0           1  \n1                  0             0           1  \n2                  0             0           1  \n3                  0             0           1  \n4                  0             0           1  \n...              ...           ...         ...  \n100576            91            50           0  \n100577             0            18           0  \n100578             0            28           0  \n100579             0            37           0  \n100580           882            52           0  \n\n[100581 rows x 8 columns]",
      "text/html": "<div>\n<style scoped>\n    .dataframe tbody tr th:only-of-type {\n        vertical-align: middle;\n    }\n\n    .dataframe tbody tr th {\n        vertical-align: top;\n    }\n\n    .dataframe thead th {\n        text-align: right;\n    }\n</style>\n<table border=\"1\" class=\"dataframe\">\n  <thead>\n    <tr style=\"text-align: right;\">\n      <th></th>\n      <th>index</th>\n      <th>CastDownVotes</th>\n      <th>CastUpVotes</th>\n      <th>QuestionCount</th>\n      <th>AnswerCount</th>\n      <th>CommentCount</th>\n      <th>MonthsActive</th>\n      <th>disengaged</th>\n    </tr>\n  </thead>\n  <tbody>\n    <tr>\n      <th>0</th>\n      <td>0</td>\n      <td>0</td>\n      <td>0</td>\n      <td>0</td>\n      <td>0</td>\n      <td>0</td>\n      <td>0</td>\n      <td>1</td>\n    </tr>\n    <tr>\n      <th>1</th>\n      <td>1</td>\n      <td>0</td>\n      <td>0</td>\n      <td>0</td>\n      <td>0</td>\n      <td>0</td>\n      <td>0</td>\n      <td>1</td>\n    </tr>\n    <tr>\n      <th>2</th>\n      <td>2</td>\n      <td>0</td>\n      <td>1</td>\n      <td>0</td>\n      <td>0</td>\n      <td>0</td>\n      <td>0</td>\n      <td>1</td>\n    </tr>\n    <tr>\n      <th>3</th>\n      <td>3</td>\n      <td>0</td>\n      <td>0</td>\n      <td>0</td>\n      <td>0</td>\n      <td>0</td>\n      <td>0</td>\n      <td>1</td>\n    </tr>\n    <tr>\n      <th>4</th>\n      <td>4</td>\n      <td>0</td>\n      <td>0</td>\n      <td>0</td>\n      <td>0</td>\n      <td>0</td>\n      <td>0</td>\n      <td>1</td>\n    </tr>\n    <tr>\n      <th>...</th>\n      <td>...</td>\n      <td>...</td>\n      <td>...</td>\n      <td>...</td>\n      <td>...</td>\n      <td>...</td>\n      <td>...</td>\n      <td>...</td>\n    </tr>\n    <tr>\n      <th>100576</th>\n      <td>100576</td>\n      <td>717</td>\n      <td>1983</td>\n      <td>0</td>\n      <td>28</td>\n      <td>91</td>\n      <td>50</td>\n      <td>0</td>\n    </tr>\n    <tr>\n      <th>100577</th>\n      <td>100577</td>\n      <td>0</td>\n      <td>7</td>\n      <td>1</td>\n      <td>1</td>\n      <td>0</td>\n      <td>18</td>\n      <td>0</td>\n    </tr>\n    <tr>\n      <th>100578</th>\n      <td>100578</td>\n      <td>0</td>\n      <td>2</td>\n      <td>0</td>\n      <td>1</td>\n      <td>0</td>\n      <td>28</td>\n      <td>0</td>\n    </tr>\n    <tr>\n      <th>100579</th>\n      <td>100579</td>\n      <td>0</td>\n      <td>0</td>\n      <td>0</td>\n      <td>0</td>\n      <td>0</td>\n      <td>37</td>\n      <td>0</td>\n    </tr>\n    <tr>\n      <th>100580</th>\n      <td>100580</td>\n      <td>0</td>\n      <td>4815</td>\n      <td>24</td>\n      <td>345</td>\n      <td>882</td>\n      <td>52</td>\n      <td>0</td>\n    </tr>\n  </tbody>\n</table>\n<p>100581 rows × 8 columns</p>\n</div>"
     },
     "metadata": {}
    }
   ]
  },
  {
   "cell_type": "code",
   "metadata": {
    "cell_id": "00007-e429b876-7602-4360-bca1-b78c7b8faf38",
    "deepnote_to_be_reexecuted": false,
    "source_hash": "562e291c",
    "execution_start": 1654251591087,
    "execution_millis": 1,
    "deepnote_cell_type": "code",
    "deepnote_cell_height": 134.8333282470703
   },
   "source": "raw_dataset_cut_original = raw_dataset_cut.copy() \nraw_dataset_cut = raw_dataset_cut[features].transform(lambda x: x)#np.log(x+1))\nraw_dataset_cut[time_column] = raw_dataset_cut_original[time_column].values\nraw_dataset_cut[event_column] = raw_dataset_cut_original[event_column].values",
   "execution_count": null,
   "outputs": []
  },
  {
   "cell_type": "code",
   "metadata": {
    "cell_id": "00008-0258aa4a-cfbb-4968-88c7-69db0679f834",
    "deepnote_to_be_reexecuted": false,
    "source_hash": "1ae644f0",
    "execution_start": 1654251591089,
    "execution_millis": 630,
    "deepnote_cell_type": "code",
    "deepnote_cell_height": 361.41668701171875
   },
   "source": "from sklearn.model_selection import train_test_split\nfrom sklearn.model_selection import KFold\nfrom pysurvival.models.simulations import SimulationModel\nfrom pysurvival.models.multi_task import NeuralMultiTaskModel\nfrom pysurvival.utils.metrics import concordance_index\nfrom pysurvival.models.semi_parametric import CoxPHModel\nfrom pysurvival.utils.display import integrated_brier_score\nfrom pysurvival.models.survival_forest import ConditionalSurvivalForestModel\nfrom pysurvival.models.non_parametric import KaplanMeierModel\nfrom pysurvival.utils.display import display_non_parametric\n%pylab inline",
   "execution_count": null,
   "outputs": [
    {
     "name": "stdout",
     "text": "Populating the interactive namespace from numpy and matplotlib\n/shared-libs/python3.7/py-core/lib/python3.7/site-packages/IPython/core/magics/pylab.py:160: UserWarning: pylab import has clobbered these variables: ['f']\n`%matplotlib` prevents importing * from pylab and numpy\n  \"\\n`%matplotlib` prevents importing * from pylab and numpy\"\n",
     "output_type": "stream"
    }
   ]
  },
  {
   "cell_type": "code",
   "metadata": {
    "cell_id": "00009-59948348-1aad-4a4d-9a6e-d859175dada0",
    "deepnote_to_be_reexecuted": false,
    "source_hash": "17199da4",
    "execution_start": 1654251591090,
    "execution_millis": 0,
    "deepnote_cell_type": "code",
    "deepnote_cell_height": 152.8333282470703
   },
   "source": "question_dataset = raw_dataset_cut.copy()\nanswer_dataset = raw_dataset_cut.copy()\ncomment_dataset = raw_dataset_cut.copy()\nupvote_dataset = raw_dataset_cut.copy()\ndownvote_dataset = raw_dataset_cut.copy()",
   "execution_count": null,
   "outputs": []
  },
  {
   "cell_type": "code",
   "metadata": {
    "cell_id": "00010-b124b932-9bbc-465b-8aaa-8254f8d30fed",
    "deepnote_to_be_reexecuted": false,
    "source_hash": "9c34eb6b",
    "execution_start": 1654251591193,
    "execution_millis": 1,
    "deepnote_cell_type": "code",
    "deepnote_cell_height": 314.83331298828125
   },
   "source": "question_dataset.sort_values('QuestionCount', ascending=False, inplace=True)\nquestion_dataset.reset_index(inplace=True)\n\nanswer_dataset.sort_values('AnswerCount', ascending=False, inplace=True)\nanswer_dataset.reset_index(inplace=True)\n\ncomment_dataset.sort_values('CommentCount', ascending=False, inplace=True)\ncomment_dataset.reset_index(inplace=True)\n\nupvote_dataset.sort_values('CastUpVotes', ascending=False, inplace=True)\nupvote_dataset.reset_index(inplace=True)\n\ndownvote_dataset.sort_values('CastDownVotes', ascending=False, inplace=True)\ndownvote_dataset.reset_index(inplace=True)",
   "execution_count": null,
   "outputs": []
  },
  {
   "cell_type": "code",
   "metadata": {
    "cell_id": "00011-d87da2a5-3774-40f6-8e17-8b6e76477d0e",
    "deepnote_to_be_reexecuted": false,
    "source_hash": "53dffc6e",
    "execution_start": 1654251591194,
    "execution_millis": 160,
    "deepnote_cell_type": "code",
    "deepnote_cell_height": 1088.8333740234375
   },
   "source": "from lifelines import KaplanMeierFitter\nfrom lifelines.statistics import logrank_test\n\npercent = 5\n\nx = math.ceil((question_dataset.shape[0]*percent)/100.0)\n\ntop_q = question_dataset.head(x)\nbottom_q = question_dataset.tail(x)\nT_top_q, T_bottom_q = top_q[time_column], bottom_q[time_column]\nE_top_q, E_bottom_q = top_q[event_column], bottom_q[event_column]\n\ntop_a = answer_dataset.head(x)\nbottom_a = answer_dataset.tail(x)\nT_top_a, T_bottom_a = top_a[time_column], bottom_a[time_column]\nE_top_a, E_bottom_a = top_a[event_column], bottom_a[event_column]\n\ntop_c = comment_dataset.head(x)\nbottom_c = comment_dataset.tail(x)\nT_top_c, T_bottom_c = top_c[time_column], bottom_c[time_column]\nE_top_c, E_bottom_c = top_c[event_column], bottom_c[event_column]\n\ntop_uv = upvote_dataset.head(x)\nbottom_uv = upvote_dataset.tail(x)\nT_top_uv, T_bottom_uv = top_uv[time_column], bottom_uv[time_column]\nE_top_uv, E_bottom_uv = top_uv[event_column], bottom_uv[event_column]\n\ntop_dv = downvote_dataset.head(x)\nbottom_dv = downvote_dataset.tail(x)\nT_top_dv, T_bottom_dv = top_dv[time_column], bottom_dv[time_column]\nE_top_dv, E_bottom_dv = top_dv[event_column], bottom_dv[event_column]\n\n# User behavioural attributes importance analysis for predicting the probability of disengagement over time  \none_or_more_q = question_dataset[(question_dataset['QuestionCount'] > 0)]\nno_q = question_dataset[(question_dataset['QuestionCount'] == 0)]\nT_one_or_more_q, T_no_q = one_or_more_q[time_column], no_q[time_column]\nE_one_or_more_q, E_no_q = one_or_more_q[event_column], no_q[event_column]\n\none_or_more_a = answer_dataset[(answer_dataset['AnswerCount'] > 0)]\nno_a = answer_dataset[(answer_dataset['AnswerCount'] == 0)]\nT_one_or_more_a, T_no_a = one_or_more_a[time_column], no_a[time_column]\nE_one_or_more_a, E_no_a = one_or_more_a[event_column], no_a[event_column]\n\none_or_more_c = comment_dataset[(comment_dataset['CommentCount'] > 0)]\nno_c = comment_dataset[(comment_dataset['CommentCount'] == 0)]\nT_one_or_more_c, T_no_c = one_or_more_c[time_column], no_c[time_column]\nE_one_or_more_c, E_no_c = one_or_more_c[event_column], no_c[event_column]\n\none_or_more_uv = upvote_dataset[(upvote_dataset['CastUpVotes'] > 0)]\nno_uv = upvote_dataset[(upvote_dataset['CastUpVotes'] == 0)]\nT_one_or_more_uv, T_no_uv = one_or_more_uv[time_column], no_uv[time_column]\nE_one_or_more_uv, E_no_uv = one_or_more_uv[event_column], no_uv[event_column]\n\none_or_more_dv = downvote_dataset[(downvote_dataset['CastDownVotes'] > 0)]\nno_dv = downvote_dataset[(downvote_dataset['CastDownVotes'] == 0)]\nT_one_or_more_dv, T_no_dv = one_or_more_dv[time_column], no_dv[time_column]\nE_one_or_more_dv, E_no_dv = one_or_more_dv[event_column], no_dv[event_column]",
   "execution_count": null,
   "outputs": []
  },
  {
   "cell_type": "code",
   "metadata": {
    "cell_id": "00012-5a2fa92e-b086-4eb6-817f-1ee42be7897f",
    "deepnote_to_be_reexecuted": false,
    "source_hash": "13b3a00b",
    "execution_start": 1654251591434,
    "execution_millis": 342,
    "deepnote_cell_type": "code",
    "deepnote_cell_height": 792.75,
    "deepnote_output_heights": [
     264
    ]
   },
   "source": "kmf = KaplanMeierFitter()\n\nax = plt.subplot(111)\n# ax = kmf.fit(T_top_q, E_top_q, label=\"User with top-{0}% of questions\".format(percent)).plot(ax=ax)\n# ax = kmf.fit(T_top_a, E_top_a, label=\"User with top-{0}% of answers\".format(percent)).plot(ax=ax)\n# ax = kmf.fit(T_top_c, E_top_c, label=\"User with top-{0}% of comments\".format(percent)).plot(ax=ax)\n# ax = kmf.fit(T_top_uv, E_top_uv, label=\"User with top-{0}% of upvotes\".format(percent)).plot(ax=ax)\n# ax = kmf.fit(T_top_dv, E_top_dv, label=\"User with top-{0}% of downvotes\".format(percent)).plot(ax=ax)\n\nax = kmf.fit(T_one_or_more_q, E_one_or_more_q, label=\"Users who posted at least one question\".format(percent)).plot(ax=ax)\nax = kmf.fit(T_no_q, E_no_q, label=\"Users who asked no question\".format(percent)).plot(ax=ax)\n\n#ax = kmf.fit(T_one_or_more_a, E_one_or_more_a, label=\"Users who posted at least one answer\".format(percent)).plot(ax=ax)\n#ax = kmf.fit(T_no_a, E_no_a, label=\"Users who answered no question\".format(percent)).plot(ax=ax)\n\n#ax = kmf.fit(T_one_or_more_c, E_one_or_more_c, label=\"Users who posted at least one comment\".format(percent)).plot(ax=ax)\n#ax = kmf.fit(T_no_c, E_no_c, label=\"Users who posted no comments\".format(percent)).plot(ax=ax)\n\n#ax = kmf.fit(T_one_or_more_uv, E_one_or_more_uv, label=\"Users who upvoted at least once\".format(percent)).plot(ax=ax)\n#ax = kmf.fit(T_no_uv, E_no_uv, label=\"Users who did not upvote\".format(percent)).plot(ax=ax)\n\n#ax = kmf.fit(T_one_or_more_dv, E_one_or_more_dv, label=\"Users who downvoted at least once\".format(percent)).plot(ax=ax)\n#ax = kmf.fit(T_no_dv, E_no_dv, label=\"Users who did not downvote\".format(percent)).plot(ax=ax)\n\ntikzplotlib.save(\"figures/tikz/cs/36/survial_curve_questions_36.tikz\")",
   "execution_count": null,
   "outputs": [
    {
     "data": {
      "text/plain": "<Figure size 432x288 with 1 Axes>",
      "image/png": "[encoded data removed]"
     },
     "metadata": {
      "needs_background": "light",
      "image/png": {
       "width": 372,
       "height": 262
      }
     },
     "output_type": "display_data"
    }
   ]
  },
  {
   "cell_type": "code",
   "metadata": {
    "cell_id": "00013-1e309738-52ef-4ed9-822d-62fa21db1d9f",
    "deepnote_to_be_reexecuted": false,
    "source_hash": "7a392f3a",
    "execution_start": 1654251591785,
    "execution_millis": 90,
    "deepnote_cell_type": "code",
    "deepnote_cell_height": 327.75,
    "deepnote_output_heights": [
     177
    ]
   },
   "source": "# logrank_test for questions\nresults = logrank_test(T_one_or_more_q, T_no_q, \n                       event_observed_A=E_one_or_more_q, event_observed_B=E_no_q)\nresults.print_summary()",
   "execution_count": null,
   "outputs": [
    {
     "data": {
      "text/plain": "<lifelines.StatisticalResult: logrank_test>\n               t_0 = -1\n null_distribution = chi squared\ndegrees_of_freedom = 1\n         test_name = logrank_test\n\n---\n test_statistic      p  -log2(p)\n        1528.57 <0.005       inf",
      "text/html": "<div>\n<style scoped>\n    .dataframe tbody tr th:only-of-type {\n        vertical-align: middle;\n    }\n\n    .dataframe tbody tr th {\n        vertical-align: top;\n    }\n\n    .dataframe thead th {\n        text-align: right;\n    }\n</style>\n<table border=\"1\" class=\"dataframe\">\n  <tbody>\n    <tr>\n      <th>t_0</th>\n      <td>-1</td>\n    </tr>\n    <tr>\n      <th>null_distribution</th>\n      <td>chi squared</td>\n    </tr>\n    <tr>\n      <th>degrees_of_freedom</th>\n      <td>1</td>\n    </tr>\n    <tr>\n      <th>test_name</th>\n      <td>logrank_test</td>\n    </tr>\n  </tbody>\n</table>\n</div><table border=\"1\" class=\"dataframe\">\n  <thead>\n    <tr style=\"text-align: right;\">\n      <th></th>\n      <th>test_statistic</th>\n      <th>p</th>\n      <th>-log2(p)</th>\n    </tr>\n  </thead>\n  <tbody>\n    <tr>\n      <th>0</th>\n      <td>1528.57</td>\n      <td>&lt;0.005</td>\n      <td>inf</td>\n    </tr>\n  </tbody>\n</table>",
      "text/latex": "\\begin{tabular}{lrrr}\n\\toprule\n{} &  test\\_statistic &    p &  -log2(p) \\\\\n\\midrule\n0 &     1528.570198 &  0.0 &       inf \\\\\n\\bottomrule\n\\end{tabular}\n"
     },
     "metadata": {},
     "output_type": "display_data"
    }
   ]
  },
  {
   "cell_type": "code",
   "metadata": {
    "cell_id": "00014-90e0a8cb-0845-4da3-a99a-84ab52d0db47",
    "deepnote_to_be_reexecuted": false,
    "source_hash": "ee192581",
    "execution_start": 1654251591873,
    "execution_millis": 55,
    "deepnote_cell_type": "code",
    "deepnote_cell_height": 327.75,
    "deepnote_output_heights": [
     177
    ]
   },
   "source": "# logrank_test for answers\nresults = logrank_test(T_one_or_more_a, T_no_a, \n                       event_observed_A=E_one_or_more_a, event_observed_B=E_no_a)\nresults.print_summary()",
   "execution_count": null,
   "outputs": [
    {
     "data": {
      "text/plain": "<lifelines.StatisticalResult: logrank_test>\n               t_0 = -1\n null_distribution = chi squared\ndegrees_of_freedom = 1\n         test_name = logrank_test\n\n---\n test_statistic      p  -log2(p)\n        1300.58 <0.005    943.67",
      "text/html": "<div>\n<style scoped>\n    .dataframe tbody tr th:only-of-type {\n        vertical-align: middle;\n    }\n\n    .dataframe tbody tr th {\n        vertical-align: top;\n    }\n\n    .dataframe thead th {\n        text-align: right;\n    }\n</style>\n<table border=\"1\" class=\"dataframe\">\n  <tbody>\n    <tr>\n      <th>t_0</th>\n      <td>-1</td>\n    </tr>\n    <tr>\n      <th>null_distribution</th>\n      <td>chi squared</td>\n    </tr>\n    <tr>\n      <th>degrees_of_freedom</th>\n      <td>1</td>\n    </tr>\n    <tr>\n      <th>test_name</th>\n      <td>logrank_test</td>\n    </tr>\n  </tbody>\n</table>\n</div><table border=\"1\" class=\"dataframe\">\n  <thead>\n    <tr style=\"text-align: right;\">\n      <th></th>\n      <th>test_statistic</th>\n      <th>p</th>\n      <th>-log2(p)</th>\n    </tr>\n  </thead>\n  <tbody>\n    <tr>\n      <th>0</th>\n      <td>1300.58</td>\n      <td>&lt;0.005</td>\n      <td>943.67</td>\n    </tr>\n  </tbody>\n</table>",
      "text/latex": "\\begin{tabular}{lrrr}\n\\toprule\n{} &  test\\_statistic &              p &    -log2(p) \\\\\n\\midrule\n0 &      1300.57686 &  8.469583e-285 &  943.667216 \\\\\n\\bottomrule\n\\end{tabular}\n"
     },
     "metadata": {},
     "output_type": "display_data"
    }
   ]
  },
  {
   "cell_type": "code",
   "metadata": {
    "cell_id": "00015-b2be3473-4b73-45ec-ad38-30ed63379799",
    "deepnote_to_be_reexecuted": false,
    "source_hash": "fdaa1140",
    "execution_start": 1654251591932,
    "execution_millis": 85,
    "deepnote_cell_type": "code",
    "deepnote_cell_height": 327.75,
    "deepnote_output_heights": [
     177
    ]
   },
   "source": "# logrank_test for comments\nresults = logrank_test(T_one_or_more_c, T_no_c, \n                       event_observed_A=E_one_or_more_c, event_observed_B=E_no_c)\nresults.print_summary()",
   "execution_count": null,
   "outputs": [
    {
     "data": {
      "text/plain": "<lifelines.StatisticalResult: logrank_test>\n               t_0 = -1\n null_distribution = chi squared\ndegrees_of_freedom = 1\n         test_name = logrank_test\n\n---\n test_statistic      p  -log2(p)\n        2070.12 <0.005       inf",
      "text/html": "<div>\n<style scoped>\n    .dataframe tbody tr th:only-of-type {\n        vertical-align: middle;\n    }\n\n    .dataframe tbody tr th {\n        vertical-align: top;\n    }\n\n    .dataframe thead th {\n        text-align: right;\n    }\n</style>\n<table border=\"1\" class=\"dataframe\">\n  <tbody>\n    <tr>\n      <th>t_0</th>\n      <td>-1</td>\n    </tr>\n    <tr>\n      <th>null_distribution</th>\n      <td>chi squared</td>\n    </tr>\n    <tr>\n      <th>degrees_of_freedom</th>\n      <td>1</td>\n    </tr>\n    <tr>\n      <th>test_name</th>\n      <td>logrank_test</td>\n    </tr>\n  </tbody>\n</table>\n</div><table border=\"1\" class=\"dataframe\">\n  <thead>\n    <tr style=\"text-align: right;\">\n      <th></th>\n      <th>test_statistic</th>\n      <th>p</th>\n      <th>-log2(p)</th>\n    </tr>\n  </thead>\n  <tbody>\n    <tr>\n      <th>0</th>\n      <td>2070.12</td>\n      <td>&lt;0.005</td>\n      <td>inf</td>\n    </tr>\n  </tbody>\n</table>",
      "text/latex": "\\begin{tabular}{lrrr}\n\\toprule\n{} &  test\\_statistic &    p &  -log2(p) \\\\\n\\midrule\n0 &     2070.123068 &  0.0 &       inf \\\\\n\\bottomrule\n\\end{tabular}\n"
     },
     "metadata": {},
     "output_type": "display_data"
    }
   ]
  },
  {
   "cell_type": "code",
   "metadata": {
    "cell_id": "00016-c5cfbc7a-e937-48bb-b2bc-d8a5530d56f5",
    "deepnote_to_be_reexecuted": false,
    "source_hash": "52abec7e",
    "execution_start": 1654251592021,
    "execution_millis": 85,
    "deepnote_cell_type": "code",
    "deepnote_cell_height": 327.75,
    "deepnote_output_heights": [
     177
    ]
   },
   "source": "# logrank_test for upvotes\nresults = logrank_test(T_one_or_more_uv, T_no_uv, \n                       event_observed_A=E_one_or_more_uv, event_observed_B=E_no_uv)\nresults.print_summary()",
   "execution_count": null,
   "outputs": [
    {
     "data": {
      "text/plain": "<lifelines.StatisticalResult: logrank_test>\n               t_0 = -1\n null_distribution = chi squared\ndegrees_of_freedom = 1\n         test_name = logrank_test\n\n---\n test_statistic      p  -log2(p)\n        4897.03 <0.005       inf",
      "text/html": "<div>\n<style scoped>\n    .dataframe tbody tr th:only-of-type {\n        vertical-align: middle;\n    }\n\n    .dataframe tbody tr th {\n        vertical-align: top;\n    }\n\n    .dataframe thead th {\n        text-align: right;\n    }\n</style>\n<table border=\"1\" class=\"dataframe\">\n  <tbody>\n    <tr>\n      <th>t_0</th>\n      <td>-1</td>\n    </tr>\n    <tr>\n      <th>null_distribution</th>\n      <td>chi squared</td>\n    </tr>\n    <tr>\n      <th>degrees_of_freedom</th>\n      <td>1</td>\n    </tr>\n    <tr>\n      <th>test_name</th>\n      <td>logrank_test</td>\n    </tr>\n  </tbody>\n</table>\n</div><table border=\"1\" class=\"dataframe\">\n  <thead>\n    <tr style=\"text-align: right;\">\n      <th></th>\n      <th>test_statistic</th>\n      <th>p</th>\n      <th>-log2(p)</th>\n    </tr>\n  </thead>\n  <tbody>\n    <tr>\n      <th>0</th>\n      <td>4897.03</td>\n      <td>&lt;0.005</td>\n      <td>inf</td>\n    </tr>\n  </tbody>\n</table>",
      "text/latex": "\\begin{tabular}{lrrr}\n\\toprule\n{} &  test\\_statistic &    p &  -log2(p) \\\\\n\\midrule\n0 &     4897.032106 &  0.0 &       inf \\\\\n\\bottomrule\n\\end{tabular}\n"
     },
     "metadata": {},
     "output_type": "display_data"
    }
   ]
  },
  {
   "cell_type": "code",
   "metadata": {
    "cell_id": "00017-6a4ebaf6-fcd7-4819-ac45-e151089835ff",
    "deepnote_to_be_reexecuted": false,
    "source_hash": "6081d05",
    "execution_start": 1654251592152,
    "execution_millis": 46,
    "deepnote_cell_type": "code",
    "deepnote_cell_height": 327.75,
    "deepnote_output_heights": [
     177
    ]
   },
   "source": "# logrank_test for downvotes\nresults = logrank_test(T_one_or_more_dv, T_no_dv, \n                       event_observed_A=E_one_or_more_dv, event_observed_B=E_no_dv)\nresults.print_summary()",
   "execution_count": null,
   "outputs": [
    {
     "data": {
      "text/plain": "<lifelines.StatisticalResult: logrank_test>\n               t_0 = -1\n null_distribution = chi squared\ndegrees_of_freedom = 1\n         test_name = logrank_test\n\n---\n test_statistic      p  -log2(p)\n         370.55 <0.005    271.89",
      "text/html": "<div>\n<style scoped>\n    .dataframe tbody tr th:only-of-type {\n        vertical-align: middle;\n    }\n\n    .dataframe tbody tr th {\n        vertical-align: top;\n    }\n\n    .dataframe thead th {\n        text-align: right;\n    }\n</style>\n<table border=\"1\" class=\"dataframe\">\n  <tbody>\n    <tr>\n      <th>t_0</th>\n      <td>-1</td>\n    </tr>\n    <tr>\n      <th>null_distribution</th>\n      <td>chi squared</td>\n    </tr>\n    <tr>\n      <th>degrees_of_freedom</th>\n      <td>1</td>\n    </tr>\n    <tr>\n      <th>test_name</th>\n      <td>logrank_test</td>\n    </tr>\n  </tbody>\n</table>\n</div><table border=\"1\" class=\"dataframe\">\n  <thead>\n    <tr style=\"text-align: right;\">\n      <th></th>\n      <th>test_statistic</th>\n      <th>p</th>\n      <th>-log2(p)</th>\n    </tr>\n  </thead>\n  <tbody>\n    <tr>\n      <th>0</th>\n      <td>370.55</td>\n      <td>&lt;0.005</td>\n      <td>271.89</td>\n    </tr>\n  </tbody>\n</table>",
      "text/latex": "\\begin{tabular}{lrrr}\n\\toprule\n{} &  test\\_statistic &             p &    -log2(p) \\\\\n\\midrule\n0 &      370.550372 &  1.420238e-82 &  271.891971 \\\\\n\\bottomrule\n\\end{tabular}\n"
     },
     "metadata": {},
     "output_type": "display_data"
    }
   ]
  },
  {
   "cell_type": "code",
   "metadata": {
    "cell_id": "00018-8fd537b4-904a-4e6d-8bf7-4be065ff8b85",
    "deepnote_to_be_reexecuted": false,
    "source_hash": "ec5b6325",
    "execution_start": 1654251592241,
    "execution_millis": 3,
    "deepnote_cell_type": "code",
    "deepnote_cell_height": 117.75,
    "deepnote_output_heights": [
     21
    ]
   },
   "source": "one_or_more_q.shape[0], no_q.shape[0]",
   "execution_count": null,
   "outputs": [
    {
     "output_type": "execute_result",
     "execution_count": 19,
     "data": {
      "text/plain": "(16041, 84540)"
     },
     "metadata": {}
    }
   ]
  },
  {
   "cell_type": "code",
   "metadata": {
    "cell_id": "00019-231ff540-4579-4c87-b947-5356d146c2a9",
    "deepnote_to_be_reexecuted": false,
    "source_hash": "b3f50f51",
    "execution_start": 1654251592242,
    "execution_millis": 871381,
    "deepnote_cell_type": "code",
    "deepnote_cell_height": 117.75,
    "deepnote_output_heights": [
     21
    ]
   },
   "source": "one_or_more_a.shape[0], no_a.shape[0]",
   "execution_count": null,
   "outputs": [
    {
     "output_type": "execute_result",
     "execution_count": 20,
     "data": {
      "text/plain": "(7226, 93355)"
     },
     "metadata": {}
    }
   ]
  },
  {
   "cell_type": "code",
   "metadata": {
    "cell_id": "00020-d16f599f-7b7f-4bb9-a2c6-e05379745b4b",
    "deepnote_to_be_reexecuted": false,
    "source_hash": "b8f9cd12",
    "execution_start": 1654251592289,
    "execution_millis": 871382,
    "deepnote_cell_type": "code",
    "deepnote_cell_height": 117.75,
    "deepnote_output_heights": [
     21
    ]
   },
   "source": "one_or_more_c.shape[0], no_c.shape[0]",
   "execution_count": null,
   "outputs": [
    {
     "output_type": "execute_result",
     "execution_count": 21,
     "data": {
      "text/plain": "(12056, 88525)"
     },
     "metadata": {}
    }
   ]
  },
  {
   "cell_type": "code",
   "metadata": {
    "cell_id": "00021-1663f30e-af3b-4976-a3e9-db2b6d67bd93",
    "deepnote_to_be_reexecuted": false,
    "source_hash": "d34615e2",
    "execution_start": 1654251592290,
    "execution_millis": 2,
    "deepnote_cell_type": "code",
    "deepnote_cell_height": 117.75,
    "deepnote_output_heights": [
     21
    ]
   },
   "source": "one_or_more_uv.shape[0], no_uv.shape[0]",
   "execution_count": null,
   "outputs": [
    {
     "output_type": "execute_result",
     "execution_count": 22,
     "data": {
      "text/plain": "(16328, 84253)"
     },
     "metadata": {}
    }
   ]
  },
  {
   "cell_type": "code",
   "metadata": {
    "cell_id": "00022-d4e4f0f5-a16e-461f-b378-01826da3a309",
    "deepnote_to_be_reexecuted": false,
    "source_hash": "f6a1510",
    "execution_start": 1654251592291,
    "execution_millis": 1,
    "owner_user_id": "1d5e23fc-586a-4fb2-a64d-9f5bc0547ef6",
    "deepnote_cell_type": "code",
    "deepnote_cell_height": 117.75,
    "deepnote_output_heights": [
     21
    ]
   },
   "source": "one_or_more_dv.shape[0], no_dv.shape[0]",
   "execution_count": null,
   "outputs": [
    {
     "output_type": "execute_result",
     "execution_count": 23,
     "data": {
      "text/plain": "(732, 99849)"
     },
     "metadata": {}
    }
   ]
  },
  {
   "cell_type": "markdown",
   "source": "<a style='text-decoration:none;line-height:16px;display:flex;color:#5B5B62;padding:10px;justify-content:end;' href='https://deepnote.com?utm_source=created-in-deepnote-cell&projectId=5b875ec7-933b-4a3a-92bc-cefd5e08f9f6' target=\"_blank\">\n<img alt='Created in deepnote.com' style='display:inline;max-height:16px;margin:0px;margin-right:7.5px;' src='data:image/svg+xml;base64,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' > </img>\nCreated in <span style='font-weight:600;margin-left:4px;'>Deepnote</span></a>",
   "metadata": {
    "tags": [],
    "created_in_deepnote_cell": true,
    "deepnote_cell_type": "markdown"
   }
  }
 ],
 "nbformat": 4,
 "nbformat_minor": 5,
 "metadata": {
  "kernelspec": {
   "display_name": "Python 3",
   "language": "python",
   "name": "python3"
  },
  "language_info": {
   "codemirror_mode": {
    "name": "ipython",
    "version": 3
   },
   "file_extension": ".py",
   "mimetype": "text/x-python",
   "name": "python",
   "nbconvert_exporter": "python",
   "pygments_lexer": "ipython3",
   "version": "3.7.10"
  },
  "deepnote_notebook_id": "951610ac-b7bc-4e71-a38b-8fb1f4404373",
  "deepnote": {},
  "deepnote_execution_queue": []
 }
}