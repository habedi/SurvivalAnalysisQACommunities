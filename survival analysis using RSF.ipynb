{
 "cells": [
  {
   "cell_type": "code",
   "metadata": {
    "cell_id": "28a04279aef94bedad07b04070735c2f",
    "tags": [],
    "deepnote_to_be_reexecuted": false,
    "source_hash": "e5255fb5",
    "execution_start": 1654265654123,
    "execution_millis": 12127,
    "owner_user_id": "1d5e23fc-586a-4fb2-a64d-9f5bc0547ef6",
    "deepnote_cell_type": "code",
    "deepnote_cell_height": 326.08331298828125
   },
   "source": "# This command install the Xelatex typesetting engine on your Debian-based machine\n!chmod u+x dependencies.sh && sudo apt-get update && sudo bash dependencies.sh",
   "outputs": [
    {
     "name": "stdout",
     "text": "Hit:1 http://security.debian.org/debian-security buster/updates InRelease\nHit:2 http://deb.debian.org/debian buster InRelease\nHit:3 http://deb.debian.org/debian buster-updates InRelease\n\n\n\n\ngit-lfs is already the newest version (2.7.1-1+deb10u1).\nnano is already the newest version (3.2-3).\ntexlive-xetex is already the newest version (2018.20190227-2).\n0 upgraded, 0 newly installed, 0 to remove and 36 not upgraded.\n",
     "output_type": "stream"
    }
   ],
   "execution_count": null
  },
  {
   "cell_type": "code",
   "metadata": {
    "cell_id": "9956206f-3555-4745-809a-bf095e33749a",
    "deepnote_to_be_reexecuted": false,
    "source_hash": "8ef8949c",
    "execution_start": 1654265666309,
    "execution_millis": 12515,
    "deepnote_cell_type": "code",
    "deepnote_cell_height": 503.83331298828125
   },
   "source": "import pickle\nimport pandas as pd\nimport tikzplotlib\nimport numpy as np\nfrom operator import itemgetter\nfrom tabulate import tabulate\nfrom matplotlib import pyplot as plt\nfrom sklearn.model_selection import train_test_split\nfrom sklearn.model_selection import KFold\nfrom pysurvival.models.simulations import SimulationModel\nfrom pysurvival.models.multi_task import NeuralMultiTaskModel\nfrom pysurvival.utils.metrics import concordance_index\nfrom pysurvival.models.semi_parametric import CoxPHModel\nfrom pysurvival.utils.display import integrated_brier_score\nfrom pysurvival.models.survival_forest import ConditionalSurvivalForestModel, RandomSurvivalForestModel\nfrom pysurvival.models.non_parametric import KaplanMeierModel\nfrom pysurvival.utils.display import display_non_parametric\nfrom pandas_profiling import ProfileReport\nfrom pysurvival.utils.display import correlation_matrix\n%pylab inline",
   "outputs": [
    {
     "name": "stderr",
     "text": "/shared-libs/python3.7/py/lib/python3.7/site-packages/tqdm/auto.py:22: TqdmWarning: IProgress not found. Please update jupyter and ipywidgets. See https://ipywidgets.readthedocs.io/en/stable/user_install.html\n  from .autonotebook import tqdm as notebook_tqdm\nPopulating the interactive namespace from numpy and matplotlib\n",
     "output_type": "stream"
    }
   ],
   "execution_count": null
  },
  {
   "cell_type": "code",
   "metadata": {
    "cell_id": "00001-77800072-ac20-481b-b4d7-d20d177b4d5b",
    "deepnote_to_be_reexecuted": false,
    "source_hash": "d34921eb",
    "execution_start": 1654265678840,
    "execution_millis": 986,
    "deepnote_cell_type": "code",
    "deepnote_cell_height": 712.9166870117188
   },
   "source": "# Importing modules\nimport pandas as pd\nimport numpy as np\nfrom matplotlib import pyplot as plt\nfrom pysurvival.datasets import Dataset\n%pylab inline\n\n#plt.style.use('tableau-colorblind10')\n#plt.style.use('grayscale')\n\ndataset_flag = \"cs\" # can be 'ds' or 'cs' or 'p'\ncensoring_margin = 36 # can be '24' or '36'\nfeatureset = \"cb+b\" # can be 'cb' or 'b' or 'cb+b'\nnum_runs = 0\n\n# Reading the dataset\nraw_dataset = pd.read_csv(\"dataset/{0}/user_features.csv\".format(dataset_flag), sep=\"\\t\")\nprint(\"The raw_dataset has the following shape: {}.\".format(raw_dataset.shape))\nraw_dataset.head(3)",
   "outputs": [
    {
     "name": "stdout",
     "text": "Populating the interactive namespace from numpy and matplotlib\nThe raw_dataset has the following shape: (113433, 19).\n",
     "output_type": "stream"
    },
    {
     "output_type": "execute_result",
     "execution_count": 3,
     "data": {
      "application/vnd.deepnote.dataframe.v3+json": {
       "column_count": 19,
       "row_count": 3,
       "columns": [
        {
         "name": "UserId",
         "dtype": "int64",
         "stats": {
          "unique_count": 3,
          "nan_count": 0,
          "min": "74",
          "max": "109",
          "histogram": [
           {
            "bin_start": 74,
            "bin_end": 77.5,
            "count": 1
           },
           {
            "bin_start": 77.5,
            "bin_end": 81,
            "count": 0
           },
           {
            "bin_start": 81,
            "bin_end": 84.5,
            "count": 0
           },
           {
            "bin_start": 84.5,
            "bin_end": 88,
            "count": 0
           },
           {
            "bin_start": 88,
            "bin_end": 91.5,
            "count": 0
           },
           {
            "bin_start": 91.5,
            "bin_end": 95,
            "count": 1
           },
           {
            "bin_start": 95,
            "bin_end": 98.5,
            "count": 0
           },
           {
            "bin_start": 98.5,
            "bin_end": 102,
            "count": 0
           },
           {
            "bin_start": 102,
            "bin_end": 105.5,
            "count": 0
           },
           {
            "bin_start": 105.5,
            "bin_end": 109,
            "count": 1
           }
          ]
         }
        },
        {
         "name": "CreationDate",
         "dtype": "object",
         "stats": {
          "unique_count": 3,
          "nan_count": 0,
          "categories": [
           {
            "name": "2012-03-06 20:09:16",
            "count": 1
           },
           {
            "name": "2012-03-06 22:11:12",
            "count": 1
           },
           {
            "name": "2012-03-07 01:15:40",
            "count": 1
           }
          ]
         }
        },
        {
         "name": "CastDownVotes",
         "dtype": "int64",
         "stats": {
          "unique_count": 1,
          "nan_count": 0,
          "min": "0",
          "max": "0",
          "histogram": [
           {
            "bin_start": -0.5,
            "bin_end": -0.4,
            "count": 0
           },
           {
            "bin_start": -0.4,
            "bin_end": -0.3,
            "count": 0
           },
           {
            "bin_start": -0.3,
            "bin_end": -0.19999999999999996,
            "count": 0
           },
           {
            "bin_start": -0.19999999999999996,
            "bin_end": -0.09999999999999998,
            "count": 0
           },
           {
            "bin_start": -0.09999999999999998,
            "bin_end": 0,
            "count": 0
           },
           {
            "bin_start": 0,
            "bin_end": 0.10000000000000009,
            "count": 3
           },
           {
            "bin_start": 0.10000000000000009,
            "bin_end": 0.20000000000000007,
            "count": 0
           },
           {
            "bin_start": 0.20000000000000007,
            "bin_end": 0.30000000000000004,
            "count": 0
           },
           {
            "bin_start": 0.30000000000000004,
            "bin_end": 0.4,
            "count": 0
           },
           {
            "bin_start": 0.4,
            "bin_end": 0.5,
            "count": 0
           }
          ]
         }
        },
        {
         "name": "CastUpVotes",
         "dtype": "int64",
         "stats": {
          "unique_count": 1,
          "nan_count": 0,
          "min": "0",
          "max": "0",
          "histogram": [
           {
            "bin_start": -0.5,
            "bin_end": -0.4,
            "count": 0
           },
           {
            "bin_start": -0.4,
            "bin_end": -0.3,
            "count": 0
           },
           {
            "bin_start": -0.3,
            "bin_end": -0.19999999999999996,
            "count": 0
           },
           {
            "bin_start": -0.19999999999999996,
            "bin_end": -0.09999999999999998,
            "count": 0
           },
           {
            "bin_start": -0.09999999999999998,
            "bin_end": 0,
            "count": 0
           },
           {
            "bin_start": 0,
            "bin_end": 0.10000000000000009,
            "count": 3
           },
           {
            "bin_start": 0.10000000000000009,
            "bin_end": 0.20000000000000007,
            "count": 0
           },
           {
            "bin_start": 0.20000000000000007,
            "bin_end": 0.30000000000000004,
            "count": 0
           },
           {
            "bin_start": 0.30000000000000004,
            "bin_end": 0.4,
            "count": 0
           },
           {
            "bin_start": 0.4,
            "bin_end": 0.5,
            "count": 0
           }
          ]
         }
        },
        {
         "name": "ProfileViews",
         "dtype": "int64",
         "stats": {
          "unique_count": 1,
          "nan_count": 0,
          "min": "0",
          "max": "0",
          "histogram": [
           {
            "bin_start": -0.5,
            "bin_end": -0.4,
            "count": 0
           },
           {
            "bin_start": -0.4,
            "bin_end": -0.3,
            "count": 0
           },
           {
            "bin_start": -0.3,
            "bin_end": -0.19999999999999996,
            "count": 0
           },
           {
            "bin_start": -0.19999999999999996,
            "bin_end": -0.09999999999999998,
            "count": 0
           },
           {
            "bin_start": -0.09999999999999998,
            "bin_end": 0,
            "count": 0
           },
           {
            "bin_start": 0,
            "bin_end": 0.10000000000000009,
            "count": 3
           },
           {
            "bin_start": 0.10000000000000009,
            "bin_end": 0.20000000000000007,
            "count": 0
           },
           {
            "bin_start": 0.20000000000000007,
            "bin_end": 0.30000000000000004,
            "count": 0
           },
           {
            "bin_start": 0.30000000000000004,
            "bin_end": 0.4,
            "count": 0
           },
           {
            "bin_start": 0.4,
            "bin_end": 0.5,
            "count": 0
           }
          ]
         }
        },
        {
         "name": "LastAccessDate",
         "dtype": "object",
         "stats": {
          "unique_count": 3,
          "nan_count": 0,
          "categories": [
           {
            "name": "2012-03-06 20:09:16",
            "count": 1
           },
           {
            "name": "2012-03-06 22:11:12",
            "count": 1
           },
           {
            "name": "2012-03-07 01:15:40",
            "count": 1
           }
          ]
         }
        },
        {
         "name": "QuestionCount",
         "dtype": "int64",
         "stats": {
          "unique_count": 1,
          "nan_count": 0,
          "min": "0",
          "max": "0",
          "histogram": [
           {
            "bin_start": -0.5,
            "bin_end": -0.4,
            "count": 0
           },
           {
            "bin_start": -0.4,
            "bin_end": -0.3,
            "count": 0
           },
           {
            "bin_start": -0.3,
            "bin_end": -0.19999999999999996,
            "count": 0
           },
           {
            "bin_start": -0.19999999999999996,
            "bin_end": -0.09999999999999998,
            "count": 0
           },
           {
            "bin_start": -0.09999999999999998,
            "bin_end": 0,
            "count": 0
           },
           {
            "bin_start": 0,
            "bin_end": 0.10000000000000009,
            "count": 3
           },
           {
            "bin_start": 0.10000000000000009,
            "bin_end": 0.20000000000000007,
            "count": 0
           },
           {
            "bin_start": 0.20000000000000007,
            "bin_end": 0.30000000000000004,
            "count": 0
           },
           {
            "bin_start": 0.30000000000000004,
            "bin_end": 0.4,
            "count": 0
           },
           {
            "bin_start": 0.4,
            "bin_end": 0.5,
            "count": 0
           }
          ]
         }
        },
        {
         "name": "AnswerCount",
         "dtype": "int64",
         "stats": {
          "unique_count": 1,
          "nan_count": 0,
          "min": "0",
          "max": "0",
          "histogram": [
           {
            "bin_start": -0.5,
            "bin_end": -0.4,
            "count": 0
           },
           {
            "bin_start": -0.4,
            "bin_end": -0.3,
            "count": 0
           },
           {
            "bin_start": -0.3,
            "bin_end": -0.19999999999999996,
            "count": 0
           },
           {
            "bin_start": -0.19999999999999996,
            "bin_end": -0.09999999999999998,
            "count": 0
           },
           {
            "bin_start": -0.09999999999999998,
            "bin_end": 0,
            "count": 0
           },
           {
            "bin_start": 0,
            "bin_end": 0.10000000000000009,
            "count": 3
           },
           {
            "bin_start": 0.10000000000000009,
            "bin_end": 0.20000000000000007,
            "count": 0
           },
           {
            "bin_start": 0.20000000000000007,
            "bin_end": 0.30000000000000004,
            "count": 0
           },
           {
            "bin_start": 0.30000000000000004,
            "bin_end": 0.4,
            "count": 0
           },
           {
            "bin_start": 0.4,
            "bin_end": 0.5,
            "count": 0
           }
          ]
         }
        },
        {
         "name": "CommentCount",
         "dtype": "int64",
         "stats": {
          "unique_count": 1,
          "nan_count": 0,
          "min": "0",
          "max": "0",
          "histogram": [
           {
            "bin_start": -0.5,
            "bin_end": -0.4,
            "count": 0
           },
           {
            "bin_start": -0.4,
            "bin_end": -0.3,
            "count": 0
           },
           {
            "bin_start": -0.3,
            "bin_end": -0.19999999999999996,
            "count": 0
           },
           {
            "bin_start": -0.19999999999999996,
            "bin_end": -0.09999999999999998,
            "count": 0
           },
           {
            "bin_start": -0.09999999999999998,
            "bin_end": 0,
            "count": 0
           },
           {
            "bin_start": 0,
            "bin_end": 0.10000000000000009,
            "count": 3
           },
           {
            "bin_start": 0.10000000000000009,
            "bin_end": 0.20000000000000007,
            "count": 0
           },
           {
            "bin_start": 0.20000000000000007,
            "bin_end": 0.30000000000000004,
            "count": 0
           },
           {
            "bin_start": 0.30000000000000004,
            "bin_end": 0.4,
            "count": 0
           },
           {
            "bin_start": 0.4,
            "bin_end": 0.5,
            "count": 0
           }
          ]
         }
        },
        {
         "name": "AvgQuestionViewCount",
         "dtype": "float64",
         "stats": {
          "unique_count": 1,
          "nan_count": 0,
          "min": "0.0",
          "max": "0.0",
          "histogram": [
           {
            "bin_start": -0.5,
            "bin_end": -0.4,
            "count": 0
           },
           {
            "bin_start": -0.4,
            "bin_end": -0.3,
            "count": 0
           },
           {
            "bin_start": -0.3,
            "bin_end": -0.19999999999999996,
            "count": 0
           },
           {
            "bin_start": -0.19999999999999996,
            "bin_end": -0.09999999999999998,
            "count": 0
           },
           {
            "bin_start": -0.09999999999999998,
            "bin_end": 0,
            "count": 0
           },
           {
            "bin_start": 0,
            "bin_end": 0.10000000000000009,
            "count": 3
           },
           {
            "bin_start": 0.10000000000000009,
            "bin_end": 0.20000000000000007,
            "count": 0
           },
           {
            "bin_start": 0.20000000000000007,
            "bin_end": 0.30000000000000004,
            "count": 0
           },
           {
            "bin_start": 0.30000000000000004,
            "bin_end": 0.4,
            "count": 0
           },
           {
            "bin_start": 0.4,
            "bin_end": 0.5,
            "count": 0
           }
          ]
         }
        },
        {
         "name": "AvgQuestionFavouriteCount",
         "dtype": "float64",
         "stats": {
          "unique_count": 1,
          "nan_count": 0,
          "min": "0.0",
          "max": "0.0",
          "histogram": [
           {
            "bin_start": -0.5,
            "bin_end": -0.4,
            "count": 0
           },
           {
            "bin_start": -0.4,
            "bin_end": -0.3,
            "count": 0
           },
           {
            "bin_start": -0.3,
            "bin_end": -0.19999999999999996,
            "count": 0
           },
           {
            "bin_start": -0.19999999999999996,
            "bin_end": -0.09999999999999998,
            "count": 0
           },
           {
            "bin_start": -0.09999999999999998,
            "bin_end": 0,
            "count": 0
           },
           {
            "bin_start": 0,
            "bin_end": 0.10000000000000009,
            "count": 3
           },
           {
            "bin_start": 0.10000000000000009,
            "bin_end": 0.20000000000000007,
            "count": 0
           },
           {
            "bin_start": 0.20000000000000007,
            "bin_end": 0.30000000000000004,
            "count": 0
           },
           {
            "bin_start": 0.30000000000000004,
            "bin_end": 0.4,
            "count": 0
           },
           {
            "bin_start": 0.4,
            "bin_end": 0.5,
            "count": 0
           }
          ]
         }
        },
        {
         "name": "AvgQuestionCommentCount",
         "dtype": "float64",
         "stats": {
          "unique_count": 1,
          "nan_count": 0,
          "min": "0.0",
          "max": "0.0",
          "histogram": [
           {
            "bin_start": -0.5,
            "bin_end": -0.4,
            "count": 0
           },
           {
            "bin_start": -0.4,
            "bin_end": -0.3,
            "count": 0
           },
           {
            "bin_start": -0.3,
            "bin_end": -0.19999999999999996,
            "count": 0
           },
           {
            "bin_start": -0.19999999999999996,
            "bin_end": -0.09999999999999998,
            "count": 0
           },
           {
            "bin_start": -0.09999999999999998,
            "bin_end": 0,
            "count": 0
           },
           {
            "bin_start": 0,
            "bin_end": 0.10000000000000009,
            "count": 3
           },
           {
            "bin_start": 0.10000000000000009,
            "bin_end": 0.20000000000000007,
            "count": 0
           },
           {
            "bin_start": 0.20000000000000007,
            "bin_end": 0.30000000000000004,
            "count": 0
           },
           {
            "bin_start": 0.30000000000000004,
            "bin_end": 0.4,
            "count": 0
           },
           {
            "bin_start": 0.4,
            "bin_end": 0.5,
            "count": 0
           }
          ]
         }
        },
        {
         "name": "AvgQuestionScore",
         "dtype": "float64",
         "stats": {
          "unique_count": 1,
          "nan_count": 0,
          "min": "0.0",
          "max": "0.0",
          "histogram": [
           {
            "bin_start": -0.5,
            "bin_end": -0.4,
            "count": 0
           },
           {
            "bin_start": -0.4,
            "bin_end": -0.3,
            "count": 0
           },
           {
            "bin_start": -0.3,
            "bin_end": -0.19999999999999996,
            "count": 0
           },
           {
            "bin_start": -0.19999999999999996,
            "bin_end": -0.09999999999999998,
            "count": 0
           },
           {
            "bin_start": -0.09999999999999998,
            "bin_end": 0,
            "count": 0
           },
           {
            "bin_start": 0,
            "bin_end": 0.10000000000000009,
            "count": 3
           },
           {
            "bin_start": 0.10000000000000009,
            "bin_end": 0.20000000000000007,
            "count": 0
           },
           {
            "bin_start": 0.20000000000000007,
            "bin_end": 0.30000000000000004,
            "count": 0
           },
           {
            "bin_start": 0.30000000000000004,
            "bin_end": 0.4,
            "count": 0
           },
           {
            "bin_start": 0.4,
            "bin_end": 0.5,
            "count": 0
           }
          ]
         }
        },
        {
         "name": "AvgAnswerScore",
         "dtype": "float64",
         "stats": {
          "unique_count": 1,
          "nan_count": 0,
          "min": "0.0",
          "max": "0.0",
          "histogram": [
           {
            "bin_start": -0.5,
            "bin_end": -0.4,
            "count": 0
           },
           {
            "bin_start": -0.4,
            "bin_end": -0.3,
            "count": 0
           },
           {
            "bin_start": -0.3,
            "bin_end": -0.19999999999999996,
            "count": 0
           },
           {
            "bin_start": -0.19999999999999996,
            "bin_end": -0.09999999999999998,
            "count": 0
           },
           {
            "bin_start": -0.09999999999999998,
            "bin_end": 0,
            "count": 0
           },
           {
            "bin_start": 0,
            "bin_end": 0.10000000000000009,
            "count": 3
           },
           {
            "bin_start": 0.10000000000000009,
            "bin_end": 0.20000000000000007,
            "count": 0
           },
           {
            "bin_start": 0.20000000000000007,
            "bin_end": 0.30000000000000004,
            "count": 0
           },
           {
            "bin_start": 0.30000000000000004,
            "bin_end": 0.4,
            "count": 0
           },
           {
            "bin_start": 0.4,
            "bin_end": 0.5,
            "count": 0
           }
          ]
         }
        },
        {
         "name": "AvgAnswerCommentCount",
         "dtype": "float64",
         "stats": {
          "unique_count": 1,
          "nan_count": 0,
          "min": "0.0",
          "max": "0.0",
          "histogram": [
           {
            "bin_start": -0.5,
            "bin_end": -0.4,
            "count": 0
           },
           {
            "bin_start": -0.4,
            "bin_end": -0.3,
            "count": 0
           },
           {
            "bin_start": -0.3,
            "bin_end": -0.19999999999999996,
            "count": 0
           },
           {
            "bin_start": -0.19999999999999996,
            "bin_end": -0.09999999999999998,
            "count": 0
           },
           {
            "bin_start": -0.09999999999999998,
            "bin_end": 0,
            "count": 0
           },
           {
            "bin_start": 0,
            "bin_end": 0.10000000000000009,
            "count": 3
           },
           {
            "bin_start": 0.10000000000000009,
            "bin_end": 0.20000000000000007,
            "count": 0
           },
           {
            "bin_start": 0.20000000000000007,
            "bin_end": 0.30000000000000004,
            "count": 0
           },
           {
            "bin_start": 0.30000000000000004,
            "bin_end": 0.4,
            "count": 0
           },
           {
            "bin_start": 0.4,
            "bin_end": 0.5,
            "count": 0
           }
          ]
         }
        },
        {
         "name": "AvgCommentScore",
         "dtype": "float64",
         "stats": {
          "unique_count": 1,
          "nan_count": 0,
          "min": "0.0",
          "max": "0.0",
          "histogram": [
           {
            "bin_start": -0.5,
            "bin_end": -0.4,
            "count": 0
           },
           {
            "bin_start": -0.4,
            "bin_end": -0.3,
            "count": 0
           },
           {
            "bin_start": -0.3,
            "bin_end": -0.19999999999999996,
            "count": 0
           },
           {
            "bin_start": -0.19999999999999996,
            "bin_end": -0.09999999999999998,
            "count": 0
           },
           {
            "bin_start": -0.09999999999999998,
            "bin_end": 0,
            "count": 0
           },
           {
            "bin_start": 0,
            "bin_end": 0.10000000000000009,
            "count": 3
           },
           {
            "bin_start": 0.10000000000000009,
            "bin_end": 0.20000000000000007,
            "count": 0
           },
           {
            "bin_start": 0.20000000000000007,
            "bin_end": 0.30000000000000004,
            "count": 0
           },
           {
            "bin_start": 0.30000000000000004,
            "bin_end": 0.4,
            "count": 0
           },
           {
            "bin_start": 0.4,
            "bin_end": 0.5,
            "count": 0
           }
          ]
         }
        },
        {
         "name": "MonthsActive",
         "dtype": "int64",
         "stats": {
          "unique_count": 1,
          "nan_count": 0,
          "min": "0",
          "max": "0",
          "histogram": [
           {
            "bin_start": -0.5,
            "bin_end": -0.4,
            "count": 0
           },
           {
            "bin_start": -0.4,
            "bin_end": -0.3,
            "count": 0
           },
           {
            "bin_start": -0.3,
            "bin_end": -0.19999999999999996,
            "count": 0
           },
           {
            "bin_start": -0.19999999999999996,
            "bin_end": -0.09999999999999998,
            "count": 0
           },
           {
            "bin_start": -0.09999999999999998,
            "bin_end": 0,
            "count": 0
           },
           {
            "bin_start": 0,
            "bin_end": 0.10000000000000009,
            "count": 3
           },
           {
            "bin_start": 0.10000000000000009,
            "bin_end": 0.20000000000000007,
            "count": 0
           },
           {
            "bin_start": 0.20000000000000007,
            "bin_end": 0.30000000000000004,
            "count": 0
           },
           {
            "bin_start": 0.30000000000000004,
            "bin_end": 0.4,
            "count": 0
           },
           {
            "bin_start": 0.4,
            "bin_end": 0.5,
            "count": 0
           }
          ]
         }
        },
        {
         "name": "MonthsSinceLastActivity",
         "dtype": "int64",
         "stats": {
          "unique_count": 1,
          "nan_count": 0,
          "min": "112",
          "max": "112",
          "histogram": [
           {
            "bin_start": 111.5,
            "bin_end": 111.6,
            "count": 0
           },
           {
            "bin_start": 111.6,
            "bin_end": 111.7,
            "count": 0
           },
           {
            "bin_start": 111.7,
            "bin_end": 111.8,
            "count": 0
           },
           {
            "bin_start": 111.8,
            "bin_end": 111.9,
            "count": 0
           },
           {
            "bin_start": 111.9,
            "bin_end": 112,
            "count": 0
           },
           {
            "bin_start": 112,
            "bin_end": 112.1,
            "count": 3
           },
           {
            "bin_start": 112.1,
            "bin_end": 112.2,
            "count": 0
           },
           {
            "bin_start": 112.2,
            "bin_end": 112.3,
            "count": 0
           },
           {
            "bin_start": 112.3,
            "bin_end": 112.4,
            "count": 0
           },
           {
            "bin_start": 112.4,
            "bin_end": 112.5,
            "count": 0
           }
          ]
         }
        },
        {
         "name": "MonthsSinceJoined",
         "dtype": "int64",
         "stats": {
          "unique_count": 1,
          "nan_count": 0,
          "min": "112",
          "max": "112",
          "histogram": [
           {
            "bin_start": 111.5,
            "bin_end": 111.6,
            "count": 0
           },
           {
            "bin_start": 111.6,
            "bin_end": 111.7,
            "count": 0
           },
           {
            "bin_start": 111.7,
            "bin_end": 111.8,
            "count": 0
           },
           {
            "bin_start": 111.8,
            "bin_end": 111.9,
            "count": 0
           },
           {
            "bin_start": 111.9,
            "bin_end": 112,
            "count": 0
           },
           {
            "bin_start": 112,
            "bin_end": 112.1,
            "count": 3
           },
           {
            "bin_start": 112.1,
            "bin_end": 112.2,
            "count": 0
           },
           {
            "bin_start": 112.2,
            "bin_end": 112.3,
            "count": 0
           },
           {
            "bin_start": 112.3,
            "bin_end": 112.4,
            "count": 0
           },
           {
            "bin_start": 112.4,
            "bin_end": 112.5,
            "count": 0
           }
          ]
         }
        },
        {
         "name": "_deepnote_index_column",
         "dtype": "int64"
        }
       ],
       "rows": [
        {
         "UserId": 74,
         "CreationDate": "2012-03-06 20:09:16",
         "CastDownVotes": 0,
         "CastUpVotes": 0,
         "ProfileViews": 0,
         "LastAccessDate": "2012-03-06 20:09:16",
         "QuestionCount": 0,
         "AnswerCount": 0,
         "CommentCount": 0,
         "AvgQuestionViewCount": 0,
         "AvgQuestionFavouriteCount": 0,
         "AvgQuestionCommentCount": 0,
         "AvgQuestionScore": 0,
         "AvgAnswerScore": 0,
         "AvgAnswerCommentCount": 0,
         "AvgCommentScore": 0,
         "MonthsActive": 0,
         "MonthsSinceLastActivity": 112,
         "MonthsSinceJoined": 112,
         "_deepnote_index_column": 0
        },
        {
         "UserId": 93,
         "CreationDate": "2012-03-06 22:11:12",
         "CastDownVotes": 0,
         "CastUpVotes": 0,
         "ProfileViews": 0,
         "LastAccessDate": "2012-03-06 22:11:12",
         "QuestionCount": 0,
         "AnswerCount": 0,
         "CommentCount": 0,
         "AvgQuestionViewCount": 0,
         "AvgQuestionFavouriteCount": 0,
         "AvgQuestionCommentCount": 0,
         "AvgQuestionScore": 0,
         "AvgAnswerScore": 0,
         "AvgAnswerCommentCount": 0,
         "AvgCommentScore": 0,
         "MonthsActive": 0,
         "MonthsSinceLastActivity": 112,
         "MonthsSinceJoined": 112,
         "_deepnote_index_column": 1
        },
        {
         "UserId": 109,
         "CreationDate": "2012-03-07 01:15:40",
         "CastDownVotes": 0,
         "CastUpVotes": 0,
         "ProfileViews": 0,
         "LastAccessDate": "2012-03-07 01:15:40",
         "QuestionCount": 0,
         "AnswerCount": 0,
         "CommentCount": 0,
         "AvgQuestionViewCount": 0,
         "AvgQuestionFavouriteCount": 0,
         "AvgQuestionCommentCount": 0,
         "AvgQuestionScore": 0,
         "AvgAnswerScore": 0,
         "AvgAnswerCommentCount": 0,
         "AvgCommentScore": 0,
         "MonthsActive": 0,
         "MonthsSinceLastActivity": 112,
         "MonthsSinceJoined": 112,
         "_deepnote_index_column": 2
        }
       ]
      },
      "text/plain": "   UserId         CreationDate  CastDownVotes  CastUpVotes  ProfileViews  \\\n0      74  2012-03-06 20:09:16              0            0             0   \n1      93  2012-03-06 22:11:12              0            0             0   \n2     109  2012-03-07 01:15:40              0            0             0   \n\n        LastAccessDate  QuestionCount  AnswerCount  CommentCount  \\\n0  2012-03-06 20:09:16              0            0             0   \n1  2012-03-06 22:11:12              0            0             0   \n2  2012-03-07 01:15:40              0            0             0   \n\n   AvgQuestionViewCount  AvgQuestionFavouriteCount  AvgQuestionCommentCount  \\\n0                   0.0                        0.0                      0.0   \n1                   0.0                        0.0                      0.0   \n2                   0.0                        0.0                      0.0   \n\n   AvgQuestionScore  AvgAnswerScore  AvgAnswerCommentCount  AvgCommentScore  \\\n0               0.0             0.0                    0.0              0.0   \n1               0.0             0.0                    0.0              0.0   \n2               0.0             0.0                    0.0              0.0   \n\n   MonthsActive  MonthsSinceLastActivity  MonthsSinceJoined  \n0             0                      112                112  \n1             0                      112                112  \n2             0                      112                112  ",
      "text/html": "<div>\n<style scoped>\n    .dataframe tbody tr th:only-of-type {\n        vertical-align: middle;\n    }\n\n    .dataframe tbody tr th {\n        vertical-align: top;\n    }\n\n    .dataframe thead th {\n        text-align: right;\n    }\n</style>\n<table border=\"1\" class=\"dataframe\">\n  <thead>\n    <tr style=\"text-align: right;\">\n      <th></th>\n      <th>UserId</th>\n      <th>CreationDate</th>\n      <th>CastDownVotes</th>\n      <th>CastUpVotes</th>\n      <th>ProfileViews</th>\n      <th>LastAccessDate</th>\n      <th>QuestionCount</th>\n      <th>AnswerCount</th>\n      <th>CommentCount</th>\n      <th>AvgQuestionViewCount</th>\n      <th>AvgQuestionFavouriteCount</th>\n      <th>AvgQuestionCommentCount</th>\n      <th>AvgQuestionScore</th>\n      <th>AvgAnswerScore</th>\n      <th>AvgAnswerCommentCount</th>\n      <th>AvgCommentScore</th>\n      <th>MonthsActive</th>\n      <th>MonthsSinceLastActivity</th>\n      <th>MonthsSinceJoined</th>\n    </tr>\n  </thead>\n  <tbody>\n    <tr>\n      <th>0</th>\n      <td>74</td>\n      <td>2012-03-06 20:09:16</td>\n      <td>0</td>\n      <td>0</td>\n      <td>0</td>\n      <td>2012-03-06 20:09:16</td>\n      <td>0</td>\n      <td>0</td>\n      <td>0</td>\n      <td>0.0</td>\n      <td>0.0</td>\n      <td>0.0</td>\n      <td>0.0</td>\n      <td>0.0</td>\n      <td>0.0</td>\n      <td>0.0</td>\n      <td>0</td>\n      <td>112</td>\n      <td>112</td>\n    </tr>\n    <tr>\n      <th>1</th>\n      <td>93</td>\n      <td>2012-03-06 22:11:12</td>\n      <td>0</td>\n      <td>0</td>\n      <td>0</td>\n      <td>2012-03-06 22:11:12</td>\n      <td>0</td>\n      <td>0</td>\n      <td>0</td>\n      <td>0.0</td>\n      <td>0.0</td>\n      <td>0.0</td>\n      <td>0.0</td>\n      <td>0.0</td>\n      <td>0.0</td>\n      <td>0.0</td>\n      <td>0</td>\n      <td>112</td>\n      <td>112</td>\n    </tr>\n    <tr>\n      <th>2</th>\n      <td>109</td>\n      <td>2012-03-07 01:15:40</td>\n      <td>0</td>\n      <td>0</td>\n      <td>0</td>\n      <td>2012-03-07 01:15:40</td>\n      <td>0</td>\n      <td>0</td>\n      <td>0</td>\n      <td>0.0</td>\n      <td>0.0</td>\n      <td>0.0</td>\n      <td>0.0</td>\n      <td>0.0</td>\n      <td>0.0</td>\n      <td>0.0</td>\n      <td>0</td>\n      <td>112</td>\n      <td>112</td>\n    </tr>\n  </tbody>\n</table>\n</div>"
     },
     "metadata": {}
    }
   ],
   "execution_count": null
  },
  {
   "cell_type": "code",
   "metadata": {
    "cell_id": "00002-35eef3ee-86be-4d25-9dd8-2230439bdd1f",
    "deepnote_to_be_reexecuted": false,
    "source_hash": "c214719c",
    "execution_start": 1654265679832,
    "execution_millis": 46,
    "deepnote_cell_type": "code",
    "deepnote_cell_height": 224.8333282470703
   },
   "source": "raw_dataset_tmp = raw_dataset.copy()\nraw_dataset_tmp = raw_dataset_tmp[(raw_dataset_tmp['CastDownVotes'] > 0) | \n               (raw_dataset_tmp['CastUpVotes'] > 0) | \n               (raw_dataset_tmp['QuestionCount'] > 0) |\n               (raw_dataset_tmp['AnswerCount'] > 0) |\n               (raw_dataset_tmp['CommentCount'] > 0)]\n\nraw_dataset_tmp.reset_index(inplace=True)\nraw_dataset = raw_dataset_tmp",
   "outputs": [],
   "execution_count": null
  },
  {
   "cell_type": "code",
   "metadata": {
    "cell_id": "00003-db0f5346-993e-414d-b0b2-5c8c67aaff4b",
    "deepnote_to_be_reexecuted": false,
    "source_hash": "83aee5df",
    "execution_start": 1654265679895,
    "execution_millis": 40,
    "deepnote_cell_type": "code",
    "deepnote_cell_height": 2150.833251953125
   },
   "source": "def heatmap(data, row_labels, col_labels, ax=None,\n            cbar_kw={}, cbarlabel=\"\", **kwargs):\n    \"\"\"\n    Create a heatmap from a numpy array and two lists of labels.\n\n    Parameters\n    ----------\n    data\n        A 2D numpy array of shape (N, M).\n    row_labels\n        A list or array of length N with the labels for the rows.\n    col_labels\n        A list or array of length M with the labels for the columns.\n    ax\n        A `matplotlib.axes.Axes` instance to which the heatmap is plotted.  If\n        not provided, use current axes or create a new one.  Optional.\n    cbar_kw\n        A dictionary with arguments to `matplotlib.Figure.colorbar`.  Optional.\n    cbarlabel\n        The label for the colorbar.  Optional.\n    **kwargs\n        All other arguments are forwarded to `imshow`.\n    \"\"\"\n\n    if not ax:\n        ax = plt.gca()\n\n    # Plot the heatmap\n    im = ax.imshow(data, **kwargs)\n\n    # Create colorbar\n    cbar = ax.figure.colorbar(im, ax=ax, **cbar_kw)\n    cbar.ax.set_ylabel(cbarlabel, rotation=-90, va=\"bottom\")\n\n    # We want to show all ticks...\n    ax.set_xticks(np.arange(data.shape[1]))\n    ax.set_yticks(np.arange(data.shape[0]))\n    # ... and label them with the respective list entries.\n    ax.set_xticklabels(col_labels)\n    ax.set_yticklabels(row_labels)\n\n    # Let the horizontal axes labeling appear on top.\n    ax.tick_params(top=True, bottom=False,\n                   labeltop=True, labelbottom=False)\n\n    # Rotate the tick labels and set their alignment.\n    plt.setp(ax.get_xticklabels(), rotation=0, ha=\"right\", rotation_mode=\"anchor\")\n\n    # Turn spines off and create white grid.\n    for edge, spine in ax.spines.items():\n        spine.set_visible(False)\n\n    ax.set_xticks(np.arange(data.shape[1]+1)-.5, minor=True)\n    ax.set_yticks(np.arange(data.shape[0]+1)-.5, minor=True)\n    ax.grid(which=\"minor\", color=\"w\", linestyle='-', linewidth=3)\n    ax.tick_params(which=\"minor\", bottom=False, left=False)\n\n    return im, cbar\n\n\ndef annotate_heatmap(im, data=None, valfmt=\"{x:.2f}\", textcolors=[\"black\", \"white\"],\n                     threshold=None, **textkw):\n    \"\"\"\n    A function to annotate a heatmap.\n\n    Parameters\n    ----------\n    im\n        The AxesImage to be labeled.\n    data\n        Data used to annotate.  If None, the image's data is used.  Optional.\n    valfmt\n        The format of the annotations inside the heatmap.  This should either\n        use the string format method, e.g. \"$ {x:.2f}\", or be a\n        `matplotlib.ticker.Formatter`.  Optional.\n    textcolors\n        A list or array of two color specifications.  The first is used for\n        values below a threshold, the second for those above.  Optional.\n    threshold\n        Value in data units according to which the colors from textcolors are\n        applied.  If None (the default) uses the middle of the colormap as\n        separation.  Optional.\n    **kwargs\n        All other arguments are forwarded to each call to `text` used to create\n        the text labels.\n    \"\"\"\n\n    if not isinstance(data, (list, np.ndarray)):\n        data = im.get_array()\n\n    # Normalize the threshold to the images color range.\n    if threshold is not None:\n        threshold = im.norm(threshold)\n    else:\n        threshold = im.norm(data.max())/2.\n\n    # Set default alignment to center, but allow it to be\n    # overwritten by textkw.\n    kw = dict(horizontalalignment=\"center\",\n              verticalalignment=\"center\")\n    kw.update(textkw)\n\n    # Get the formatter in case a string is supplied\n    if isinstance(valfmt, str):\n        valfmt = matplotlib.ticker.StrMethodFormatter(valfmt)\n\n    # Loop over the data and create a `Text` for each \"pixel\".\n    # Change the text's color depending on the data.\n    texts = []\n    for i in range(data.shape[0]):\n        for j in range(data.shape[1]):\n            kw.update(color=textcolors[int(im.norm(data[i, j]) > threshold)])\n            text = im.axes.text(j, i, valfmt(data[i, j], None), **kw)\n            texts.append(text)\n\n    return texts",
   "outputs": [],
   "execution_count": null
  },
  {
   "cell_type": "code",
   "metadata": {
    "cell_id": "00004-8aa27441-2c83-4a80-a764-ccd0a3ebc8bb",
    "deepnote_to_be_reexecuted": false,
    "source_hash": "18032cb7",
    "execution_start": 1654265679954,
    "execution_millis": 9185,
    "deepnote_cell_type": "code",
    "deepnote_cell_height": 774.8333129882812,
    "deepnote_output_heights": [
     282
    ]
   },
   "source": "# content-based attributes\nfeatures_content_based = ['AvgQuestionViewCount', 'AvgQuestionCommentCount',\n                          'AvgQuestionScore', 'AvgAnswerScore',\n                          'AvgAnswerCommentCount', 'AvgCommentScore']\n\nraw_dataset_corr = raw_dataset[features_content_based].copy()\nraw_dataset_corr.rename(columns={'AvgQuestionViewCount': 'A_6', 'AvgQuestionCommentCount': 'A_7',\n                                 'AvgQuestionScore': 'A_8', 'AvgAnswerScore': 'A_9',\n                                 'AvgAnswerCommentCount': 'A_10', 'AvgCommentScore': 'A_11'}, inplace=True)\n\nfig, ax = plt.subplots()\n\nattributes = [\"$A_6$\", \"$A_7$\", \"$A_8$\", \"$A_9$\", \"$A_{10}$\", \"$A_{11}$\"]\n\nim, cbar = heatmap(raw_dataset_corr.corr(), attributes, attributes, ax=ax,\n                   cmap=\"Greys\", cbarlabel=\"Peasrson's correlation\")\ntexts = annotate_heatmap(im, valfmt=\"{x:.2f}\")\n\nfig.tight_layout()\n\nfig.savefig('figures/{0}/attribute_corr_content_based.pgf'.format(dataset_flag))\n\nplt.show()",
   "outputs": [
    {
     "data": {
      "text/plain": "<Figure size 432x288 with 2 Axes>",
      "image/png": "[encoded data removed]"
     },
     "metadata": {
      "needs_background": "light",
      "image/png": {
       "width": 354,
       "height": 280
      }
     },
     "output_type": "display_data"
    }
   ],
   "execution_count": null
  },
  {
   "cell_type": "code",
   "metadata": {
    "cell_id": "00005-ca7b286a-40eb-4cf5-9e92-c2a18e07f5c5",
    "deepnote_to_be_reexecuted": false,
    "source_hash": "8c7da53c",
    "execution_start": 1654265689191,
    "execution_millis": 1925,
    "deepnote_cell_type": "code",
    "deepnote_cell_height": 756.8333129882812,
    "deepnote_output_heights": [
     282
    ]
   },
   "source": "# behavioural attributes\nfeatures_behvavioural = ['CastDownVotes', 'CastUpVotes', 'QuestionCount',\n                         'AnswerCount', 'CommentCount']\n\nraw_dataset_corr = raw_dataset[features_behvavioural].copy()\nraw_dataset_corr.rename(columns={'CastDownVotes': 'A_1', 'CastUpVotes': 'A_2',\n                                 'QuestionCount': 'A_3', 'AnswerCount': 'A_4',\n                                 'CommentCount': 'A_5'}, inplace=True)\n\nfig, ax = plt.subplots()\n\nattributes = [\"$A_1$\", \"$A_2$\", \"$A_3$\", \"$A_4$\", \"$A_5$\"]\n\nim, cbar = heatmap(raw_dataset_corr.corr(), attributes, attributes, ax=ax,\n                   cmap=\"Greys\", cbarlabel=\"Peasrson's correlation\")\ntexts = annotate_heatmap(im, valfmt=\"{x:.2f}\")\n\nfig.tight_layout()\n\nfig.savefig('figures/{0}/attribute_corr_behavioural.pgf'.format(dataset_flag))\n\nplt.show()",
   "outputs": [
    {
     "data": {
      "text/plain": "<Figure size 432x288 with 2 Axes>",
      "image/png": "[encoded data removed]"
     },
     "metadata": {
      "needs_background": "light",
      "image/png": {
       "width": 350,
       "height": 280
      }
     },
     "output_type": "display_data"
    }
   ],
   "execution_count": null
  },
  {
   "cell_type": "code",
   "metadata": {
    "cell_id": "00006-2c964c6a-3ed8-48bf-808b-afb71b7a84fb",
    "deepnote_to_be_reexecuted": false,
    "source_hash": "6c300a08",
    "execution_start": 1654265691127,
    "execution_millis": 89,
    "deepnote_cell_type": "code",
    "deepnote_cell_height": 188.8333282470703
   },
   "source": "def f(x):\n    if x > censoring_margin:\n        return 1\n    else:\n        return 0\n    \nraw_dataset['disengaged'] = raw_dataset['MonthsSinceLastActivity'].apply(f)",
   "outputs": [],
   "execution_count": null
  },
  {
   "cell_type": "code",
   "metadata": {
    "cell_id": "00007-15e852bf-eb0b-4bfc-88b0-9d796b6e3e6d",
    "deepnote_to_be_reexecuted": false,
    "source_hash": "f792113b",
    "execution_start": 1654265691247,
    "execution_millis": 675,
    "deepnote_cell_type": "code",
    "deepnote_cell_height": 405.66668701171875
   },
   "source": "raw_dataset.head()",
   "outputs": [
    {
     "output_type": "execute_result",
     "execution_count": 9,
     "data": {
      "application/vnd.deepnote.dataframe.v3+json": {
       "column_count": 21,
       "row_count": 5,
       "columns": [
        {
         "name": "index",
         "dtype": "int64",
         "stats": {
          "unique_count": 5,
          "nan_count": 0,
          "min": "4",
          "max": "12",
          "histogram": [
           {
            "bin_start": 4,
            "bin_end": 4.8,
            "count": 1
           },
           {
            "bin_start": 4.8,
            "bin_end": 5.6,
            "count": 1
           },
           {
            "bin_start": 5.6,
            "bin_end": 6.4,
            "count": 1
           },
           {
            "bin_start": 6.4,
            "bin_end": 7.2,
            "count": 0
           },
           {
            "bin_start": 7.2,
            "bin_end": 8,
            "count": 0
           },
           {
            "bin_start": 8,
            "bin_end": 8.8,
            "count": 0
           },
           {
            "bin_start": 8.8,
            "bin_end": 9.600000000000001,
            "count": 0
           },
           {
            "bin_start": 9.600000000000001,
            "bin_end": 10.4,
            "count": 0
           },
           {
            "bin_start": 10.4,
            "bin_end": 11.2,
            "count": 1
           },
           {
            "bin_start": 11.2,
            "bin_end": 12,
            "count": 1
           }
          ]
         }
        },
        {
         "name": "UserId",
         "dtype": "int64",
         "stats": {
          "unique_count": 5,
          "nan_count": 0,
          "min": "9",
          "max": "177",
          "histogram": [
           {
            "bin_start": 9,
            "bin_end": 25.8,
            "count": 1
           },
           {
            "bin_start": 25.8,
            "bin_end": 42.6,
            "count": 1
           },
           {
            "bin_start": 42.6,
            "bin_end": 59.400000000000006,
            "count": 0
           },
           {
            "bin_start": 59.400000000000006,
            "bin_end": 76.2,
            "count": 0
           },
           {
            "bin_start": 76.2,
            "bin_end": 93,
            "count": 0
           },
           {
            "bin_start": 93,
            "bin_end": 109.80000000000001,
            "count": 0
           },
           {
            "bin_start": 109.80000000000001,
            "bin_end": 126.60000000000001,
            "count": 0
           },
           {
            "bin_start": 126.60000000000001,
            "bin_end": 143.4,
            "count": 1
           },
           {
            "bin_start": 143.4,
            "bin_end": 160.20000000000002,
            "count": 0
           },
           {
            "bin_start": 160.20000000000002,
            "bin_end": 177,
            "count": 2
           }
          ]
         }
        },
        {
         "name": "CreationDate",
         "dtype": "object",
         "stats": {
          "unique_count": 5,
          "nan_count": 0,
          "categories": [
           {
            "name": "2012-03-07 16:21:44",
            "count": 1
           },
           {
            "name": "2012-03-10 03:24:40",
            "count": 1
           },
           {
            "name": "3 others",
            "count": 3
           }
          ]
         }
        },
        {
         "name": "CastDownVotes",
         "dtype": "int64",
         "stats": {
          "unique_count": 1,
          "nan_count": 0,
          "min": "0",
          "max": "0",
          "histogram": [
           {
            "bin_start": -0.5,
            "bin_end": -0.4,
            "count": 0
           },
           {
            "bin_start": -0.4,
            "bin_end": -0.3,
            "count": 0
           },
           {
            "bin_start": -0.3,
            "bin_end": -0.19999999999999996,
            "count": 0
           },
           {
            "bin_start": -0.19999999999999996,
            "bin_end": -0.09999999999999998,
            "count": 0
           },
           {
            "bin_start": -0.09999999999999998,
            "bin_end": 0,
            "count": 0
           },
           {
            "bin_start": 0,
            "bin_end": 0.10000000000000009,
            "count": 5
           },
           {
            "bin_start": 0.10000000000000009,
            "bin_end": 0.20000000000000007,
            "count": 0
           },
           {
            "bin_start": 0.20000000000000007,
            "bin_end": 0.30000000000000004,
            "count": 0
           },
           {
            "bin_start": 0.30000000000000004,
            "bin_end": 0.4,
            "count": 0
           },
           {
            "bin_start": 0.4,
            "bin_end": 0.5,
            "count": 0
           }
          ]
         }
        },
        {
         "name": "CastUpVotes",
         "dtype": "int64",
         "stats": {
          "unique_count": 3,
          "nan_count": 0,
          "min": "2",
          "max": "8",
          "histogram": [
           {
            "bin_start": 2,
            "bin_end": 2.6,
            "count": 2
           },
           {
            "bin_start": 2.6,
            "bin_end": 3.2,
            "count": 2
           },
           {
            "bin_start": 3.2,
            "bin_end": 3.8,
            "count": 0
           },
           {
            "bin_start": 3.8,
            "bin_end": 4.4,
            "count": 0
           },
           {
            "bin_start": 4.4,
            "bin_end": 5,
            "count": 0
           },
           {
            "bin_start": 5,
            "bin_end": 5.6,
            "count": 0
           },
           {
            "bin_start": 5.6,
            "bin_end": 6.2,
            "count": 0
           },
           {
            "bin_start": 6.2,
            "bin_end": 6.8,
            "count": 0
           },
           {
            "bin_start": 6.8,
            "bin_end": 7.3999999999999995,
            "count": 0
           },
           {
            "bin_start": 7.3999999999999995,
            "bin_end": 8,
            "count": 1
           }
          ]
         }
        },
        {
         "name": "ProfileViews",
         "dtype": "int64",
         "stats": {
          "unique_count": 3,
          "nan_count": 0,
          "min": "0",
          "max": "3",
          "histogram": [
           {
            "bin_start": 0,
            "bin_end": 0.3,
            "count": 2
           },
           {
            "bin_start": 0.3,
            "bin_end": 0.6,
            "count": 0
           },
           {
            "bin_start": 0.6,
            "bin_end": 0.8999999999999999,
            "count": 0
           },
           {
            "bin_start": 0.8999999999999999,
            "bin_end": 1.2,
            "count": 2
           },
           {
            "bin_start": 1.2,
            "bin_end": 1.5,
            "count": 0
           },
           {
            "bin_start": 1.5,
            "bin_end": 1.7999999999999998,
            "count": 0
           },
           {
            "bin_start": 1.7999999999999998,
            "bin_end": 2.1,
            "count": 0
           },
           {
            "bin_start": 2.1,
            "bin_end": 2.4,
            "count": 0
           },
           {
            "bin_start": 2.4,
            "bin_end": 2.6999999999999997,
            "count": 0
           },
           {
            "bin_start": 2.6999999999999997,
            "bin_end": 3,
            "count": 1
           }
          ]
         }
        },
        {
         "name": "LastAccessDate",
         "dtype": "object",
         "stats": {
          "unique_count": 5,
          "nan_count": 0,
          "categories": [
           {
            "name": "2012-03-07 16:21:44",
            "count": 1
           },
           {
            "name": "2012-03-10 03:24:40",
            "count": 1
           },
           {
            "name": "3 others",
            "count": 3
           }
          ]
         }
        },
        {
         "name": "QuestionCount",
         "dtype": "int64",
         "stats": {
          "unique_count": 1,
          "nan_count": 0,
          "min": "0",
          "max": "0",
          "histogram": [
           {
            "bin_start": -0.5,
            "bin_end": -0.4,
            "count": 0
           },
           {
            "bin_start": -0.4,
            "bin_end": -0.3,
            "count": 0
           },
           {
            "bin_start": -0.3,
            "bin_end": -0.19999999999999996,
            "count": 0
           },
           {
            "bin_start": -0.19999999999999996,
            "bin_end": -0.09999999999999998,
            "count": 0
           },
           {
            "bin_start": -0.09999999999999998,
            "bin_end": 0,
            "count": 0
           },
           {
            "bin_start": 0,
            "bin_end": 0.10000000000000009,
            "count": 5
           },
           {
            "bin_start": 0.10000000000000009,
            "bin_end": 0.20000000000000007,
            "count": 0
           },
           {
            "bin_start": 0.20000000000000007,
            "bin_end": 0.30000000000000004,
            "count": 0
           },
           {
            "bin_start": 0.30000000000000004,
            "bin_end": 0.4,
            "count": 0
           },
           {
            "bin_start": 0.4,
            "bin_end": 0.5,
            "count": 0
           }
          ]
         }
        },
        {
         "name": "AnswerCount",
         "dtype": "int64",
         "stats": {
          "unique_count": 1,
          "nan_count": 0,
          "min": "0",
          "max": "0",
          "histogram": [
           {
            "bin_start": -0.5,
            "bin_end": -0.4,
            "count": 0
           },
           {
            "bin_start": -0.4,
            "bin_end": -0.3,
            "count": 0
           },
           {
            "bin_start": -0.3,
            "bin_end": -0.19999999999999996,
            "count": 0
           },
           {
            "bin_start": -0.19999999999999996,
            "bin_end": -0.09999999999999998,
            "count": 0
           },
           {
            "bin_start": -0.09999999999999998,
            "bin_end": 0,
            "count": 0
           },
           {
            "bin_start": 0,
            "bin_end": 0.10000000000000009,
            "count": 5
           },
           {
            "bin_start": 0.10000000000000009,
            "bin_end": 0.20000000000000007,
            "count": 0
           },
           {
            "bin_start": 0.20000000000000007,
            "bin_end": 0.30000000000000004,
            "count": 0
           },
           {
            "bin_start": 0.30000000000000004,
            "bin_end": 0.4,
            "count": 0
           },
           {
            "bin_start": 0.4,
            "bin_end": 0.5,
            "count": 0
           }
          ]
         }
        },
        {
         "name": "CommentCount",
         "dtype": "int64",
         "stats": {
          "unique_count": 1,
          "nan_count": 0,
          "min": "0",
          "max": "0",
          "histogram": [
           {
            "bin_start": -0.5,
            "bin_end": -0.4,
            "count": 0
           },
           {
            "bin_start": -0.4,
            "bin_end": -0.3,
            "count": 0
           },
           {
            "bin_start": -0.3,
            "bin_end": -0.19999999999999996,
            "count": 0
           },
           {
            "bin_start": -0.19999999999999996,
            "bin_end": -0.09999999999999998,
            "count": 0
           },
           {
            "bin_start": -0.09999999999999998,
            "bin_end": 0,
            "count": 0
           },
           {
            "bin_start": 0,
            "bin_end": 0.10000000000000009,
            "count": 5
           },
           {
            "bin_start": 0.10000000000000009,
            "bin_end": 0.20000000000000007,
            "count": 0
           },
           {
            "bin_start": 0.20000000000000007,
            "bin_end": 0.30000000000000004,
            "count": 0
           },
           {
            "bin_start": 0.30000000000000004,
            "bin_end": 0.4,
            "count": 0
           },
           {
            "bin_start": 0.4,
            "bin_end": 0.5,
            "count": 0
           }
          ]
         }
        },
        {
         "name": "AvgQuestionViewCount",
         "dtype": "float64",
         "stats": {
          "unique_count": 1,
          "nan_count": 0,
          "min": "0.0",
          "max": "0.0",
          "histogram": [
           {
            "bin_start": -0.5,
            "bin_end": -0.4,
            "count": 0
           },
           {
            "bin_start": -0.4,
            "bin_end": -0.3,
            "count": 0
           },
           {
            "bin_start": -0.3,
            "bin_end": -0.19999999999999996,
            "count": 0
           },
           {
            "bin_start": -0.19999999999999996,
            "bin_end": -0.09999999999999998,
            "count": 0
           },
           {
            "bin_start": -0.09999999999999998,
            "bin_end": 0,
            "count": 0
           },
           {
            "bin_start": 0,
            "bin_end": 0.10000000000000009,
            "count": 5
           },
           {
            "bin_start": 0.10000000000000009,
            "bin_end": 0.20000000000000007,
            "count": 0
           },
           {
            "bin_start": 0.20000000000000007,
            "bin_end": 0.30000000000000004,
            "count": 0
           },
           {
            "bin_start": 0.30000000000000004,
            "bin_end": 0.4,
            "count": 0
           },
           {
            "bin_start": 0.4,
            "bin_end": 0.5,
            "count": 0
           }
          ]
         }
        },
        {
         "name": "AvgQuestionFavouriteCount",
         "dtype": "float64",
         "stats": {
          "unique_count": 1,
          "nan_count": 0,
          "min": "0.0",
          "max": "0.0",
          "histogram": [
           {
            "bin_start": -0.5,
            "bin_end": -0.4,
            "count": 0
           },
           {
            "bin_start": -0.4,
            "bin_end": -0.3,
            "count": 0
           },
           {
            "bin_start": -0.3,
            "bin_end": -0.19999999999999996,
            "count": 0
           },
           {
            "bin_start": -0.19999999999999996,
            "bin_end": -0.09999999999999998,
            "count": 0
           },
           {
            "bin_start": -0.09999999999999998,
            "bin_end": 0,
            "count": 0
           },
           {
            "bin_start": 0,
            "bin_end": 0.10000000000000009,
            "count": 5
           },
           {
            "bin_start": 0.10000000000000009,
            "bin_end": 0.20000000000000007,
            "count": 0
           },
           {
            "bin_start": 0.20000000000000007,
            "bin_end": 0.30000000000000004,
            "count": 0
           },
           {
            "bin_start": 0.30000000000000004,
            "bin_end": 0.4,
            "count": 0
           },
           {
            "bin_start": 0.4,
            "bin_end": 0.5,
            "count": 0
           }
          ]
         }
        },
        {
         "name": "AvgQuestionCommentCount",
         "dtype": "float64",
         "stats": {
          "unique_count": 1,
          "nan_count": 0,
          "min": "0.0",
          "max": "0.0",
          "histogram": [
           {
            "bin_start": -0.5,
            "bin_end": -0.4,
            "count": 0
           },
           {
            "bin_start": -0.4,
            "bin_end": -0.3,
            "count": 0
           },
           {
            "bin_start": -0.3,
            "bin_end": -0.19999999999999996,
            "count": 0
           },
           {
            "bin_start": -0.19999999999999996,
            "bin_end": -0.09999999999999998,
            "count": 0
           },
           {
            "bin_start": -0.09999999999999998,
            "bin_end": 0,
            "count": 0
           },
           {
            "bin_start": 0,
            "bin_end": 0.10000000000000009,
            "count": 5
           },
           {
            "bin_start": 0.10000000000000009,
            "bin_end": 0.20000000000000007,
            "count": 0
           },
           {
            "bin_start": 0.20000000000000007,
            "bin_end": 0.30000000000000004,
            "count": 0
           },
           {
            "bin_start": 0.30000000000000004,
            "bin_end": 0.4,
            "count": 0
           },
           {
            "bin_start": 0.4,
            "bin_end": 0.5,
            "count": 0
           }
          ]
         }
        },
        {
         "name": "AvgQuestionScore",
         "dtype": "float64",
         "stats": {
          "unique_count": 1,
          "nan_count": 0,
          "min": "0.0",
          "max": "0.0",
          "histogram": [
           {
            "bin_start": -0.5,
            "bin_end": -0.4,
            "count": 0
           },
           {
            "bin_start": -0.4,
            "bin_end": -0.3,
            "count": 0
           },
           {
            "bin_start": -0.3,
            "bin_end": -0.19999999999999996,
            "count": 0
           },
           {
            "bin_start": -0.19999999999999996,
            "bin_end": -0.09999999999999998,
            "count": 0
           },
           {
            "bin_start": -0.09999999999999998,
            "bin_end": 0,
            "count": 0
           },
           {
            "bin_start": 0,
            "bin_end": 0.10000000000000009,
            "count": 5
           },
           {
            "bin_start": 0.10000000000000009,
            "bin_end": 0.20000000000000007,
            "count": 0
           },
           {
            "bin_start": 0.20000000000000007,
            "bin_end": 0.30000000000000004,
            "count": 0
           },
           {
            "bin_start": 0.30000000000000004,
            "bin_end": 0.4,
            "count": 0
           },
           {
            "bin_start": 0.4,
            "bin_end": 0.5,
            "count": 0
           }
          ]
         }
        },
        {
         "name": "AvgAnswerScore",
         "dtype": "float64",
         "stats": {
          "unique_count": 1,
          "nan_count": 0,
          "min": "0.0",
          "max": "0.0",
          "histogram": [
           {
            "bin_start": -0.5,
            "bin_end": -0.4,
            "count": 0
           },
           {
            "bin_start": -0.4,
            "bin_end": -0.3,
            "count": 0
           },
           {
            "bin_start": -0.3,
            "bin_end": -0.19999999999999996,
            "count": 0
           },
           {
            "bin_start": -0.19999999999999996,
            "bin_end": -0.09999999999999998,
            "count": 0
           },
           {
            "bin_start": -0.09999999999999998,
            "bin_end": 0,
            "count": 0
           },
           {
            "bin_start": 0,
            "bin_end": 0.10000000000000009,
            "count": 5
           },
           {
            "bin_start": 0.10000000000000009,
            "bin_end": 0.20000000000000007,
            "count": 0
           },
           {
            "bin_start": 0.20000000000000007,
            "bin_end": 0.30000000000000004,
            "count": 0
           },
           {
            "bin_start": 0.30000000000000004,
            "bin_end": 0.4,
            "count": 0
           },
           {
            "bin_start": 0.4,
            "bin_end": 0.5,
            "count": 0
           }
          ]
         }
        },
        {
         "name": "AvgAnswerCommentCount",
         "dtype": "float64",
         "stats": {
          "unique_count": 1,
          "nan_count": 0,
          "min": "0.0",
          "max": "0.0",
          "histogram": [
           {
            "bin_start": -0.5,
            "bin_end": -0.4,
            "count": 0
           },
           {
            "bin_start": -0.4,
            "bin_end": -0.3,
            "count": 0
           },
           {
            "bin_start": -0.3,
            "bin_end": -0.19999999999999996,
            "count": 0
           },
           {
            "bin_start": -0.19999999999999996,
            "bin_end": -0.09999999999999998,
            "count": 0
           },
           {
            "bin_start": -0.09999999999999998,
            "bin_end": 0,
            "count": 0
           },
           {
            "bin_start": 0,
            "bin_end": 0.10000000000000009,
            "count": 5
           },
           {
            "bin_start": 0.10000000000000009,
            "bin_end": 0.20000000000000007,
            "count": 0
           },
           {
            "bin_start": 0.20000000000000007,
            "bin_end": 0.30000000000000004,
            "count": 0
           },
           {
            "bin_start": 0.30000000000000004,
            "bin_end": 0.4,
            "count": 0
           },
           {
            "bin_start": 0.4,
            "bin_end": 0.5,
            "count": 0
           }
          ]
         }
        },
        {
         "name": "AvgCommentScore",
         "dtype": "float64",
         "stats": {
          "unique_count": 1,
          "nan_count": 0,
          "min": "0.0",
          "max": "0.0",
          "histogram": [
           {
            "bin_start": -0.5,
            "bin_end": -0.4,
            "count": 0
           },
           {
            "bin_start": -0.4,
            "bin_end": -0.3,
            "count": 0
           },
           {
            "bin_start": -0.3,
            "bin_end": -0.19999999999999996,
            "count": 0
           },
           {
            "bin_start": -0.19999999999999996,
            "bin_end": -0.09999999999999998,
            "count": 0
           },
           {
            "bin_start": -0.09999999999999998,
            "bin_end": 0,
            "count": 0
           },
           {
            "bin_start": 0,
            "bin_end": 0.10000000000000009,
            "count": 5
           },
           {
            "bin_start": 0.10000000000000009,
            "bin_end": 0.20000000000000007,
            "count": 0
           },
           {
            "bin_start": 0.20000000000000007,
            "bin_end": 0.30000000000000004,
            "count": 0
           },
           {
            "bin_start": 0.30000000000000004,
            "bin_end": 0.4,
            "count": 0
           },
           {
            "bin_start": 0.4,
            "bin_end": 0.5,
            "count": 0
           }
          ]
         }
        },
        {
         "name": "MonthsActive",
         "dtype": "int64",
         "stats": {
          "unique_count": 1,
          "nan_count": 0,
          "min": "0",
          "max": "0",
          "histogram": [
           {
            "bin_start": -0.5,
            "bin_end": -0.4,
            "count": 0
           },
           {
            "bin_start": -0.4,
            "bin_end": -0.3,
            "count": 0
           },
           {
            "bin_start": -0.3,
            "bin_end": -0.19999999999999996,
            "count": 0
           },
           {
            "bin_start": -0.19999999999999996,
            "bin_end": -0.09999999999999998,
            "count": 0
           },
           {
            "bin_start": -0.09999999999999998,
            "bin_end": 0,
            "count": 0
           },
           {
            "bin_start": 0,
            "bin_end": 0.10000000000000009,
            "count": 5
           },
           {
            "bin_start": 0.10000000000000009,
            "bin_end": 0.20000000000000007,
            "count": 0
           },
           {
            "bin_start": 0.20000000000000007,
            "bin_end": 0.30000000000000004,
            "count": 0
           },
           {
            "bin_start": 0.30000000000000004,
            "bin_end": 0.4,
            "count": 0
           },
           {
            "bin_start": 0.4,
            "bin_end": 0.5,
            "count": 0
           }
          ]
         }
        },
        {
         "name": "MonthsSinceLastActivity",
         "dtype": "int64",
         "stats": {
          "unique_count": 1,
          "nan_count": 0,
          "min": "111",
          "max": "111",
          "histogram": [
           {
            "bin_start": 110.5,
            "bin_end": 110.6,
            "count": 0
           },
           {
            "bin_start": 110.6,
            "bin_end": 110.7,
            "count": 0
           },
           {
            "bin_start": 110.7,
            "bin_end": 110.8,
            "count": 0
           },
           {
            "bin_start": 110.8,
            "bin_end": 110.9,
            "count": 0
           },
           {
            "bin_start": 110.9,
            "bin_end": 111,
            "count": 0
           },
           {
            "bin_start": 111,
            "bin_end": 111.1,
            "count": 5
           },
           {
            "bin_start": 111.1,
            "bin_end": 111.2,
            "count": 0
           },
           {
            "bin_start": 111.2,
            "bin_end": 111.3,
            "count": 0
           },
           {
            "bin_start": 111.3,
            "bin_end": 111.4,
            "count": 0
           },
           {
            "bin_start": 111.4,
            "bin_end": 111.5,
            "count": 0
           }
          ]
         }
        },
        {
         "name": "MonthsSinceJoined",
         "dtype": "int64",
         "stats": {
          "unique_count": 2,
          "nan_count": 0,
          "min": "111",
          "max": "112",
          "histogram": [
           {
            "bin_start": 111,
            "bin_end": 111.1,
            "count": 3
           },
           {
            "bin_start": 111.1,
            "bin_end": 111.2,
            "count": 0
           },
           {
            "bin_start": 111.2,
            "bin_end": 111.3,
            "count": 0
           },
           {
            "bin_start": 111.3,
            "bin_end": 111.4,
            "count": 0
           },
           {
            "bin_start": 111.4,
            "bin_end": 111.5,
            "count": 0
           },
           {
            "bin_start": 111.5,
            "bin_end": 111.6,
            "count": 0
           },
           {
            "bin_start": 111.6,
            "bin_end": 111.7,
            "count": 0
           },
           {
            "bin_start": 111.7,
            "bin_end": 111.8,
            "count": 0
           },
           {
            "bin_start": 111.8,
            "bin_end": 111.9,
            "count": 0
           },
           {
            "bin_start": 111.9,
            "bin_end": 112,
            "count": 2
           }
          ]
         }
        },
        {
         "name": "disengaged",
         "dtype": "int64",
         "stats": {
          "unique_count": 1,
          "nan_count": 0,
          "min": "1",
          "max": "1",
          "histogram": [
           {
            "bin_start": 0.5,
            "bin_end": 0.6,
            "count": 0
           },
           {
            "bin_start": 0.6,
            "bin_end": 0.7,
            "count": 0
           },
           {
            "bin_start": 0.7,
            "bin_end": 0.8,
            "count": 0
           },
           {
            "bin_start": 0.8,
            "bin_end": 0.9,
            "count": 0
           },
           {
            "bin_start": 0.9,
            "bin_end": 1,
            "count": 0
           },
           {
            "bin_start": 1,
            "bin_end": 1.1,
            "count": 5
           },
           {
            "bin_start": 1.1,
            "bin_end": 1.2000000000000002,
            "count": 0
           },
           {
            "bin_start": 1.2000000000000002,
            "bin_end": 1.3,
            "count": 0
           },
           {
            "bin_start": 1.3,
            "bin_end": 1.4,
            "count": 0
           },
           {
            "bin_start": 1.4,
            "bin_end": 1.5,
            "count": 0
           }
          ]
         }
        },
        {
         "name": "_deepnote_index_column",
         "dtype": "int64"
        }
       ],
       "rows": [
        {
         "index": 4,
         "UserId": 143,
         "CreationDate": "2012-03-07 16:21:44",
         "CastDownVotes": 0,
         "CastUpVotes": 2,
         "ProfileViews": 1,
         "LastAccessDate": "2012-03-07 16:21:44",
         "QuestionCount": 0,
         "AnswerCount": 0,
         "CommentCount": 0,
         "AvgQuestionViewCount": 0,
         "AvgQuestionFavouriteCount": 0,
         "AvgQuestionCommentCount": 0,
         "AvgQuestionScore": 0,
         "AvgAnswerScore": 0,
         "AvgAnswerCommentCount": 0,
         "AvgCommentScore": 0,
         "MonthsActive": 0,
         "MonthsSinceLastActivity": 111,
         "MonthsSinceJoined": 111,
         "disengaged": 1,
         "_deepnote_index_column": 0
        },
        {
         "index": 5,
         "UserId": 177,
         "CreationDate": "2012-03-10 03:24:40",
         "CastDownVotes": 0,
         "CastUpVotes": 2,
         "ProfileViews": 1,
         "LastAccessDate": "2012-03-10 03:24:40",
         "QuestionCount": 0,
         "AnswerCount": 0,
         "CommentCount": 0,
         "AvgQuestionViewCount": 0,
         "AvgQuestionFavouriteCount": 0,
         "AvgQuestionCommentCount": 0,
         "AvgQuestionScore": 0,
         "AvgAnswerScore": 0,
         "AvgAnswerCommentCount": 0,
         "AvgCommentScore": 0,
         "MonthsActive": 0,
         "MonthsSinceLastActivity": 111,
         "MonthsSinceJoined": 111,
         "disengaged": 1,
         "_deepnote_index_column": 1
        },
        {
         "index": 6,
         "UserId": 166,
         "CreationDate": "2012-03-08 21:54:51",
         "CastDownVotes": 0,
         "CastUpVotes": 3,
         "ProfileViews": 0,
         "LastAccessDate": "2012-03-11 06:42:16",
         "QuestionCount": 0,
         "AnswerCount": 0,
         "CommentCount": 0,
         "AvgQuestionViewCount": 0,
         "AvgQuestionFavouriteCount": 0,
         "AvgQuestionCommentCount": 0,
         "AvgQuestionScore": 0,
         "AvgAnswerScore": 0,
         "AvgAnswerCommentCount": 0,
         "AvgCommentScore": 0,
         "MonthsActive": 0,
         "MonthsSinceLastActivity": 111,
         "MonthsSinceJoined": 111,
         "disengaged": 1,
         "_deepnote_index_column": 2
        },
        {
         "index": 11,
         "UserId": 9,
         "CreationDate": "2012-03-06 18:47:32",
         "CastDownVotes": 0,
         "CastUpVotes": 3,
         "ProfileViews": 3,
         "LastAccessDate": "2012-03-20 19:57:27",
         "QuestionCount": 0,
         "AnswerCount": 0,
         "CommentCount": 0,
         "AvgQuestionViewCount": 0,
         "AvgQuestionFavouriteCount": 0,
         "AvgQuestionCommentCount": 0,
         "AvgQuestionScore": 0,
         "AvgAnswerScore": 0,
         "AvgAnswerCommentCount": 0,
         "AvgCommentScore": 0,
         "MonthsActive": 0,
         "MonthsSinceLastActivity": 111,
         "MonthsSinceJoined": 112,
         "disengaged": 1,
         "_deepnote_index_column": 3
        },
        {
         "index": 12,
         "UserId": 38,
         "CreationDate": "2012-03-06 19:07:54",
         "CastDownVotes": 0,
         "CastUpVotes": 8,
         "ProfileViews": 0,
         "LastAccessDate": "2012-03-20 20:03:54",
         "QuestionCount": 0,
         "AnswerCount": 0,
         "CommentCount": 0,
         "AvgQuestionViewCount": 0,
         "AvgQuestionFavouriteCount": 0,
         "AvgQuestionCommentCount": 0,
         "AvgQuestionScore": 0,
         "AvgAnswerScore": 0,
         "AvgAnswerCommentCount": 0,
         "AvgCommentScore": 0,
         "MonthsActive": 0,
         "MonthsSinceLastActivity": 111,
         "MonthsSinceJoined": 112,
         "disengaged": 1,
         "_deepnote_index_column": 4
        }
       ]
      },
      "text/plain": "   index  UserId         CreationDate  CastDownVotes  CastUpVotes  \\\n0      4     143  2012-03-07 16:21:44              0            2   \n1      5     177  2012-03-10 03:24:40              0            2   \n2      6     166  2012-03-08 21:54:51              0            3   \n3     11       9  2012-03-06 18:47:32              0            3   \n4     12      38  2012-03-06 19:07:54              0            8   \n\n   ProfileViews       LastAccessDate  QuestionCount  AnswerCount  \\\n0             1  2012-03-07 16:21:44              0            0   \n1             1  2012-03-10 03:24:40              0            0   \n2             0  2012-03-11 06:42:16              0            0   \n3             3  2012-03-20 19:57:27              0            0   \n4             0  2012-03-20 20:03:54              0            0   \n\n   CommentCount  ...  AvgQuestionFavouriteCount  AvgQuestionCommentCount  \\\n0             0  ...                        0.0                      0.0   \n1             0  ...                        0.0                      0.0   \n2             0  ...                        0.0                      0.0   \n3             0  ...                        0.0                      0.0   \n4             0  ...                        0.0                      0.0   \n\n   AvgQuestionScore  AvgAnswerScore  AvgAnswerCommentCount  AvgCommentScore  \\\n0               0.0             0.0                    0.0              0.0   \n1               0.0             0.0                    0.0              0.0   \n2               0.0             0.0                    0.0              0.0   \n3               0.0             0.0                    0.0              0.0   \n4               0.0             0.0                    0.0              0.0   \n\n   MonthsActive  MonthsSinceLastActivity  MonthsSinceJoined  disengaged  \n0             0                      111                111           1  \n1             0                      111                111           1  \n2             0                      111                111           1  \n3             0                      111                112           1  \n4             0                      111                112           1  \n\n[5 rows x 21 columns]",
      "text/html": "<div>\n<style scoped>\n    .dataframe tbody tr th:only-of-type {\n        vertical-align: middle;\n    }\n\n    .dataframe tbody tr th {\n        vertical-align: top;\n    }\n\n    .dataframe thead th {\n        text-align: right;\n    }\n</style>\n<table border=\"1\" class=\"dataframe\">\n  <thead>\n    <tr style=\"text-align: right;\">\n      <th></th>\n      <th>index</th>\n      <th>UserId</th>\n      <th>CreationDate</th>\n      <th>CastDownVotes</th>\n      <th>CastUpVotes</th>\n      <th>ProfileViews</th>\n      <th>LastAccessDate</th>\n      <th>QuestionCount</th>\n      <th>AnswerCount</th>\n      <th>CommentCount</th>\n      <th>...</th>\n      <th>AvgQuestionFavouriteCount</th>\n      <th>AvgQuestionCommentCount</th>\n      <th>AvgQuestionScore</th>\n      <th>AvgAnswerScore</th>\n      <th>AvgAnswerCommentCount</th>\n      <th>AvgCommentScore</th>\n      <th>MonthsActive</th>\n      <th>MonthsSinceLastActivity</th>\n      <th>MonthsSinceJoined</th>\n      <th>disengaged</th>\n    </tr>\n  </thead>\n  <tbody>\n    <tr>\n      <th>0</th>\n      <td>4</td>\n      <td>143</td>\n      <td>2012-03-07 16:21:44</td>\n      <td>0</td>\n      <td>2</td>\n      <td>1</td>\n      <td>2012-03-07 16:21:44</td>\n      <td>0</td>\n      <td>0</td>\n      <td>0</td>\n      <td>...</td>\n      <td>0.0</td>\n      <td>0.0</td>\n      <td>0.0</td>\n      <td>0.0</td>\n      <td>0.0</td>\n      <td>0.0</td>\n      <td>0</td>\n      <td>111</td>\n      <td>111</td>\n      <td>1</td>\n    </tr>\n    <tr>\n      <th>1</th>\n      <td>5</td>\n      <td>177</td>\n      <td>2012-03-10 03:24:40</td>\n      <td>0</td>\n      <td>2</td>\n      <td>1</td>\n      <td>2012-03-10 03:24:40</td>\n      <td>0</td>\n      <td>0</td>\n      <td>0</td>\n      <td>...</td>\n      <td>0.0</td>\n      <td>0.0</td>\n      <td>0.0</td>\n      <td>0.0</td>\n      <td>0.0</td>\n      <td>0.0</td>\n      <td>0</td>\n      <td>111</td>\n      <td>111</td>\n      <td>1</td>\n    </tr>\n    <tr>\n      <th>2</th>\n      <td>6</td>\n      <td>166</td>\n      <td>2012-03-08 21:54:51</td>\n      <td>0</td>\n      <td>3</td>\n      <td>0</td>\n      <td>2012-03-11 06:42:16</td>\n      <td>0</td>\n      <td>0</td>\n      <td>0</td>\n      <td>...</td>\n      <td>0.0</td>\n      <td>0.0</td>\n      <td>0.0</td>\n      <td>0.0</td>\n      <td>0.0</td>\n      <td>0.0</td>\n      <td>0</td>\n      <td>111</td>\n      <td>111</td>\n      <td>1</td>\n    </tr>\n    <tr>\n      <th>3</th>\n      <td>11</td>\n      <td>9</td>\n      <td>2012-03-06 18:47:32</td>\n      <td>0</td>\n      <td>3</td>\n      <td>3</td>\n      <td>2012-03-20 19:57:27</td>\n      <td>0</td>\n      <td>0</td>\n      <td>0</td>\n      <td>...</td>\n      <td>0.0</td>\n      <td>0.0</td>\n      <td>0.0</td>\n      <td>0.0</td>\n      <td>0.0</td>\n      <td>0.0</td>\n      <td>0</td>\n      <td>111</td>\n      <td>112</td>\n      <td>1</td>\n    </tr>\n    <tr>\n      <th>4</th>\n      <td>12</td>\n      <td>38</td>\n      <td>2012-03-06 19:07:54</td>\n      <td>0</td>\n      <td>8</td>\n      <td>0</td>\n      <td>2012-03-20 20:03:54</td>\n      <td>0</td>\n      <td>0</td>\n      <td>0</td>\n      <td>...</td>\n      <td>0.0</td>\n      <td>0.0</td>\n      <td>0.0</td>\n      <td>0.0</td>\n      <td>0.0</td>\n      <td>0.0</td>\n      <td>0</td>\n      <td>111</td>\n      <td>112</td>\n      <td>1</td>\n    </tr>\n  </tbody>\n</table>\n<p>5 rows × 21 columns</p>\n</div>"
     },
     "metadata": {}
    }
   ],
   "execution_count": null
  },
  {
   "cell_type": "code",
   "metadata": {
    "cell_id": "00008-6909207e-ec81-454d-8132-add1a1014125",
    "deepnote_to_be_reexecuted": false,
    "source_hash": "39ea53fd",
    "execution_start": 1654265691968,
    "execution_millis": 46,
    "deepnote_cell_type": "code",
    "deepnote_cell_height": 314.83331298828125
   },
   "source": "if featureset == 'cb':\n    features = features_content_based \nelif featureset == 'b':\n    features = features_behvavioural\nelif featureset == 'cb+b':\n    features = features_behvavioural + features_content_based\nelse:\n    # raises an error\n    features = None\n\ntime_column = \"MonthsActive\"\nevent_column = \"disengaged\"\n\nraw_dataset_cut = raw_dataset.copy()[features + [time_column, event_column]]",
   "outputs": [],
   "execution_count": null
  },
  {
   "cell_type": "code",
   "metadata": {
    "cell_id": "00009-36097fa3-5ce6-481e-94fd-a16eaa4d9b97",
    "deepnote_to_be_reexecuted": false,
    "source_hash": "cc21f90b",
    "execution_start": 1654265692060,
    "execution_millis": 1,
    "deepnote_cell_type": "code",
    "deepnote_cell_height": 1052.8333740234375
   },
   "source": "# Reading the dataset\nN = raw_dataset_cut.shape[0]\ndataset = raw_dataset_cut\n\n\ndef fit1(model, X_train, T_train, E_train, seed):\n        return model.fit(X_train, T_train, E_train,\n                         max_features=\"sqrt\", max_depth=5, min_node_size=30,\n                         num_threads=-1, weights=None, sample_size_pct=0.63, \n                         importance_mode='permutation', seed=seed, \n                         save_memory=False)\n\nmodels_data = dict()\n    \n# runs\nfor i in range(0, num_runs):\n    \n    seed = None\n    \n    # Building training and testing sets #\n    index_train, index_test = train_test_split(range(N), test_size = 0.01, random_state=seed)\n    data_train = dataset.loc[index_train].reset_index(drop=True)\n    data_test = dataset.loc[index_test].reset_index(drop=True)\n\n    # Creating the X, T and E input\n    X_test = data_test[features]\n    T_test = data_test[time_column]\n    E_test = data_test[event_column]\n\n    model = RandomSurvivalForestModel(num_trees=5)\n\n    average_c_index = 0.0\n    n_fold = 5\n\n    kf = KFold(n_splits=n_fold)\n    for fold, te in enumerate(kf.split(data_train)):\n        trainining, evaluation = te\n\n        data_train_kf =data_train.loc[trainining].reset_index(drop=True)\n        data_eval_kf = data_train.loc[evaluation].reset_index(drop=True)\n\n        X_train, X_evaluation = data_train_kf[features], data_eval_kf[features]\n        T_train, T_evaluation = data_train_kf[time_column], data_eval_kf[time_column]\n        E_train, E_evaluation = data_train_kf[event_column], data_eval_kf[event_column]\n\n        fit1(model, X_train, T_train, E_train, seed)\n        \n        c_index = concordance_index(model, X_evaluation, T_evaluation, E_evaluation)\n        print('Fold #{fold} C-index: {:.2f}'.format(c_index, fold=fold))\n        \n        models_data[(i, fold)] = (model.variable_importance, c_index)\n\n        average_c_index += c_index\n\n    print('Run {run}, Average C-index: {ci:.2f}'.format(run=i, ci=average_c_index/n_fold))",
   "outputs": [],
   "execution_count": null
  },
  {
   "cell_type": "code",
   "metadata": {
    "cell_id": "00010-0bbcef33-7db3-4673-bc5a-fa92238a7673",
    "deepnote_to_be_reexecuted": false,
    "source_hash": "7ea4c29b",
    "execution_start": 1654265692101,
    "execution_millis": 0,
    "deepnote_cell_type": "code",
    "deepnote_cell_height": 98.83332824707031
   },
   "source": "with open(\"results/{0}/runs_info_{1}_{2}.none.bin\".format(dataset_flag, str(censoring_margin), featureset),'wb') as runs_info:\n    pickle.dump(models_data, runs_info)",
   "outputs": [],
   "execution_count": null
  },
  {
   "cell_type": "code",
   "metadata": {
    "cell_id": "00011-7b6c0bc6-cdf7-48e8-8945-e9f97cf5f727",
    "deepnote_to_be_reexecuted": false,
    "source_hash": "2e6aa820",
    "execution_start": 1654265692103,
    "execution_millis": 597848,
    "deepnote_cell_type": "code",
    "deepnote_cell_height": 183.4166717529297
   },
   "source": "dataset_flag = \"cs\"\ncensoring_margin = 24\nfeatureset = \"cb+b\"\nprint(\"results/{0}/runs_info_{1}_{2}.bin\".format(dataset_flag,\n                                                 str(censoring_margin), featureset))",
   "outputs": [
    {
     "name": "stdout",
     "text": "results/cs/runs_info_24_cb+b.bin\n",
     "output_type": "stream"
    }
   ],
   "execution_count": null
  },
  {
   "cell_type": "code",
   "metadata": {
    "cell_id": "00012-c599c604-715d-4bf4-bbe2-c84d7c9b337a",
    "deepnote_to_be_reexecuted": false,
    "source_hash": "63d1605e",
    "execution_start": 1654265692145,
    "execution_millis": 597747,
    "deepnote_cell_type": "code",
    "deepnote_cell_height": 152.8333282470703
   },
   "source": "with open(\"results/{0}/runs_info_{1}_{2}.bin\".format(dataset_flag, \n                                                    str(censoring_margin), featureset),'rb') as runs_info:\n    models_data_loaded = pickle.load(runs_info)\n\n#print(models_data_loaded)",
   "outputs": [],
   "execution_count": null
  },
  {
   "cell_type": "code",
   "metadata": {
    "cell_id": "00013-5f0588cd-8e8a-43fe-aa85-fed44ed32d9c",
    "deepnote_to_be_reexecuted": false,
    "source_hash": "60b803d8",
    "execution_start": 1654265692155,
    "execution_millis": 4,
    "deepnote_cell_type": "code",
    "deepnote_cell_height": 397.33331298828125,
    "deepnote_output_heights": [
     null,
     21
    ]
   },
   "source": "c_index = []\nattribute_importance = dict()\nfor i, pair in enumerate(models_data_loaded.items()):\n    _, v = pair\n    c_index.append(v[1])\n    \n    for k, v2 in v[0].items():\n        if k in attribute_importance:\n            attribute_importance[k].append(v2)\n        else:\n            attribute_importance[k] = [v2]\n\nprint('Average C-index: {ci:.2f}'.format(ci=np.mean(c_index)))\nround(np.std(c_index), 2)",
   "outputs": [
    {
     "name": "stdout",
     "text": "Average C-index: 0.69\n",
     "output_type": "stream"
    },
    {
     "output_type": "execute_result",
     "execution_count": 15,
     "data": {
      "text/plain": "0.01"
     },
     "metadata": {}
    }
   ],
   "execution_count": null
  },
  {
   "cell_type": "code",
   "metadata": {
    "cell_id": "00014-1bb3cfa5-f340-4536-a0d5-6180f69f9df9",
    "deepnote_to_be_reexecuted": false,
    "source_hash": "cfdddfc9",
    "execution_start": 1654265692249,
    "execution_millis": 1741,
    "deepnote_cell_type": "code",
    "deepnote_cell_height": 1152.8333740234375,
    "deepnote_output_heights": [
     282
    ]
   },
   "source": "df = pd.DataFrame(attribute_importance)\n\ndf2 = df.copy()\n\ndf2.rename(columns={'CastDownVotes': '$A_1$', 'CastUpVotes': '$A_2$',\n                    'QuestionCount': '$A_3$', 'AnswerCount': '$A_4$',\n                    'CommentCount': '$A_5$', \n                    \n                    'AvgQuestionViewCount': '$A_6$', 'AvgQuestionCommentCount': '$A_7$', \n                    \"AvgQuestionScore\": '$A_8$', 'AvgAnswerScore': '$A_9$', \n                    'AvgAnswerCommentCount': '$A_{10}$', 'AvgCommentScore': '$A_{11}$', \n                    }, inplace=True)\n\ndf2 = df2.reindex(sorted(df2.columns), axis=1)\n\nmeans = []\nerrors = []\n\nfor c in df2.columns:\n    means.append(df2[c].median())\n    errors.append(df2[c].std())\n\n# Create lists for the plot\nmaterials = list(df2.columns)\nx_pos = np.arange(len(materials))\nCTEs = means\nerror = errors\n\n# Build the plot\nfig, ax = plt.subplots()\nax.bar(x_pos, CTEs, yerr=error, align='center', \n       alpha=0.5, ecolor='black', capsize=10)\n\nax.set_ylabel('Importance')\nax.set_xlabel('Attribute')\nax.set_xticks(x_pos)\nax.set_xticklabels(materials)\nax.set_title('')\nax.yaxis.grid(True)\n\n# Save the figure and show\nplt.tight_layout()\nplt.savefig('figures/{0}/bar_plot_with_error_bars.pgf'.format(dataset_flag))\nplt.show()",
   "outputs": [
    {
     "data": {
      "text/plain": "<Figure size 432x288 with 1 Axes>",
      "image/png": "[encoded data removed]"
     },
     "metadata": {
      "needs_background": "light",
      "image/png": {
       "width": 424,
       "height": 280
      }
     },
     "output_type": "display_data"
    }
   ],
   "execution_count": null
  },
  {
   "cell_type": "code",
   "metadata": {
    "cell_id": "00015-c807fc6d-4aee-4864-bb82-f85c62549635",
    "deepnote_to_be_reexecuted": false,
    "source_hash": "ee9251f7",
    "execution_start": 1654265694008,
    "execution_millis": 2135,
    "deepnote_cell_type": "code",
    "deepnote_cell_height": 1036.75,
    "deepnote_output_heights": [
     472
    ]
   },
   "source": "# Fixing random state for reproducibility\nnp.random.seed(19680801)\n\n\nplt.rcdefaults()\nfig, ax = plt.subplots()\n\n# Example data\npeople = list(df2.columns)\ny_pos = np.arange(len(people))\nperformance = means\nerror = errors\n\nax.barh(y_pos, performance, xerr=error, align='center')\nax.set_yticks(y_pos)\nax.set_yticklabels(people)\nax.invert_yaxis()  # labels read top-to-bottom\nax.set_xlabel('Importance')\nax.set_ylabel('Attribute')\nax.set_title('')\nax.yaxis.grid(False)\n\n# Save the figure and show\nplt.tight_layout()\nplt.savefig('figures/{0}/bar_plot_with_error_bars_{1}_{2}.pgf'.format(dataset_flag,\n                                                 str(censoring_margin), featureset))\nplt.show()",
   "outputs": [
    {
     "data": {
      "text/plain": "<Figure size 640x480 with 1 Axes>",
      "image/png": "[encoded data removed]"
     },
     "metadata": {
      "image/png": {
       "width": 630,
       "height": 470
      }
     },
     "output_type": "display_data"
    }
   ],
   "execution_count": null
  },
  {
   "cell_type": "code",
   "metadata": {
    "cell_id": "00016-f09e8f28-1d9f-43df-8fec-e522a5e91900",
    "deepnote_to_be_reexecuted": false,
    "source_hash": "91df2a55",
    "execution_start": 1654265695609,
    "execution_millis": 2177,
    "deepnote_cell_type": "code",
    "deepnote_cell_height": 981.8333129882812,
    "deepnote_output_heights": [
     273
    ]
   },
   "source": "from collections import Counter\n\n# Creating an empty chart\nfig, ((ax1, ax2)) = plt.subplots(1, 2,  figsize=(15, 4))\n\n# Counting the number of occurrences for each category \ndata = Counter(dataset['disengaged'])\ncategory = list(data.keys())\ncounts = list(data.values())\nidx = range(len(counts))\n\n# Displaying the occurrences of the event/censoring\nax1.bar(idx, counts, color=(0.2, 0.4, 0.6, 0.6))\nax1.set_xticks(idx)\nax1.set_xticklabels(category)\nax1.set_title('Historgram of occurences of disengagement events', fontsize=12)\nax1.set_xlabel(\"Event\")\nax1.set_ylabel(\"Count\")\n\n# Showing the histogram of the survival times for the censoring\ntime_0 = dataset.loc[dataset['disengaged'] == 0, 'MonthsActive']\nax2.hist(time_0, bins=20, alpha=0.3, color='blue', label = 'User seems still active')\n\n# Showing the histogram of the survival times for the events\ntime_1 = dataset.loc[dataset['disengaged'] == 1, 'MonthsActive']\nax2.hist(time_1, bins=20, alpha=0.7, color='black', label = 'User disengaged')\nax2.set_title('Histogram of survial time', fontsize=12)\nax2.set_xlabel(\"Time (months)\")\nax2.set_ylabel(\"Count\")\n\n# Displaying everything side-by-side\nplt.legend(fontsize=12)\nplt.savefig('figures/{0}/observation_period_not_last{1}.pgf'.format(dataset_flag, str(censoring_margin)))\n\nplt.show()",
   "outputs": [
    {
     "data": {
      "text/plain": "<Figure size 1500x400 with 2 Axes>",
      "image/png": "[encoded data removed]"
     },
     "metadata": {
      "image/png": {
       "width": 1255,
       "height": 393
      }
     },
     "output_type": "display_data"
    }
   ],
   "execution_count": null
  },
  {
   "cell_type": "markdown",
   "source": "<a style='text-decoration:none;line-height:16px;display:flex;color:#5B5B62;padding:10px;justify-content:end;' href='https://deepnote.com?utm_source=created-in-deepnote-cell&projectId=5b875ec7-933b-4a3a-92bc-cefd5e08f9f6' target=\"_blank\">\n<img alt='Created in deepnote.com' style='display:inline;max-height:16px;margin:0px;margin-right:7.5px;' src='data:image/svg+xml;base64,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' > </img>\nCreated in <span style='font-weight:600;margin-left:4px;'>Deepnote</span></a>",
   "metadata": {
    "tags": [],
    "created_in_deepnote_cell": true,
    "deepnote_cell_type": "markdown"
   }
  }
 ],
 "nbformat": 4,
 "nbformat_minor": 5,
 "metadata": {
  "kernelspec": {
   "display_name": "Python 3",
   "language": "python",
   "name": "python3"
  },
  "language_info": {
   "codemirror_mode": {
    "name": "ipython",
    "version": 3
   },
   "file_extension": ".py",
   "mimetype": "text/x-python",
   "name": "python",
   "nbconvert_exporter": "python",
   "pygments_lexer": "ipython3",
   "version": "3.7.10"
  },
  "deepnote_notebook_id": "334d376d-fa4c-4220-9198-709314b77544",
  "deepnote": {},
  "deepnote_execution_queue": []
 }
}