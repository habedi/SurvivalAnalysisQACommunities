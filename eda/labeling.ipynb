{
 "cells": [
  {
   "cell_type": "code",
   "metadata": {
    "tags": [],
    "deepnote_to_be_reexecuted": false,
    "source_hash": "64aaa98",
    "execution_start": 1655372353023,
    "execution_millis": 2876,
    "cell_id": "5c3e643c-86ff-4a5d-aa8c-d34f62de8db7",
    "deepnote_cell_type": "code",
    "deepnote_cell_height": 718.8333129882812
   },
   "source": "# This command install the Xelatex typesetting engine on your Debian-based machine\n!chmod u+x ../dependencies.sh && sudo apt-get update && sudo bash ../dependencies.sh",
   "execution_count": 1,
   "outputs": [
    {
     "name": "stdout",
     "text": "Hit:1 http://deb.debian.org/debian buster InRelease\nHit:2 http://deb.debian.org/debian buster-updates InRelease\nHit:3 http://security.debian.org/debian-security buster/updates InRelease\n\n\n\n\ngit-lfs is already the newest version (2.7.1-1+deb10u1).\nnano is already the newest version (3.2-3).\ntexlive-xetex is already the newest version (2018.20190227-2).\n0 upgraded, 0 newly installed, 0 to remove and 0 not upgraded.\n",
     "output_type": "stream"
    }
   ]
  },
  {
   "cell_type": "code",
   "metadata": {
    "tags": [],
    "deepnote_to_be_reexecuted": false,
    "source_hash": "9efb7edc",
    "execution_start": 1655372355581,
    "execution_millis": 2,
    "cell_id": "00001-414b79b8-cbc9-4912-a25b-ef296837fb7e",
    "deepnote_cell_type": "code",
    "deepnote_cell_height": 152.8333282470703
   },
   "source": "import pandas as pd\nimport numpy as np\n\n# Disabling the assignment warning\npd.options.mode.chained_assignment = None",
   "execution_count": 2,
   "outputs": []
  },
  {
   "cell_type": "code",
   "metadata": {
    "tags": [],
    "deepnote_to_be_reexecuted": false,
    "source_hash": "c1e7f990",
    "execution_start": 1655372355589,
    "execution_millis": 528,
    "cell_id": "00002-2d692541-87f3-4cac-b4bd-db9e1a15a47e",
    "deepnote_cell_type": "code",
    "deepnote_cell_height": 170.8333282470703
   },
   "source": "dataset_names = [\"p\", \"ds\", \"cs\"]\n\ndata = {k:dict() for k in dataset_names}\n\nfor i in dataset_names:\n    data[i][\"features\"] = pd.read_csv(\"../processed_data/{0}/user_features.csv\".format(i), sep=\"\\t\")",
   "execution_count": 3,
   "outputs": []
  },
  {
   "cell_type": "code",
   "metadata": {
    "tags": [],
    "deepnote_to_be_reexecuted": false,
    "source_hash": "40a01bf0",
    "execution_start": 1655372356120,
    "execution_millis": 3,
    "cell_id": "00003-afa78edc-5d14-4c4c-b312-84bdbe20f546",
    "deepnote_cell_type": "code",
    "deepnote_cell_height": 134.8333282470703
   },
   "source": "# 0 for politics stack exchange\n# 1 for data science stack exchange\n# 2 for computer science stack exchange\ndataset_id = 2",
   "execution_count": 4,
   "outputs": []
  },
  {
   "cell_type": "code",
   "metadata": {
    "tags": [],
    "deepnote_to_be_reexecuted": false,
    "source_hash": "46d49201",
    "execution_start": 1655372356128,
    "execution_millis": 65,
    "cell_id": "00004-c4eae600-7f02-4391-a106-9d5d00c04e82",
    "deepnote_cell_type": "code",
    "deepnote_cell_height": 628.8333129882812,
    "deepnote_output_heights": [
     611
    ]
   },
   "source": "df = data[dataset_names[dataset_id]]['features']\ndf",
   "execution_count": 5,
   "outputs": [
    {
     "output_type": "execute_result",
     "execution_count": 5,
     "data": {
      "application/vnd.deepnote.dataframe.v3+json": {
       "column_count": 19,
       "row_count": 113433,
       "columns": [
        {
         "name": "UserId",
         "dtype": "int64"
        },
        {
         "name": "CreationDate",
         "dtype": "object"
        },
        {
         "name": "CastDownVotes",
         "dtype": "int64"
        },
        {
         "name": "CastUpVotes",
         "dtype": "int64"
        },
        {
         "name": "ProfileViews",
         "dtype": "int64"
        },
        {
         "name": "LastAccessDate",
         "dtype": "object"
        },
        {
         "name": "QuestionCount",
         "dtype": "int64"
        },
        {
         "name": "AnswerCount",
         "dtype": "int64"
        },
        {
         "name": "CommentCount",
         "dtype": "int64"
        },
        {
         "name": "AvgQuestionViewCount",
         "dtype": "float64"
        },
        {
         "name": "AvgQuestionFavouriteCount",
         "dtype": "float64"
        },
        {
         "name": "AvgQuestionCommentCount",
         "dtype": "float64"
        },
        {
         "name": "AvgQuestionScore",
         "dtype": "float64"
        },
        {
         "name": "AvgAnswerScore",
         "dtype": "float64"
        },
        {
         "name": "AvgAnswerCommentCount",
         "dtype": "float64"
        },
        {
         "name": "AvgCommentScore",
         "dtype": "float64"
        },
        {
         "name": "MonthsActive",
         "dtype": "int64"
        },
        {
         "name": "MonthsSinceLastActivity",
         "dtype": "int64"
        },
        {
         "name": "MonthsSinceJoined",
         "dtype": "int64"
        },
        {
         "name": "_deepnote_index_column",
         "dtype": "int64"
        }
       ],
       "rows": [
        {
         "UserId": 74,
         "CreationDate": "2012-03-06 20:09:16",
         "CastDownVotes": 0,
         "CastUpVotes": 0,
         "ProfileViews": 0,
         "LastAccessDate": "2012-03-06 20:09:16",
         "QuestionCount": 0,
         "AnswerCount": 0,
         "CommentCount": 0,
         "AvgQuestionViewCount": 0,
         "AvgQuestionFavouriteCount": 0,
         "AvgQuestionCommentCount": 0,
         "AvgQuestionScore": 0,
         "AvgAnswerScore": 0,
         "AvgAnswerCommentCount": 0,
         "AvgCommentScore": 0,
         "MonthsActive": 0,
         "MonthsSinceLastActivity": 112,
         "MonthsSinceJoined": 112,
         "_deepnote_index_column": 0
        },
        {
         "UserId": 93,
         "CreationDate": "2012-03-06 22:11:12",
         "CastDownVotes": 0,
         "CastUpVotes": 0,
         "ProfileViews": 0,
         "LastAccessDate": "2012-03-06 22:11:12",
         "QuestionCount": 0,
         "AnswerCount": 0,
         "CommentCount": 0,
         "AvgQuestionViewCount": 0,
         "AvgQuestionFavouriteCount": 0,
         "AvgQuestionCommentCount": 0,
         "AvgQuestionScore": 0,
         "AvgAnswerScore": 0,
         "AvgAnswerCommentCount": 0,
         "AvgCommentScore": 0,
         "MonthsActive": 0,
         "MonthsSinceLastActivity": 112,
         "MonthsSinceJoined": 112,
         "_deepnote_index_column": 1
        },
        {
         "UserId": 109,
         "CreationDate": "2012-03-07 01:15:40",
         "CastDownVotes": 0,
         "CastUpVotes": 0,
         "ProfileViews": 0,
         "LastAccessDate": "2012-03-07 01:15:40",
         "QuestionCount": 0,
         "AnswerCount": 0,
         "CommentCount": 0,
         "AvgQuestionViewCount": 0,
         "AvgQuestionFavouriteCount": 0,
         "AvgQuestionCommentCount": 0,
         "AvgQuestionScore": 0,
         "AvgAnswerScore": 0,
         "AvgAnswerCommentCount": 0,
         "AvgCommentScore": 0,
         "MonthsActive": 0,
         "MonthsSinceLastActivity": 112,
         "MonthsSinceJoined": 112,
         "_deepnote_index_column": 2
        },
        {
         "UserId": 131,
         "CreationDate": "2012-03-07 10:36:39",
         "CastDownVotes": 0,
         "CastUpVotes": 0,
         "ProfileViews": 1,
         "LastAccessDate": "2012-03-07 10:36:39",
         "QuestionCount": 0,
         "AnswerCount": 0,
         "CommentCount": 0,
         "AvgQuestionViewCount": 0,
         "AvgQuestionFavouriteCount": 0,
         "AvgQuestionCommentCount": 0,
         "AvgQuestionScore": 0,
         "AvgAnswerScore": 0,
         "AvgAnswerCommentCount": 0,
         "AvgCommentScore": 0,
         "MonthsActive": 0,
         "MonthsSinceLastActivity": 111,
         "MonthsSinceJoined": 111,
         "_deepnote_index_column": 3
        },
        {
         "UserId": 143,
         "CreationDate": "2012-03-07 16:21:44",
         "CastDownVotes": 0,
         "CastUpVotes": 2,
         "ProfileViews": 1,
         "LastAccessDate": "2012-03-07 16:21:44",
         "QuestionCount": 0,
         "AnswerCount": 0,
         "CommentCount": 0,
         "AvgQuestionViewCount": 0,
         "AvgQuestionFavouriteCount": 0,
         "AvgQuestionCommentCount": 0,
         "AvgQuestionScore": 0,
         "AvgAnswerScore": 0,
         "AvgAnswerCommentCount": 0,
         "AvgCommentScore": 0,
         "MonthsActive": 0,
         "MonthsSinceLastActivity": 111,
         "MonthsSinceJoined": 111,
         "_deepnote_index_column": 4
        },
        {
         "UserId": 177,
         "CreationDate": "2012-03-10 03:24:40",
         "CastDownVotes": 0,
         "CastUpVotes": 2,
         "ProfileViews": 1,
         "LastAccessDate": "2012-03-10 03:24:40",
         "QuestionCount": 0,
         "AnswerCount": 0,
         "CommentCount": 0,
         "AvgQuestionViewCount": 0,
         "AvgQuestionFavouriteCount": 0,
         "AvgQuestionCommentCount": 0,
         "AvgQuestionScore": 0,
         "AvgAnswerScore": 0,
         "AvgAnswerCommentCount": 0,
         "AvgCommentScore": 0,
         "MonthsActive": 0,
         "MonthsSinceLastActivity": 111,
         "MonthsSinceJoined": 111,
         "_deepnote_index_column": 5
        },
        {
         "UserId": 166,
         "CreationDate": "2012-03-08 21:54:51",
         "CastDownVotes": 0,
         "CastUpVotes": 3,
         "ProfileViews": 0,
         "LastAccessDate": "2012-03-11 06:42:16",
         "QuestionCount": 0,
         "AnswerCount": 0,
         "CommentCount": 0,
         "AvgQuestionViewCount": 0,
         "AvgQuestionFavouriteCount": 0,
         "AvgQuestionCommentCount": 0,
         "AvgQuestionScore": 0,
         "AvgAnswerScore": 0,
         "AvgAnswerCommentCount": 0,
         "AvgCommentScore": 0,
         "MonthsActive": 0,
         "MonthsSinceLastActivity": 111,
         "MonthsSinceJoined": 111,
         "_deepnote_index_column": 6
        },
        {
         "UserId": 193,
         "CreationDate": "2012-03-12 09:57:47",
         "CastDownVotes": 0,
         "CastUpVotes": 0,
         "ProfileViews": 0,
         "LastAccessDate": "2012-03-12 09:57:47",
         "QuestionCount": 0,
         "AnswerCount": 0,
         "CommentCount": 0,
         "AvgQuestionViewCount": 0,
         "AvgQuestionFavouriteCount": 0,
         "AvgQuestionCommentCount": 0,
         "AvgQuestionScore": 0,
         "AvgAnswerScore": 0,
         "AvgAnswerCommentCount": 0,
         "AvgCommentScore": 0,
         "MonthsActive": 0,
         "MonthsSinceLastActivity": 111,
         "MonthsSinceJoined": 111,
         "_deepnote_index_column": 7
        },
        {
         "UserId": 195,
         "CreationDate": "2012-03-13 00:20:44",
         "CastDownVotes": 0,
         "CastUpVotes": 0,
         "ProfileViews": 1,
         "LastAccessDate": "2012-03-13 00:20:44",
         "QuestionCount": 0,
         "AnswerCount": 0,
         "CommentCount": 0,
         "AvgQuestionViewCount": 0,
         "AvgQuestionFavouriteCount": 0,
         "AvgQuestionCommentCount": 0,
         "AvgQuestionScore": 0,
         "AvgAnswerScore": 0,
         "AvgAnswerCommentCount": 0,
         "AvgCommentScore": 0,
         "MonthsActive": 0,
         "MonthsSinceLastActivity": 111,
         "MonthsSinceJoined": 111,
         "_deepnote_index_column": 8
        },
        {
         "UserId": 181,
         "CreationDate": "2012-03-10 07:32:29",
         "CastDownVotes": 0,
         "CastUpVotes": 0,
         "ProfileViews": 0,
         "LastAccessDate": "2012-03-13 14:17:50",
         "QuestionCount": 0,
         "AnswerCount": 0,
         "CommentCount": 0,
         "AvgQuestionViewCount": 0,
         "AvgQuestionFavouriteCount": 0,
         "AvgQuestionCommentCount": 0,
         "AvgQuestionScore": 0,
         "AvgAnswerScore": 0,
         "AvgAnswerCommentCount": 0,
         "AvgCommentScore": 0,
         "MonthsActive": 0,
         "MonthsSinceLastActivity": 111,
         "MonthsSinceJoined": 111,
         "_deepnote_index_column": 9
        }
       ]
      },
      "text/plain": "        UserId         CreationDate  CastDownVotes  CastUpVotes  ProfileViews  \\\n0           74  2012-03-06 20:09:16              0            0             0   \n1           93  2012-03-06 22:11:12              0            0             0   \n2          109  2012-03-07 01:15:40              0            0             0   \n3          131  2012-03-07 10:36:39              0            0             1   \n4          143  2012-03-07 16:21:44              0            2             1   \n...        ...                  ...            ...          ...           ...   \n113428  137150  2021-05-30 03:32:28              0            0             0   \n113429  118752  2020-04-02 18:15:57              0           15             7   \n113430   24043  2014-11-23 05:51:41              0            1             0   \n113431   19966  2014-07-07 18:51:42             57          119           845   \n113432  137132  2021-05-29 16:04:43              0            0             0   \n\n             LastAccessDate  QuestionCount  AnswerCount  CommentCount  \\\n0       2012-03-06 20:09:16              0            0             0   \n1       2012-03-06 22:11:12              0            0             0   \n2       2012-03-07 01:15:40              0            0             0   \n3       2012-03-07 10:36:39              0            0             0   \n4       2012-03-07 16:21:44              0            0             0   \n...                     ...            ...          ...           ...   \n113428  2021-05-30 03:32:28              0            0             0   \n113429  2021-05-30 03:35:03              8            7             7   \n113430  2021-05-30 03:36:32              1            0             1   \n113431  2021-05-30 03:37:52              2           36          1344   \n113432  2021-05-30 03:38:30              1            0             0   \n\n        AvgQuestionViewCount  AvgQuestionFavouriteCount  \\\n0                       0.00                        0.0   \n1                       0.00                        0.0   \n2                       0.00                        0.0   \n3                       0.00                        0.0   \n4                       0.00                        0.0   \n...                      ...                        ...   \n113428                  0.00                        0.0   \n113429                 37.75                        0.0   \n113430                 31.00                        0.0   \n113431                 38.50                        0.0   \n113432                 30.00                        0.0   \n\n        AvgQuestionCommentCount  AvgQuestionScore  AvgAnswerScore  \\\n0                          0.00             0.000          0.0000   \n1                          0.00             0.000          0.0000   \n2                          0.00             0.000          0.0000   \n3                          0.00             0.000          0.0000   \n4                          0.00             0.000          0.0000   \n...                         ...               ...             ...   \n113428                     0.00             0.000          0.0000   \n113429                     0.75             0.625          0.2857   \n113430                     2.00             0.000          0.0000   \n113431                     0.00             1.500          1.0556   \n113432                     2.00             1.000          0.0000   \n\n        AvgAnswerCommentCount  AvgCommentScore  MonthsActive  \\\n0                      0.0000           0.0000             0   \n1                      0.0000           0.0000             0   \n2                      0.0000           0.0000             0   \n3                      0.0000           0.0000             0   \n4                      0.0000           0.0000             0   \n...                       ...              ...           ...   \n113428                 0.0000           0.0000             0   \n113429                 0.5714           0.2857            13   \n113430                 0.0000           0.0000            78   \n113431                 1.3611           0.2433            82   \n113432                 0.0000           0.0000             0   \n\n        MonthsSinceLastActivity  MonthsSinceJoined  \n0                           112                112  \n1                           112                112  \n2                           112                112  \n3                           111                111  \n4                           111                111  \n...                         ...                ...  \n113428                        1                  1  \n113429                        1                 15  \n113430                        1                 79  \n113431                        1                 83  \n113432                        1                  1  \n\n[113433 rows x 19 columns]",
      "text/html": "<div>\n<style scoped>\n    .dataframe tbody tr th:only-of-type {\n        vertical-align: middle;\n    }\n\n    .dataframe tbody tr th {\n        vertical-align: top;\n    }\n\n    .dataframe thead th {\n        text-align: right;\n    }\n</style>\n<table border=\"1\" class=\"dataframe\">\n  <thead>\n    <tr style=\"text-align: right;\">\n      <th></th>\n      <th>UserId</th>\n      <th>CreationDate</th>\n      <th>CastDownVotes</th>\n      <th>CastUpVotes</th>\n      <th>ProfileViews</th>\n      <th>LastAccessDate</th>\n      <th>QuestionCount</th>\n      <th>AnswerCount</th>\n      <th>CommentCount</th>\n      <th>AvgQuestionViewCount</th>\n      <th>AvgQuestionFavouriteCount</th>\n      <th>AvgQuestionCommentCount</th>\n      <th>AvgQuestionScore</th>\n      <th>AvgAnswerScore</th>\n      <th>AvgAnswerCommentCount</th>\n      <th>AvgCommentScore</th>\n      <th>MonthsActive</th>\n      <th>MonthsSinceLastActivity</th>\n      <th>MonthsSinceJoined</th>\n    </tr>\n  </thead>\n  <tbody>\n    <tr>\n      <th>0</th>\n      <td>74</td>\n      <td>2012-03-06 20:09:16</td>\n      <td>0</td>\n      <td>0</td>\n      <td>0</td>\n      <td>2012-03-06 20:09:16</td>\n      <td>0</td>\n      <td>0</td>\n      <td>0</td>\n      <td>0.00</td>\n      <td>0.0</td>\n      <td>0.00</td>\n      <td>0.000</td>\n      <td>0.0000</td>\n      <td>0.0000</td>\n      <td>0.0000</td>\n      <td>0</td>\n      <td>112</td>\n      <td>112</td>\n    </tr>\n    <tr>\n      <th>1</th>\n      <td>93</td>\n      <td>2012-03-06 22:11:12</td>\n      <td>0</td>\n      <td>0</td>\n      <td>0</td>\n      <td>2012-03-06 22:11:12</td>\n      <td>0</td>\n      <td>0</td>\n      <td>0</td>\n      <td>0.00</td>\n      <td>0.0</td>\n      <td>0.00</td>\n      <td>0.000</td>\n      <td>0.0000</td>\n      <td>0.0000</td>\n      <td>0.0000</td>\n      <td>0</td>\n      <td>112</td>\n      <td>112</td>\n    </tr>\n    <tr>\n      <th>2</th>\n      <td>109</td>\n      <td>2012-03-07 01:15:40</td>\n      <td>0</td>\n      <td>0</td>\n      <td>0</td>\n      <td>2012-03-07 01:15:40</td>\n      <td>0</td>\n      <td>0</td>\n      <td>0</td>\n      <td>0.00</td>\n      <td>0.0</td>\n      <td>0.00</td>\n      <td>0.000</td>\n      <td>0.0000</td>\n      <td>0.0000</td>\n      <td>0.0000</td>\n      <td>0</td>\n      <td>112</td>\n      <td>112</td>\n    </tr>\n    <tr>\n      <th>3</th>\n      <td>131</td>\n      <td>2012-03-07 10:36:39</td>\n      <td>0</td>\n      <td>0</td>\n      <td>1</td>\n      <td>2012-03-07 10:36:39</td>\n      <td>0</td>\n      <td>0</td>\n      <td>0</td>\n      <td>0.00</td>\n      <td>0.0</td>\n      <td>0.00</td>\n      <td>0.000</td>\n      <td>0.0000</td>\n      <td>0.0000</td>\n      <td>0.0000</td>\n      <td>0</td>\n      <td>111</td>\n      <td>111</td>\n    </tr>\n    <tr>\n      <th>4</th>\n      <td>143</td>\n      <td>2012-03-07 16:21:44</td>\n      <td>0</td>\n      <td>2</td>\n      <td>1</td>\n      <td>2012-03-07 16:21:44</td>\n      <td>0</td>\n      <td>0</td>\n      <td>0</td>\n      <td>0.00</td>\n      <td>0.0</td>\n      <td>0.00</td>\n      <td>0.000</td>\n      <td>0.0000</td>\n      <td>0.0000</td>\n      <td>0.0000</td>\n      <td>0</td>\n      <td>111</td>\n      <td>111</td>\n    </tr>\n    <tr>\n      <th>...</th>\n      <td>...</td>\n      <td>...</td>\n      <td>...</td>\n      <td>...</td>\n      <td>...</td>\n      <td>...</td>\n      <td>...</td>\n      <td>...</td>\n      <td>...</td>\n      <td>...</td>\n      <td>...</td>\n      <td>...</td>\n      <td>...</td>\n      <td>...</td>\n      <td>...</td>\n      <td>...</td>\n      <td>...</td>\n      <td>...</td>\n      <td>...</td>\n    </tr>\n    <tr>\n      <th>113428</th>\n      <td>137150</td>\n      <td>2021-05-30 03:32:28</td>\n      <td>0</td>\n      <td>0</td>\n      <td>0</td>\n      <td>2021-05-30 03:32:28</td>\n      <td>0</td>\n      <td>0</td>\n      <td>0</td>\n      <td>0.00</td>\n      <td>0.0</td>\n      <td>0.00</td>\n      <td>0.000</td>\n      <td>0.0000</td>\n      <td>0.0000</td>\n      <td>0.0000</td>\n      <td>0</td>\n      <td>1</td>\n      <td>1</td>\n    </tr>\n    <tr>\n      <th>113429</th>\n      <td>118752</td>\n      <td>2020-04-02 18:15:57</td>\n      <td>0</td>\n      <td>15</td>\n      <td>7</td>\n      <td>2021-05-30 03:35:03</td>\n      <td>8</td>\n      <td>7</td>\n      <td>7</td>\n      <td>37.75</td>\n      <td>0.0</td>\n      <td>0.75</td>\n      <td>0.625</td>\n      <td>0.2857</td>\n      <td>0.5714</td>\n      <td>0.2857</td>\n      <td>13</td>\n      <td>1</td>\n      <td>15</td>\n    </tr>\n    <tr>\n      <th>113430</th>\n      <td>24043</td>\n      <td>2014-11-23 05:51:41</td>\n      <td>0</td>\n      <td>1</td>\n      <td>0</td>\n      <td>2021-05-30 03:36:32</td>\n      <td>1</td>\n      <td>0</td>\n      <td>1</td>\n      <td>31.00</td>\n      <td>0.0</td>\n      <td>2.00</td>\n      <td>0.000</td>\n      <td>0.0000</td>\n      <td>0.0000</td>\n      <td>0.0000</td>\n      <td>78</td>\n      <td>1</td>\n      <td>79</td>\n    </tr>\n    <tr>\n      <th>113431</th>\n      <td>19966</td>\n      <td>2014-07-07 18:51:42</td>\n      <td>57</td>\n      <td>119</td>\n      <td>845</td>\n      <td>2021-05-30 03:37:52</td>\n      <td>2</td>\n      <td>36</td>\n      <td>1344</td>\n      <td>38.50</td>\n      <td>0.0</td>\n      <td>0.00</td>\n      <td>1.500</td>\n      <td>1.0556</td>\n      <td>1.3611</td>\n      <td>0.2433</td>\n      <td>82</td>\n      <td>1</td>\n      <td>83</td>\n    </tr>\n    <tr>\n      <th>113432</th>\n      <td>137132</td>\n      <td>2021-05-29 16:04:43</td>\n      <td>0</td>\n      <td>0</td>\n      <td>0</td>\n      <td>2021-05-30 03:38:30</td>\n      <td>1</td>\n      <td>0</td>\n      <td>0</td>\n      <td>30.00</td>\n      <td>0.0</td>\n      <td>2.00</td>\n      <td>1.000</td>\n      <td>0.0000</td>\n      <td>0.0000</td>\n      <td>0.0000</td>\n      <td>0</td>\n      <td>1</td>\n      <td>1</td>\n    </tr>\n  </tbody>\n</table>\n<p>113433 rows × 19 columns</p>\n</div>"
     },
     "metadata": {}
    }
   ]
  },
  {
   "cell_type": "code",
   "metadata": {
    "cell_id": "07533e906ce148b88f043fbdeeacd996",
    "tags": [],
    "deepnote_to_be_reexecuted": false,
    "source_hash": "5d2bdecf",
    "execution_start": 1655372356196,
    "execution_millis": 75,
    "owner_user_id": "1d5e23fc-586a-4fb2-a64d-9f5bc0547ef6",
    "deepnote_cell_type": "code",
    "deepnote_cell_height": 353.83331298828125
   },
   "source": "ls_al_6m = df[df[\"MonthsSinceLastActivity\"] > 6].shape[0]\nls_al_12m = df[df[\"MonthsSinceLastActivity\"] > 12].shape[0]\nls_al_18m = df[df[\"MonthsSinceLastActivity\"] > 18].shape[0]\nls_al_24m = df[df[\"MonthsSinceLastActivity\"] > 24].shape[0]\nls_al_30m = df[df[\"MonthsSinceLastActivity\"] > 30].shape[0]\nls_al_36m = df[df[\"MonthsSinceLastActivity\"] > 36].shape[0]\n\nfor x, i in enumerate([ls_al_6m, ls_al_12m, ls_al_18m, ls_al_24m, ls_al_30m, ls_al_36m], 1):\n    print(x*6, i/df.shape[0])",
   "execution_count": 6,
   "outputs": [
    {
     "name": "stdout",
     "text": "6 0.8002609469907346\n12 0.7024146412419666\n18 0.5935750619308314\n24 0.519011222483757\n30 0.4407800199236554\n36 0.38157326351238174\n",
     "output_type": "stream"
    }
   ]
  },
  {
   "cell_type": "markdown",
   "source": "<a style='text-decoration:none;line-height:16px;display:flex;color:#5B5B62;padding:10px;justify-content:end;' href='https://deepnote.com?utm_source=created-in-deepnote-cell&projectId=5b875ec7-933b-4a3a-92bc-cefd5e08f9f6' target=\"_blank\">\n<img alt='Created in deepnote.com' style='display:inline;max-height:16px;margin:0px;margin-right:7.5px;' src='data:image/svg+xml;base64,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' > </img>\nCreated in <span style='font-weight:600;margin-left:4px;'>Deepnote</span></a>",
   "metadata": {
    "tags": [],
    "created_in_deepnote_cell": true,
    "deepnote_cell_type": "markdown"
   }
  }
 ],
 "nbformat": 4,
 "nbformat_minor": 2,
 "metadata": {
  "orig_nbformat": 2,
  "deepnote": {},
  "deepnote_notebook_id": "b545987d-1b42-4977-975a-fa73a44781de",
  "deepnote_execution_queue": []
 }
}