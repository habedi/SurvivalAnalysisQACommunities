{
 "cells": [
  {
   "cell_type": "code",
   "metadata": {
    "cell_id": "a193812d29f74ce395145258b5be365a",
    "tags": [],
    "deepnote_to_be_reexecuted": false,
    "source_hash": "64aaa98",
    "execution_start": 1654958860690,
    "execution_millis": 7314,
    "deepnote_cell_type": "code",
    "deepnote_cell_height": 326.08331298828125
   },
   "source": "# This command install the Xelatex typesetting engine on your Debian-based machine\n!chmod u+x ../dependencies.sh && sudo apt-get update && sudo bash ../dependencies.sh",
   "execution_count": null,
   "outputs": [
    {
     "name": "stdout",
     "text": "Hit:1 http://security.debian.org/debian-security buster/updates InRelease\nHit:2 http://deb.debian.org/debian buster InRelease\nHit:3 http://deb.debian.org/debian buster-updates InRelease\n\n\n\n\ngit-lfs is already the newest version (2.7.1-1+deb10u1).\nnano is already the newest version (3.2-3).\ntexlive-xetex is already the newest version (2018.20190227-2).\n0 upgraded, 0 newly installed, 0 to remove and 36 not upgraded.\n",
     "output_type": "stream"
    }
   ]
  },
  {
   "cell_type": "code",
   "metadata": {
    "tags": [],
    "cell_id": "a1d6cc75-6da2-44b0-907d-3fb7e6e95a01",
    "deepnote_to_be_reexecuted": false,
    "source_hash": "9efb7edc",
    "execution_start": 1654958868077,
    "execution_millis": 1,
    "deepnote_cell_type": "code",
    "deepnote_cell_height": 152.8333282470703
   },
   "source": "import pandas as pd\nimport numpy as np\n\n# Disabling the assignment warning\npd.options.mode.chained_assignment = None",
   "execution_count": null,
   "outputs": []
  },
  {
   "cell_type": "code",
   "metadata": {
    "cell_id": "c9d9fc06333e4269bd28ed678b646767",
    "tags": [],
    "deepnote_to_be_reexecuted": false,
    "source_hash": "b2999cf5",
    "execution_start": 1654958868139,
    "execution_millis": 26400,
    "deepnote_cell_type": "code",
    "deepnote_cell_height": 255.4166717529297
   },
   "source": "dataset_names = [\"p\", \"ds\", \"cs\"]\n\ndata = {k:dict() for k in dataset_names}\n\nfor i in dataset_names:\n    data[i][\"questions\"] = pd.read_csv(\"../raw_data/{0}/questions.csv.gz\".format(i), sep=\"\\t\")\n    data[i][\"answers\"] = pd.read_csv(\"../raw_data/{0}/answers.csv.gz\".format(i), sep=\"\\t\")\n    data[i][\"comments\"] = pd.read_csv(\"../raw_data/{0}/comments.csv.gz\".format(i), sep=\"\\t\")\n    data[i][\"users\"] = pd.read_csv(\"../raw_data/{0}/users.csv.gz\".format(i), sep=\"\\t\", error_bad_lines=False)",
   "execution_count": null,
   "outputs": [
    {
     "name": "stderr",
     "text": "b'Skipping line 68155: expected 9 fields, saw 10\\n'\n",
     "output_type": "stream"
    }
   ]
  },
  {
   "cell_type": "code",
   "metadata": {
    "cell_id": "3d82996c623049b798116ab9031e26e7",
    "tags": [],
    "deepnote_to_be_reexecuted": false,
    "source_hash": "51ffd685",
    "execution_start": 1654958894587,
    "execution_millis": 47819,
    "deepnote_cell_type": "code",
    "deepnote_cell_height": 134.8333282470703
   },
   "source": "# 0 for politics stack exchange\n# 1 for data science stack exchange\n# 2 for computer science stack exchange\ndataset_id = 1",
   "execution_count": null,
   "outputs": []
  },
  {
   "cell_type": "code",
   "metadata": {
    "cell_id": "3b6711c8f0fd4922bafa4913aa826106",
    "tags": [],
    "deepnote_to_be_reexecuted": false,
    "source_hash": "a86a08dd",
    "execution_start": 1654958894614,
    "execution_millis": 23,
    "deepnote_cell_type": "code",
    "deepnote_cell_height": 156.75,
    "deepnote_output_heights": [
     60
    ]
   },
   "source": "data[dataset_names[dataset_id]][\"users\"].columns",
   "execution_count": null,
   "outputs": [
    {
     "output_type": "execute_result",
     "execution_count": 5,
     "data": {
      "text/plain": "Index(['Id', 'Reputation', 'CreationDate', 'DisplayName', 'LastAccessDate',\n       'AboutMe', 'Views', 'UpVotes', 'DownVotes'],\n      dtype='object')"
     },
     "metadata": {}
    }
   ]
  },
  {
   "cell_type": "code",
   "metadata": {
    "cell_id": "6e71f2f23d2d47b4b570223aec29e77b",
    "tags": [],
    "deepnote_to_be_reexecuted": false,
    "source_hash": "6d0d93b3",
    "execution_start": 1654958894652,
    "execution_millis": 6,
    "deepnote_cell_type": "code",
    "deepnote_cell_height": 80.83332824707031
   },
   "source": "user_attribues = ['CreationDate', 'Reputation', 'Views', 'UpVotes', 'DownVotes']",
   "execution_count": null,
   "outputs": []
  },
  {
   "cell_type": "code",
   "metadata": {
    "cell_id": "29a667282a8a408b9e75868983abe9f6",
    "tags": [],
    "deepnote_to_be_reexecuted": false,
    "source_hash": "ad1da952",
    "execution_start": 1654958894709,
    "execution_millis": 272,
    "deepnote_cell_type": "code",
    "deepnote_cell_height": 466.66668701171875
   },
   "source": "users_df = data[dataset_names[dataset_id]][\"users\"][user_attribues]\n#users_df.dropna(subset=['CreationDate'], inplace=True)\nusers_df['year_joined'] = pd.to_datetime(users_df['CreationDate'], errors='coerce').dt.year\nusers_df.drop(columns=['CreationDate'])\nusers_df.head()",
   "execution_count": null,
   "outputs": [
    {
     "output_type": "execute_result",
     "execution_count": 7,
     "data": {
      "application/vnd.deepnote.dataframe.v3+json": {
       "column_count": 6,
       "row_count": 5,
       "columns": [
        {
         "name": "CreationDate",
         "dtype": "object",
         "stats": {
          "unique_count": 5,
          "nan_count": 0,
          "categories": [
           {
            "name": "2014-05-13 21:29:22.000",
            "count": 1
           },
           {
            "name": "2014-05-13 22:58:54.000",
            "count": 1
           },
           {
            "name": "3 others",
            "count": 3
           }
          ]
         }
        },
        {
         "name": "Reputation",
         "dtype": "int64",
         "stats": {
          "unique_count": 2,
          "nan_count": 0,
          "min": "1",
          "max": "101",
          "histogram": [
           {
            "bin_start": 1,
            "bin_end": 11,
            "count": 1
           },
           {
            "bin_start": 11,
            "bin_end": 21,
            "count": 0
           },
           {
            "bin_start": 21,
            "bin_end": 31,
            "count": 0
           },
           {
            "bin_start": 31,
            "bin_end": 41,
            "count": 0
           },
           {
            "bin_start": 41,
            "bin_end": 51,
            "count": 0
           },
           {
            "bin_start": 51,
            "bin_end": 61,
            "count": 0
           },
           {
            "bin_start": 61,
            "bin_end": 71,
            "count": 0
           },
           {
            "bin_start": 71,
            "bin_end": 81,
            "count": 0
           },
           {
            "bin_start": 81,
            "bin_end": 91,
            "count": 0
           },
           {
            "bin_start": 91,
            "bin_end": 101,
            "count": 4
           }
          ]
         }
        },
        {
         "name": "Views",
         "dtype": "int64",
         "stats": {
          "unique_count": 4,
          "nan_count": 0,
          "min": "8",
          "max": "714",
          "histogram": [
           {
            "bin_start": 8,
            "bin_end": 78.6,
            "count": 3
           },
           {
            "bin_start": 78.6,
            "bin_end": 149.2,
            "count": 1
           },
           {
            "bin_start": 149.2,
            "bin_end": 219.79999999999998,
            "count": 0
           },
           {
            "bin_start": 219.79999999999998,
            "bin_end": 290.4,
            "count": 0
           },
           {
            "bin_start": 290.4,
            "bin_end": 361,
            "count": 0
           },
           {
            "bin_start": 361,
            "bin_end": 431.59999999999997,
            "count": 0
           },
           {
            "bin_start": 431.59999999999997,
            "bin_end": 502.19999999999993,
            "count": 0
           },
           {
            "bin_start": 502.19999999999993,
            "bin_end": 572.8,
            "count": 0
           },
           {
            "bin_start": 572.8,
            "bin_end": 643.4,
            "count": 0
           },
           {
            "bin_start": 643.4,
            "bin_end": 714,
            "count": 1
           }
          ]
         }
        },
        {
         "name": "UpVotes",
         "dtype": "int64",
         "stats": {
          "unique_count": 3,
          "nan_count": 0,
          "min": "0",
          "max": "821",
          "histogram": [
           {
            "bin_start": 0,
            "bin_end": 82.1,
            "count": 4
           },
           {
            "bin_start": 82.1,
            "bin_end": 164.2,
            "count": 0
           },
           {
            "bin_start": 164.2,
            "bin_end": 246.29999999999998,
            "count": 0
           },
           {
            "bin_start": 246.29999999999998,
            "bin_end": 328.4,
            "count": 0
           },
           {
            "bin_start": 328.4,
            "bin_end": 410.5,
            "count": 0
           },
           {
            "bin_start": 410.5,
            "bin_end": 492.59999999999997,
            "count": 0
           },
           {
            "bin_start": 492.59999999999997,
            "bin_end": 574.6999999999999,
            "count": 0
           },
           {
            "bin_start": 574.6999999999999,
            "bin_end": 656.8,
            "count": 0
           },
           {
            "bin_start": 656.8,
            "bin_end": 738.9,
            "count": 0
           },
           {
            "bin_start": 738.9,
            "bin_end": 821,
            "count": 1
           }
          ]
         }
        },
        {
         "name": "DownVotes",
         "dtype": "int64",
         "stats": {
          "unique_count": 3,
          "nan_count": 0,
          "min": "0",
          "max": "1712",
          "histogram": [
           {
            "bin_start": 0,
            "bin_end": 171.2,
            "count": 4
           },
           {
            "bin_start": 171.2,
            "bin_end": 342.4,
            "count": 0
           },
           {
            "bin_start": 342.4,
            "bin_end": 513.5999999999999,
            "count": 0
           },
           {
            "bin_start": 513.5999999999999,
            "bin_end": 684.8,
            "count": 0
           },
           {
            "bin_start": 684.8,
            "bin_end": 856,
            "count": 0
           },
           {
            "bin_start": 856,
            "bin_end": 1027.1999999999998,
            "count": 0
           },
           {
            "bin_start": 1027.1999999999998,
            "bin_end": 1198.3999999999999,
            "count": 0
           },
           {
            "bin_start": 1198.3999999999999,
            "bin_end": 1369.6,
            "count": 0
           },
           {
            "bin_start": 1369.6,
            "bin_end": 1540.8,
            "count": 0
           },
           {
            "bin_start": 1540.8,
            "bin_end": 1712,
            "count": 1
           }
          ]
         }
        },
        {
         "name": "year_joined",
         "dtype": "int64",
         "stats": {
          "unique_count": 1,
          "nan_count": 0,
          "min": "2014",
          "max": "2014",
          "histogram": [
           {
            "bin_start": 2013.5,
            "bin_end": 2013.6,
            "count": 0
           },
           {
            "bin_start": 2013.6,
            "bin_end": 2013.7,
            "count": 0
           },
           {
            "bin_start": 2013.7,
            "bin_end": 2013.8,
            "count": 0
           },
           {
            "bin_start": 2013.8,
            "bin_end": 2013.9,
            "count": 0
           },
           {
            "bin_start": 2013.9,
            "bin_end": 2014,
            "count": 0
           },
           {
            "bin_start": 2014,
            "bin_end": 2014.1,
            "count": 5
           },
           {
            "bin_start": 2014.1,
            "bin_end": 2014.2,
            "count": 0
           },
           {
            "bin_start": 2014.2,
            "bin_end": 2014.3,
            "count": 0
           },
           {
            "bin_start": 2014.3,
            "bin_end": 2014.4,
            "count": 0
           },
           {
            "bin_start": 2014.4,
            "bin_end": 2014.5,
            "count": 0
           }
          ]
         }
        },
        {
         "name": "_deepnote_index_column",
         "dtype": "int64"
        }
       ],
       "rows": [
        {
         "CreationDate": "2014-05-13 21:29:22.000",
         "Reputation": 1,
         "Views": 144,
         "UpVotes": 821,
         "DownVotes": 1712,
         "year_joined": 2014,
         "_deepnote_index_column": 0
        },
        {
         "CreationDate": "2014-05-13 22:58:54.000",
         "Reputation": 101,
         "Views": 714,
         "UpVotes": 0,
         "DownVotes": 0,
         "year_joined": 2014,
         "_deepnote_index_column": 1
        },
        {
         "CreationDate": "2014-05-13 22:59:19.000",
         "Reputation": 101,
         "Views": 9,
         "UpVotes": 0,
         "DownVotes": 0,
         "year_joined": 2014,
         "_deepnote_index_column": 2
        },
        {
         "CreationDate": "2014-05-13 23:15:34.000",
         "Reputation": 101,
         "Views": 8,
         "UpVotes": 1,
         "DownVotes": 3,
         "year_joined": 2014,
         "_deepnote_index_column": 3
        },
        {
         "CreationDate": "2014-05-13 23:16:09.000",
         "Reputation": 101,
         "Views": 9,
         "UpVotes": 0,
         "DownVotes": 0,
         "year_joined": 2014,
         "_deepnote_index_column": 4
        }
       ]
      },
      "text/plain": "              CreationDate  Reputation  Views  UpVotes  DownVotes  year_joined\n0  2014-05-13 21:29:22.000           1    144      821       1712         2014\n1  2014-05-13 22:58:54.000         101    714        0          0         2014\n2  2014-05-13 22:59:19.000         101      9        0          0         2014\n3  2014-05-13 23:15:34.000         101      8        1          3         2014\n4  2014-05-13 23:16:09.000         101      9        0          0         2014",
      "text/html": "<div>\n<style scoped>\n    .dataframe tbody tr th:only-of-type {\n        vertical-align: middle;\n    }\n\n    .dataframe tbody tr th {\n        vertical-align: top;\n    }\n\n    .dataframe thead th {\n        text-align: right;\n    }\n</style>\n<table border=\"1\" class=\"dataframe\">\n  <thead>\n    <tr style=\"text-align: right;\">\n      <th></th>\n      <th>CreationDate</th>\n      <th>Reputation</th>\n      <th>Views</th>\n      <th>UpVotes</th>\n      <th>DownVotes</th>\n      <th>year_joined</th>\n    </tr>\n  </thead>\n  <tbody>\n    <tr>\n      <th>0</th>\n      <td>2014-05-13 21:29:22.000</td>\n      <td>1</td>\n      <td>144</td>\n      <td>821</td>\n      <td>1712</td>\n      <td>2014</td>\n    </tr>\n    <tr>\n      <th>1</th>\n      <td>2014-05-13 22:58:54.000</td>\n      <td>101</td>\n      <td>714</td>\n      <td>0</td>\n      <td>0</td>\n      <td>2014</td>\n    </tr>\n    <tr>\n      <th>2</th>\n      <td>2014-05-13 22:59:19.000</td>\n      <td>101</td>\n      <td>9</td>\n      <td>0</td>\n      <td>0</td>\n      <td>2014</td>\n    </tr>\n    <tr>\n      <th>3</th>\n      <td>2014-05-13 23:15:34.000</td>\n      <td>101</td>\n      <td>8</td>\n      <td>1</td>\n      <td>3</td>\n      <td>2014</td>\n    </tr>\n    <tr>\n      <th>4</th>\n      <td>2014-05-13 23:16:09.000</td>\n      <td>101</td>\n      <td>9</td>\n      <td>0</td>\n      <td>0</td>\n      <td>2014</td>\n    </tr>\n  </tbody>\n</table>\n</div>"
     },
     "metadata": {}
    }
   ]
  },
  {
   "cell_type": "code",
   "source": "",
   "metadata": {
    "cell_id": "5b7456344b64414396a21bb3ec47bbef",
    "deepnote_to_be_reexecuted": false,
    "source_hash": "b623e53d",
    "execution_start": 1654958895001,
    "execution_millis": 10,
    "owner_user_id": "1d5e23fc-586a-4fb2-a64d-9f5bc0547ef6",
    "deepnote_cell_type": "visualization"
   },
   "execution_count": null,
   "outputs": []
  },
  {
   "cell_type": "code",
   "metadata": {
    "cell_id": "f841bf28e4a54b7ba85762137c2ee6b0",
    "tags": [],
    "deepnote_to_be_reexecuted": false,
    "source_hash": "b099f9d7",
    "execution_start": 1654958895065,
    "execution_millis": 891,
    "deepnote_cell_type": "code",
    "deepnote_cell_height": 517.6666870117188
   },
   "source": "users_df.describe()",
   "execution_count": null,
   "outputs": [
    {
     "output_type": "execute_result",
     "execution_count": 8,
     "data": {
      "application/vnd.deepnote.dataframe.v3+json": {
       "column_count": 5,
       "row_count": 8,
       "columns": [
        {
         "name": "Reputation",
         "dtype": "float64",
         "stats": {
          "unique_count": 6,
          "nan_count": 0,
          "min": "1.0",
          "max": "100581.0",
          "histogram": [
           {
            "bin_start": 1,
            "bin_end": 10059,
            "count": 6
           },
           {
            "bin_start": 10059,
            "bin_end": 20117,
            "count": 0
           },
           {
            "bin_start": 20117,
            "bin_end": 30175,
            "count": 1
           },
           {
            "bin_start": 30175,
            "bin_end": 40233,
            "count": 0
           },
           {
            "bin_start": 40233,
            "bin_end": 50291,
            "count": 0
           },
           {
            "bin_start": 50291,
            "bin_end": 60349,
            "count": 0
           },
           {
            "bin_start": 60349,
            "bin_end": 70407,
            "count": 0
           },
           {
            "bin_start": 70407,
            "bin_end": 80465,
            "count": 0
           },
           {
            "bin_start": 80465,
            "bin_end": 90523,
            "count": 0
           },
           {
            "bin_start": 90523,
            "bin_end": 100581,
            "count": 1
           }
          ]
         }
        },
        {
         "name": "Views",
         "dtype": "float64",
         "stats": {
          "unique_count": 5,
          "nan_count": 0,
          "min": "0.0",
          "max": "100581.0",
          "histogram": [
           {
            "bin_start": 0,
            "bin_end": 10058.1,
            "count": 7
           },
           {
            "bin_start": 10058.1,
            "bin_end": 20116.2,
            "count": 0
           },
           {
            "bin_start": 20116.2,
            "bin_end": 30174.300000000003,
            "count": 0
           },
           {
            "bin_start": 30174.300000000003,
            "bin_end": 40232.4,
            "count": 0
           },
           {
            "bin_start": 40232.4,
            "bin_end": 50290.5,
            "count": 0
           },
           {
            "bin_start": 50290.5,
            "bin_end": 60348.600000000006,
            "count": 0
           },
           {
            "bin_start": 60348.600000000006,
            "bin_end": 70406.7,
            "count": 0
           },
           {
            "bin_start": 70406.7,
            "bin_end": 80464.8,
            "count": 0
           },
           {
            "bin_start": 80464.8,
            "bin_end": 90522.90000000001,
            "count": 0
           },
           {
            "bin_start": 90522.90000000001,
            "bin_end": 100581,
            "count": 1
           }
          ]
         }
        },
        {
         "name": "UpVotes",
         "dtype": "float64",
         "stats": {
          "unique_count": 5,
          "nan_count": 0,
          "min": "0.0",
          "max": "100581.0",
          "histogram": [
           {
            "bin_start": 0,
            "bin_end": 10058.1,
            "count": 7
           },
           {
            "bin_start": 10058.1,
            "bin_end": 20116.2,
            "count": 0
           },
           {
            "bin_start": 20116.2,
            "bin_end": 30174.300000000003,
            "count": 0
           },
           {
            "bin_start": 30174.300000000003,
            "bin_end": 40232.4,
            "count": 0
           },
           {
            "bin_start": 40232.4,
            "bin_end": 50290.5,
            "count": 0
           },
           {
            "bin_start": 50290.5,
            "bin_end": 60348.600000000006,
            "count": 0
           },
           {
            "bin_start": 60348.600000000006,
            "bin_end": 70406.7,
            "count": 0
           },
           {
            "bin_start": 70406.7,
            "bin_end": 80464.8,
            "count": 0
           },
           {
            "bin_start": 80464.8,
            "bin_end": 90522.90000000001,
            "count": 0
           },
           {
            "bin_start": 90522.90000000001,
            "bin_end": 100581,
            "count": 1
           }
          ]
         }
        },
        {
         "name": "DownVotes",
         "dtype": "float64",
         "stats": {
          "unique_count": 5,
          "nan_count": 0,
          "min": "0.0",
          "max": "100581.0",
          "histogram": [
           {
            "bin_start": 0,
            "bin_end": 10058.1,
            "count": 7
           },
           {
            "bin_start": 10058.1,
            "bin_end": 20116.2,
            "count": 0
           },
           {
            "bin_start": 20116.2,
            "bin_end": 30174.300000000003,
            "count": 0
           },
           {
            "bin_start": 30174.300000000003,
            "bin_end": 40232.4,
            "count": 0
           },
           {
            "bin_start": 40232.4,
            "bin_end": 50290.5,
            "count": 0
           },
           {
            "bin_start": 50290.5,
            "bin_end": 60348.600000000006,
            "count": 0
           },
           {
            "bin_start": 60348.600000000006,
            "bin_end": 70406.7,
            "count": 0
           },
           {
            "bin_start": 70406.7,
            "bin_end": 80464.8,
            "count": 0
           },
           {
            "bin_start": 80464.8,
            "bin_end": 90522.90000000001,
            "count": 0
           },
           {
            "bin_start": 90522.90000000001,
            "bin_end": 100581,
            "count": 1
           }
          ]
         }
        },
        {
         "name": "year_joined",
         "dtype": "float64",
         "stats": {
          "unique_count": 8,
          "nan_count": 0,
          "min": "1.8131535294980559",
          "max": "100581.0",
          "histogram": [
           {
            "bin_start": 1.8131535294980559,
            "bin_end": 10059.731838176549,
            "count": 7
           },
           {
            "bin_start": 10059.731838176549,
            "bin_end": 20117.650522823602,
            "count": 0
           },
           {
            "bin_start": 20117.650522823602,
            "bin_end": 30175.569207470653,
            "count": 0
           },
           {
            "bin_start": 30175.569207470653,
            "bin_end": 40233.4878921177,
            "count": 0
           },
           {
            "bin_start": 40233.4878921177,
            "bin_end": 50291.406576764755,
            "count": 0
           },
           {
            "bin_start": 50291.406576764755,
            "bin_end": 60349.3252614118,
            "count": 0
           },
           {
            "bin_start": 60349.3252614118,
            "bin_end": 70407.24394605885,
            "count": 0
           },
           {
            "bin_start": 70407.24394605885,
            "bin_end": 80465.1626307059,
            "count": 0
           },
           {
            "bin_start": 80465.1626307059,
            "bin_end": 90523.08131535296,
            "count": 0
           },
           {
            "bin_start": 90523.08131535296,
            "bin_end": 100581,
            "count": 1
           }
          ]
         }
        },
        {
         "name": "_deepnote_index_column",
         "dtype": "object"
        }
       ],
       "rows": [
        {
         "Reputation": 100581,
         "Views": 100581,
         "UpVotes": 100581,
         "DownVotes": 100581,
         "year_joined": 100581,
         "_deepnote_index_column": "count"
        },
        {
         "Reputation": 50.7781290701027,
         "Views": 1.5794533758861018,
         "UpVotes": 1.3624640836738549,
         "DownVotes": 0.13374295344051063,
         "year_joined": 2018.1747546753363,
         "_deepnote_index_column": "mean"
        },
        {
         "Reputation": 195.69923642845146,
         "Views": 24.44211863639361,
         "UpVotes": 26.7643254648237,
         "DownVotes": 10.475689784184489,
         "year_joined": 1.8131535294980559,
         "_deepnote_index_column": "std"
        },
        {
         "Reputation": 1,
         "Views": 0,
         "UpVotes": 0,
         "DownVotes": 0,
         "year_joined": 2014,
         "_deepnote_index_column": "min"
        },
        {
         "Reputation": 1,
         "Views": 0,
         "UpVotes": 0,
         "DownVotes": 0,
         "year_joined": 2017,
         "_deepnote_index_column": "25%"
        },
        {
         "Reputation": 1,
         "Views": 0,
         "UpVotes": 0,
         "DownVotes": 0,
         "year_joined": 2018,
         "_deepnote_index_column": "50%"
        },
        {
         "Reputation": 101,
         "Views": 0,
         "UpVotes": 0,
         "DownVotes": 0,
         "year_joined": 2020,
         "_deepnote_index_column": "75%"
        },
        {
         "Reputation": 25378,
         "Views": 3306,
         "UpVotes": 4815,
         "DownVotes": 2173,
         "year_joined": 2021,
         "_deepnote_index_column": "max"
        }
       ]
      },
      "text/plain": "          Reputation          Views        UpVotes      DownVotes  \\\ncount  100581.000000  100581.000000  100581.000000  100581.000000   \nmean       50.778129       1.579453       1.362464       0.133743   \nstd       195.699236      24.442119      26.764325      10.475690   \nmin         1.000000       0.000000       0.000000       0.000000   \n25%         1.000000       0.000000       0.000000       0.000000   \n50%         1.000000       0.000000       0.000000       0.000000   \n75%       101.000000       0.000000       0.000000       0.000000   \nmax     25378.000000    3306.000000    4815.000000    2173.000000   \n\n         year_joined  \ncount  100581.000000  \nmean     2018.174755  \nstd         1.813154  \nmin      2014.000000  \n25%      2017.000000  \n50%      2018.000000  \n75%      2020.000000  \nmax      2021.000000  ",
      "text/html": "<div>\n<style scoped>\n    .dataframe tbody tr th:only-of-type {\n        vertical-align: middle;\n    }\n\n    .dataframe tbody tr th {\n        vertical-align: top;\n    }\n\n    .dataframe thead th {\n        text-align: right;\n    }\n</style>\n<table border=\"1\" class=\"dataframe\">\n  <thead>\n    <tr style=\"text-align: right;\">\n      <th></th>\n      <th>Reputation</th>\n      <th>Views</th>\n      <th>UpVotes</th>\n      <th>DownVotes</th>\n      <th>year_joined</th>\n    </tr>\n  </thead>\n  <tbody>\n    <tr>\n      <th>count</th>\n      <td>100581.000000</td>\n      <td>100581.000000</td>\n      <td>100581.000000</td>\n      <td>100581.000000</td>\n      <td>100581.000000</td>\n    </tr>\n    <tr>\n      <th>mean</th>\n      <td>50.778129</td>\n      <td>1.579453</td>\n      <td>1.362464</td>\n      <td>0.133743</td>\n      <td>2018.174755</td>\n    </tr>\n    <tr>\n      <th>std</th>\n      <td>195.699236</td>\n      <td>24.442119</td>\n      <td>26.764325</td>\n      <td>10.475690</td>\n      <td>1.813154</td>\n    </tr>\n    <tr>\n      <th>min</th>\n      <td>1.000000</td>\n      <td>0.000000</td>\n      <td>0.000000</td>\n      <td>0.000000</td>\n      <td>2014.000000</td>\n    </tr>\n    <tr>\n      <th>25%</th>\n      <td>1.000000</td>\n      <td>0.000000</td>\n      <td>0.000000</td>\n      <td>0.000000</td>\n      <td>2017.000000</td>\n    </tr>\n    <tr>\n      <th>50%</th>\n      <td>1.000000</td>\n      <td>0.000000</td>\n      <td>0.000000</td>\n      <td>0.000000</td>\n      <td>2018.000000</td>\n    </tr>\n    <tr>\n      <th>75%</th>\n      <td>101.000000</td>\n      <td>0.000000</td>\n      <td>0.000000</td>\n      <td>0.000000</td>\n      <td>2020.000000</td>\n    </tr>\n    <tr>\n      <th>max</th>\n      <td>25378.000000</td>\n      <td>3306.000000</td>\n      <td>4815.000000</td>\n      <td>2173.000000</td>\n      <td>2021.000000</td>\n    </tr>\n  </tbody>\n</table>\n</div>"
     },
     "metadata": {}
    }
   ]
  },
  {
   "cell_type": "markdown",
   "source": "<a style='text-decoration:none;line-height:16px;display:flex;color:#5B5B62;padding:10px;justify-content:end;' href='https://deepnote.com?utm_source=created-in-deepnote-cell&projectId=5b875ec7-933b-4a3a-92bc-cefd5e08f9f6' target=\"_blank\">\n<img alt='Created in deepnote.com' style='display:inline;max-height:16px;margin:0px;margin-right:7.5px;' src='data:image/svg+xml;base64,PD94bWwgdmVyc2lvbj0iMS4wIiBlbmNvZGluZz0iVVRGLTgiPz4KPHN2ZyB3aWR0aD0iODBweCIgaGVpZ2h0PSI4MHB4IiB2aWV3Qm94PSIwIDAgODAgODAiIHZlcnNpb249IjEuMSIgeG1sbnM9Imh0dHA6Ly93d3cudzMub3JnLzIwMDAvc3ZnIiB4bWxuczp4bGluaz0iaHR0cDovL3d3dy53My5vcmcvMTk5OS94bGluayI+CiAgICA8IS0tIEdlbmVyYXRvcjogU2tldGNoIDU0LjEgKDc2NDkwKSAtIGh0dHBzOi8vc2tldGNoYXBwLmNvbSAtLT4KICAgIDx0aXRsZT5Hcm91cCAzPC90aXRsZT4KICAgIDxkZXNjPkNyZWF0ZWQgd2l0aCBTa2V0Y2guPC9kZXNjPgogICAgPGcgaWQ9IkxhbmRpbmciIHN0cm9rZT0ibm9uZSIgc3Ryb2tlLXdpZHRoPSIxIiBmaWxsPSJub25lIiBmaWxsLXJ1bGU9ImV2ZW5vZGQiPgogICAgICAgIDxnIGlkPSJBcnRib2FyZCIgdHJhbnNmb3JtPSJ0cmFuc2xhdGUoLTEyMzUuMDAwMDAwLCAtNzkuMDAwMDAwKSI+CiAgICAgICAgICAgIDxnIGlkPSJHcm91cC0zIiB0cmFuc2Zvcm09InRyYW5zbGF0ZSgxMjM1LjAwMDAwMCwgNzkuMDAwMDAwKSI+CiAgICAgICAgICAgICAgICA8cG9seWdvbiBpZD0iUGF0aC0yMCIgZmlsbD0iIzAyNjVCNCIgcG9pbnRzPSIyLjM3NjIzNzYyIDgwIDM4LjA0NzY2NjcgODAgNTcuODIxNzgyMiA3My44MDU3NTkyIDU3LjgyMTc4MjIgMzIuNzU5MjczOSAzOS4xNDAyMjc4IDMxLjY4MzE2ODMiPjwvcG9seWdvbj4KICAgICAgICAgICAgICAgIDxwYXRoIGQ9Ik0zNS4wMDc3MTgsODAgQzQyLjkwNjIwMDcsNzYuNDU0OTM1OCA0Ny41NjQ5MTY3LDcxLjU0MjI2NzEgNDguOTgzODY2LDY1LjI2MTk5MzkgQzUxLjExMjI4OTksNTUuODQxNTg0MiA0MS42NzcxNzk1LDQ5LjIxMjIyODQgMjUuNjIzOTg0Niw0OS4yMTIyMjg0IEMyNS40ODQ5Mjg5LDQ5LjEyNjg0NDggMjkuODI2MTI5Niw0My4yODM4MjQ4IDM4LjY0NzU4NjksMzEuNjgzMTY4MyBMNzIuODcxMjg3MSwzMi41NTQ0MjUgTDY1LjI4MDk3Myw2Ny42NzYzNDIxIEw1MS4xMTIyODk5LDc3LjM3NjE0NCBMMzUuMDA3NzE4LDgwIFoiIGlkPSJQYXRoLTIyIiBmaWxsPSIjMDAyODY4Ij48L3BhdGg+CiAgICAgICAgICAgICAgICA8cGF0aCBkPSJNMCwzNy43MzA0NDA1IEwyNy4xMTQ1MzcsMC4yNTcxMTE0MzYgQzYyLjM3MTUxMjMsLTEuOTkwNzE3MDEgODAsMTAuNTAwMzkyNyA4MCwzNy43MzA0NDA1IEM4MCw2NC45NjA0ODgyIDY0Ljc3NjUwMzgsNzkuMDUwMzQxNCAzNC4zMjk1MTEzLDgwIEM0Ny4wNTUzNDg5LDc3LjU2NzA4MDggNTMuNDE4MjY3Nyw3MC4zMTM2MTAzIDUzLjQxODI2NzcsNTguMjM5NTg4NSBDNTMuNDE4MjY3Nyw0MC4xMjg1NTU3IDM2LjMwMzk1NDQsMzcuNzMwNDQwNSAyNS4yMjc0MTcsMzcuNzMwNDQwNSBDMTcuODQzMDU4NiwzNy43MzA0NDA1IDkuNDMzOTE5NjYsMzcuNzMwNDQwNSAwLDM3LjczMDQ0MDUgWiIgaWQ9IlBhdGgtMTkiIGZpbGw9IiMzNzkzRUYiPjwvcGF0aD4KICAgICAgICAgICAgPC9nPgogICAgICAgIDwvZz4KICAgIDwvZz4KPC9zdmc+' > </img>\nCreated in <span style='font-weight:600;margin-left:4px;'>Deepnote</span></a>",
   "metadata": {
    "tags": [],
    "created_in_deepnote_cell": true,
    "deepnote_cell_type": "markdown"
   }
  }
 ],
 "nbformat": 4,
 "nbformat_minor": 2,
 "metadata": {
  "orig_nbformat": 2,
  "deepnote": {},
  "deepnote_notebook_id": "6a603b16-608e-4884-af57-c85b61d0d325",
  "deepnote_execution_queue": []
 }
}