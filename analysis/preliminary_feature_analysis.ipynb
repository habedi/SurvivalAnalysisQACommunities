{
 "cells": [
  {
   "cell_type": "code",
   "source": "# This command install the Xelatex typesetting engine on your Debian-based machine\n!chmod u+x ../dependencies.sh && sudo apt-get update && sudo bash ../dependencies.sh",
   "metadata": {
    "cell_id": "63461e6c00424548b2580f2c00979747",
    "tags": [],
    "deepnote_to_be_reexecuted": false,
    "source_hash": "64aaa98",
    "execution_start": 1654265027167,
    "execution_millis": 3734,
    "deepnote_cell_type": "code",
    "deepnote_cell_height": 326.08331298828125
   },
   "outputs": [
    {
     "name": "stdout",
     "text": "Hit:1 http://security.debian.org/debian-security buster/updates InRelease\nHit:2 http://deb.debian.org/debian buster InRelease\nHit:3 http://deb.debian.org/debian buster-updates InRelease\n\n\n\n\ngit-lfs is already the newest version (2.7.1-1+deb10u1).\nnano is already the newest version (3.2-3).\ntexlive-xetex is already the newest version (2018.20190227-2).\n0 upgraded, 0 newly installed, 0 to remove and 36 not upgraded.\n",
     "output_type": "stream"
    }
   ],
   "execution_count": 1
  },
  {
   "cell_type": "code",
   "metadata": {
    "cell_id": "4ad1c35f-d491-4b59-8f6a-3b2a665f1d03",
    "deepnote_to_be_reexecuted": false,
    "source_hash": "65e5c214",
    "execution_start": 1654265030892,
    "execution_millis": 4313,
    "deepnote_cell_type": "code",
    "deepnote_cell_height": 449.83331298828125
   },
   "source": "import pandas as pd\nimport tikzplotlib\nimport numpy as np\nfrom matplotlib import pyplot as plt\nfrom sklearn.model_selection import train_test_split\nfrom sklearn.model_selection import KFold\nfrom pysurvival.models.simulations import SimulationModel\nfrom pysurvival.models.multi_task import NeuralMultiTaskModel\nfrom pysurvival.utils.metrics import concordance_index\nfrom pysurvival.models.semi_parametric import CoxPHModel\nfrom pysurvival.utils.display import integrated_brier_score\nfrom pysurvival.models.survival_forest import ConditionalSurvivalForestModel, RandomSurvivalForestModel\nfrom pysurvival.models.non_parametric import KaplanMeierModel\nfrom pysurvival.utils.display import display_non_parametric\nfrom pandas_profiling import ProfileReport\nfrom pysurvival.utils.display import correlation_matrix\n%pylab inline",
   "execution_count": 2,
   "outputs": [
    {
     "name": "stderr",
     "text": "/shared-libs/python3.7/py/lib/python3.7/site-packages/tqdm/auto.py:22: TqdmWarning: IProgress not found. Please update jupyter and ipywidgets. See https://ipywidgets.readthedocs.io/en/stable/user_install.html\n  from .autonotebook import tqdm as notebook_tqdm\nPopulating the interactive namespace from numpy and matplotlib\n",
     "output_type": "stream"
    }
   ]
  },
  {
   "cell_type": "code",
   "metadata": {
    "cell_id": "00001-77a86c7a-6a96-483d-9e0f-9692a54a560f",
    "deepnote_to_be_reexecuted": false,
    "source_hash": "bcd9e861",
    "execution_start": 1654265035217,
    "execution_millis": 1115,
    "deepnote_cell_type": "code",
    "deepnote_cell_height": 640.9166870117188
   },
   "source": "# Importing modules\nimport pandas as pd\nimport numpy as np\nfrom matplotlib import pyplot as plt\nfrom pysurvival.datasets import Dataset\n%pylab inline\n\nplt.style.use('tableau-colorblind10')\n\ndataset_path = \"../dataset/cs/\"\n\n# Reading the dataset\nraw_dataset = pd.read_csv(dataset_path + \"user_features.csv\", sep=\"\\t\")\nprint(\"The raw_dataset has the following shape: {}.\".format(raw_dataset.shape))\nraw_dataset.head(3)",
   "execution_count": 3,
   "outputs": [
    {
     "name": "stdout",
     "text": "Populating the interactive namespace from numpy and matplotlib\nThe raw_dataset has the following shape: (113433, 19).\n",
     "output_type": "stream"
    },
    {
     "output_type": "execute_result",
     "execution_count": 3,
     "data": {
      "application/vnd.deepnote.dataframe.v3+json": {
       "column_count": 19,
       "row_count": 3,
       "columns": [
        {
         "name": "UserId",
         "dtype": "int64",
         "stats": {
          "unique_count": 3,
          "nan_count": 0,
          "min": "74",
          "max": "109",
          "histogram": [
           {
            "bin_start": 74,
            "bin_end": 77.5,
            "count": 1
           },
           {
            "bin_start": 77.5,
            "bin_end": 81,
            "count": 0
           },
           {
            "bin_start": 81,
            "bin_end": 84.5,
            "count": 0
           },
           {
            "bin_start": 84.5,
            "bin_end": 88,
            "count": 0
           },
           {
            "bin_start": 88,
            "bin_end": 91.5,
            "count": 0
           },
           {
            "bin_start": 91.5,
            "bin_end": 95,
            "count": 1
           },
           {
            "bin_start": 95,
            "bin_end": 98.5,
            "count": 0
           },
           {
            "bin_start": 98.5,
            "bin_end": 102,
            "count": 0
           },
           {
            "bin_start": 102,
            "bin_end": 105.5,
            "count": 0
           },
           {
            "bin_start": 105.5,
            "bin_end": 109,
            "count": 1
           }
          ]
         }
        },
        {
         "name": "CreationDate",
         "dtype": "object",
         "stats": {
          "unique_count": 3,
          "nan_count": 0,
          "categories": [
           {
            "name": "2012-03-06 20:09:16",
            "count": 1
           },
           {
            "name": "2012-03-06 22:11:12",
            "count": 1
           },
           {
            "name": "2012-03-07 01:15:40",
            "count": 1
           }
          ]
         }
        },
        {
         "name": "CastDownVotes",
         "dtype": "int64",
         "stats": {
          "unique_count": 1,
          "nan_count": 0,
          "min": "0",
          "max": "0",
          "histogram": [
           {
            "bin_start": -0.5,
            "bin_end": -0.4,
            "count": 0
           },
           {
            "bin_start": -0.4,
            "bin_end": -0.3,
            "count": 0
           },
           {
            "bin_start": -0.3,
            "bin_end": -0.19999999999999996,
            "count": 0
           },
           {
            "bin_start": -0.19999999999999996,
            "bin_end": -0.09999999999999998,
            "count": 0
           },
           {
            "bin_start": -0.09999999999999998,
            "bin_end": 0,
            "count": 0
           },
           {
            "bin_start": 0,
            "bin_end": 0.10000000000000009,
            "count": 3
           },
           {
            "bin_start": 0.10000000000000009,
            "bin_end": 0.20000000000000007,
            "count": 0
           },
           {
            "bin_start": 0.20000000000000007,
            "bin_end": 0.30000000000000004,
            "count": 0
           },
           {
            "bin_start": 0.30000000000000004,
            "bin_end": 0.4,
            "count": 0
           },
           {
            "bin_start": 0.4,
            "bin_end": 0.5,
            "count": 0
           }
          ]
         }
        },
        {
         "name": "CastUpVotes",
         "dtype": "int64",
         "stats": {
          "unique_count": 1,
          "nan_count": 0,
          "min": "0",
          "max": "0",
          "histogram": [
           {
            "bin_start": -0.5,
            "bin_end": -0.4,
            "count": 0
           },
           {
            "bin_start": -0.4,
            "bin_end": -0.3,
            "count": 0
           },
           {
            "bin_start": -0.3,
            "bin_end": -0.19999999999999996,
            "count": 0
           },
           {
            "bin_start": -0.19999999999999996,
            "bin_end": -0.09999999999999998,
            "count": 0
           },
           {
            "bin_start": -0.09999999999999998,
            "bin_end": 0,
            "count": 0
           },
           {
            "bin_start": 0,
            "bin_end": 0.10000000000000009,
            "count": 3
           },
           {
            "bin_start": 0.10000000000000009,
            "bin_end": 0.20000000000000007,
            "count": 0
           },
           {
            "bin_start": 0.20000000000000007,
            "bin_end": 0.30000000000000004,
            "count": 0
           },
           {
            "bin_start": 0.30000000000000004,
            "bin_end": 0.4,
            "count": 0
           },
           {
            "bin_start": 0.4,
            "bin_end": 0.5,
            "count": 0
           }
          ]
         }
        },
        {
         "name": "ProfileViews",
         "dtype": "int64",
         "stats": {
          "unique_count": 1,
          "nan_count": 0,
          "min": "0",
          "max": "0",
          "histogram": [
           {
            "bin_start": -0.5,
            "bin_end": -0.4,
            "count": 0
           },
           {
            "bin_start": -0.4,
            "bin_end": -0.3,
            "count": 0
           },
           {
            "bin_start": -0.3,
            "bin_end": -0.19999999999999996,
            "count": 0
           },
           {
            "bin_start": -0.19999999999999996,
            "bin_end": -0.09999999999999998,
            "count": 0
           },
           {
            "bin_start": -0.09999999999999998,
            "bin_end": 0,
            "count": 0
           },
           {
            "bin_start": 0,
            "bin_end": 0.10000000000000009,
            "count": 3
           },
           {
            "bin_start": 0.10000000000000009,
            "bin_end": 0.20000000000000007,
            "count": 0
           },
           {
            "bin_start": 0.20000000000000007,
            "bin_end": 0.30000000000000004,
            "count": 0
           },
           {
            "bin_start": 0.30000000000000004,
            "bin_end": 0.4,
            "count": 0
           },
           {
            "bin_start": 0.4,
            "bin_end": 0.5,
            "count": 0
           }
          ]
         }
        },
        {
         "name": "LastAccessDate",
         "dtype": "object",
         "stats": {
          "unique_count": 3,
          "nan_count": 0,
          "categories": [
           {
            "name": "2012-03-06 20:09:16",
            "count": 1
           },
           {
            "name": "2012-03-06 22:11:12",
            "count": 1
           },
           {
            "name": "2012-03-07 01:15:40",
            "count": 1
           }
          ]
         }
        },
        {
         "name": "QuestionCount",
         "dtype": "int64",
         "stats": {
          "unique_count": 1,
          "nan_count": 0,
          "min": "0",
          "max": "0",
          "histogram": [
           {
            "bin_start": -0.5,
            "bin_end": -0.4,
            "count": 0
           },
           {
            "bin_start": -0.4,
            "bin_end": -0.3,
            "count": 0
           },
           {
            "bin_start": -0.3,
            "bin_end": -0.19999999999999996,
            "count": 0
           },
           {
            "bin_start": -0.19999999999999996,
            "bin_end": -0.09999999999999998,
            "count": 0
           },
           {
            "bin_start": -0.09999999999999998,
            "bin_end": 0,
            "count": 0
           },
           {
            "bin_start": 0,
            "bin_end": 0.10000000000000009,
            "count": 3
           },
           {
            "bin_start": 0.10000000000000009,
            "bin_end": 0.20000000000000007,
            "count": 0
           },
           {
            "bin_start": 0.20000000000000007,
            "bin_end": 0.30000000000000004,
            "count": 0
           },
           {
            "bin_start": 0.30000000000000004,
            "bin_end": 0.4,
            "count": 0
           },
           {
            "bin_start": 0.4,
            "bin_end": 0.5,
            "count": 0
           }
          ]
         }
        },
        {
         "name": "AnswerCount",
         "dtype": "int64",
         "stats": {
          "unique_count": 1,
          "nan_count": 0,
          "min": "0",
          "max": "0",
          "histogram": [
           {
            "bin_start": -0.5,
            "bin_end": -0.4,
            "count": 0
           },
           {
            "bin_start": -0.4,
            "bin_end": -0.3,
            "count": 0
           },
           {
            "bin_start": -0.3,
            "bin_end": -0.19999999999999996,
            "count": 0
           },
           {
            "bin_start": -0.19999999999999996,
            "bin_end": -0.09999999999999998,
            "count": 0
           },
           {
            "bin_start": -0.09999999999999998,
            "bin_end": 0,
            "count": 0
           },
           {
            "bin_start": 0,
            "bin_end": 0.10000000000000009,
            "count": 3
           },
           {
            "bin_start": 0.10000000000000009,
            "bin_end": 0.20000000000000007,
            "count": 0
           },
           {
            "bin_start": 0.20000000000000007,
            "bin_end": 0.30000000000000004,
            "count": 0
           },
           {
            "bin_start": 0.30000000000000004,
            "bin_end": 0.4,
            "count": 0
           },
           {
            "bin_start": 0.4,
            "bin_end": 0.5,
            "count": 0
           }
          ]
         }
        },
        {
         "name": "CommentCount",
         "dtype": "int64",
         "stats": {
          "unique_count": 1,
          "nan_count": 0,
          "min": "0",
          "max": "0",
          "histogram": [
           {
            "bin_start": -0.5,
            "bin_end": -0.4,
            "count": 0
           },
           {
            "bin_start": -0.4,
            "bin_end": -0.3,
            "count": 0
           },
           {
            "bin_start": -0.3,
            "bin_end": -0.19999999999999996,
            "count": 0
           },
           {
            "bin_start": -0.19999999999999996,
            "bin_end": -0.09999999999999998,
            "count": 0
           },
           {
            "bin_start": -0.09999999999999998,
            "bin_end": 0,
            "count": 0
           },
           {
            "bin_start": 0,
            "bin_end": 0.10000000000000009,
            "count": 3
           },
           {
            "bin_start": 0.10000000000000009,
            "bin_end": 0.20000000000000007,
            "count": 0
           },
           {
            "bin_start": 0.20000000000000007,
            "bin_end": 0.30000000000000004,
            "count": 0
           },
           {
            "bin_start": 0.30000000000000004,
            "bin_end": 0.4,
            "count": 0
           },
           {
            "bin_start": 0.4,
            "bin_end": 0.5,
            "count": 0
           }
          ]
         }
        },
        {
         "name": "AvgQuestionViewCount",
         "dtype": "float64",
         "stats": {
          "unique_count": 1,
          "nan_count": 0,
          "min": "0.0",
          "max": "0.0",
          "histogram": [
           {
            "bin_start": -0.5,
            "bin_end": -0.4,
            "count": 0
           },
           {
            "bin_start": -0.4,
            "bin_end": -0.3,
            "count": 0
           },
           {
            "bin_start": -0.3,
            "bin_end": -0.19999999999999996,
            "count": 0
           },
           {
            "bin_start": -0.19999999999999996,
            "bin_end": -0.09999999999999998,
            "count": 0
           },
           {
            "bin_start": -0.09999999999999998,
            "bin_end": 0,
            "count": 0
           },
           {
            "bin_start": 0,
            "bin_end": 0.10000000000000009,
            "count": 3
           },
           {
            "bin_start": 0.10000000000000009,
            "bin_end": 0.20000000000000007,
            "count": 0
           },
           {
            "bin_start": 0.20000000000000007,
            "bin_end": 0.30000000000000004,
            "count": 0
           },
           {
            "bin_start": 0.30000000000000004,
            "bin_end": 0.4,
            "count": 0
           },
           {
            "bin_start": 0.4,
            "bin_end": 0.5,
            "count": 0
           }
          ]
         }
        },
        {
         "name": "AvgQuestionFavouriteCount",
         "dtype": "float64",
         "stats": {
          "unique_count": 1,
          "nan_count": 0,
          "min": "0.0",
          "max": "0.0",
          "histogram": [
           {
            "bin_start": -0.5,
            "bin_end": -0.4,
            "count": 0
           },
           {
            "bin_start": -0.4,
            "bin_end": -0.3,
            "count": 0
           },
           {
            "bin_start": -0.3,
            "bin_end": -0.19999999999999996,
            "count": 0
           },
           {
            "bin_start": -0.19999999999999996,
            "bin_end": -0.09999999999999998,
            "count": 0
           },
           {
            "bin_start": -0.09999999999999998,
            "bin_end": 0,
            "count": 0
           },
           {
            "bin_start": 0,
            "bin_end": 0.10000000000000009,
            "count": 3
           },
           {
            "bin_start": 0.10000000000000009,
            "bin_end": 0.20000000000000007,
            "count": 0
           },
           {
            "bin_start": 0.20000000000000007,
            "bin_end": 0.30000000000000004,
            "count": 0
           },
           {
            "bin_start": 0.30000000000000004,
            "bin_end": 0.4,
            "count": 0
           },
           {
            "bin_start": 0.4,
            "bin_end": 0.5,
            "count": 0
           }
          ]
         }
        },
        {
         "name": "AvgQuestionCommentCount",
         "dtype": "float64",
         "stats": {
          "unique_count": 1,
          "nan_count": 0,
          "min": "0.0",
          "max": "0.0",
          "histogram": [
           {
            "bin_start": -0.5,
            "bin_end": -0.4,
            "count": 0
           },
           {
            "bin_start": -0.4,
            "bin_end": -0.3,
            "count": 0
           },
           {
            "bin_start": -0.3,
            "bin_end": -0.19999999999999996,
            "count": 0
           },
           {
            "bin_start": -0.19999999999999996,
            "bin_end": -0.09999999999999998,
            "count": 0
           },
           {
            "bin_start": -0.09999999999999998,
            "bin_end": 0,
            "count": 0
           },
           {
            "bin_start": 0,
            "bin_end": 0.10000000000000009,
            "count": 3
           },
           {
            "bin_start": 0.10000000000000009,
            "bin_end": 0.20000000000000007,
            "count": 0
           },
           {
            "bin_start": 0.20000000000000007,
            "bin_end": 0.30000000000000004,
            "count": 0
           },
           {
            "bin_start": 0.30000000000000004,
            "bin_end": 0.4,
            "count": 0
           },
           {
            "bin_start": 0.4,
            "bin_end": 0.5,
            "count": 0
           }
          ]
         }
        },
        {
         "name": "AvgQuestionScore",
         "dtype": "float64",
         "stats": {
          "unique_count": 1,
          "nan_count": 0,
          "min": "0.0",
          "max": "0.0",
          "histogram": [
           {
            "bin_start": -0.5,
            "bin_end": -0.4,
            "count": 0
           },
           {
            "bin_start": -0.4,
            "bin_end": -0.3,
            "count": 0
           },
           {
            "bin_start": -0.3,
            "bin_end": -0.19999999999999996,
            "count": 0
           },
           {
            "bin_start": -0.19999999999999996,
            "bin_end": -0.09999999999999998,
            "count": 0
           },
           {
            "bin_start": -0.09999999999999998,
            "bin_end": 0,
            "count": 0
           },
           {
            "bin_start": 0,
            "bin_end": 0.10000000000000009,
            "count": 3
           },
           {
            "bin_start": 0.10000000000000009,
            "bin_end": 0.20000000000000007,
            "count": 0
           },
           {
            "bin_start": 0.20000000000000007,
            "bin_end": 0.30000000000000004,
            "count": 0
           },
           {
            "bin_start": 0.30000000000000004,
            "bin_end": 0.4,
            "count": 0
           },
           {
            "bin_start": 0.4,
            "bin_end": 0.5,
            "count": 0
           }
          ]
         }
        },
        {
         "name": "AvgAnswerScore",
         "dtype": "float64",
         "stats": {
          "unique_count": 1,
          "nan_count": 0,
          "min": "0.0",
          "max": "0.0",
          "histogram": [
           {
            "bin_start": -0.5,
            "bin_end": -0.4,
            "count": 0
           },
           {
            "bin_start": -0.4,
            "bin_end": -0.3,
            "count": 0
           },
           {
            "bin_start": -0.3,
            "bin_end": -0.19999999999999996,
            "count": 0
           },
           {
            "bin_start": -0.19999999999999996,
            "bin_end": -0.09999999999999998,
            "count": 0
           },
           {
            "bin_start": -0.09999999999999998,
            "bin_end": 0,
            "count": 0
           },
           {
            "bin_start": 0,
            "bin_end": 0.10000000000000009,
            "count": 3
           },
           {
            "bin_start": 0.10000000000000009,
            "bin_end": 0.20000000000000007,
            "count": 0
           },
           {
            "bin_start": 0.20000000000000007,
            "bin_end": 0.30000000000000004,
            "count": 0
           },
           {
            "bin_start": 0.30000000000000004,
            "bin_end": 0.4,
            "count": 0
           },
           {
            "bin_start": 0.4,
            "bin_end": 0.5,
            "count": 0
           }
          ]
         }
        },
        {
         "name": "AvgAnswerCommentCount",
         "dtype": "float64",
         "stats": {
          "unique_count": 1,
          "nan_count": 0,
          "min": "0.0",
          "max": "0.0",
          "histogram": [
           {
            "bin_start": -0.5,
            "bin_end": -0.4,
            "count": 0
           },
           {
            "bin_start": -0.4,
            "bin_end": -0.3,
            "count": 0
           },
           {
            "bin_start": -0.3,
            "bin_end": -0.19999999999999996,
            "count": 0
           },
           {
            "bin_start": -0.19999999999999996,
            "bin_end": -0.09999999999999998,
            "count": 0
           },
           {
            "bin_start": -0.09999999999999998,
            "bin_end": 0,
            "count": 0
           },
           {
            "bin_start": 0,
            "bin_end": 0.10000000000000009,
            "count": 3
           },
           {
            "bin_start": 0.10000000000000009,
            "bin_end": 0.20000000000000007,
            "count": 0
           },
           {
            "bin_start": 0.20000000000000007,
            "bin_end": 0.30000000000000004,
            "count": 0
           },
           {
            "bin_start": 0.30000000000000004,
            "bin_end": 0.4,
            "count": 0
           },
           {
            "bin_start": 0.4,
            "bin_end": 0.5,
            "count": 0
           }
          ]
         }
        },
        {
         "name": "AvgCommentScore",
         "dtype": "float64",
         "stats": {
          "unique_count": 1,
          "nan_count": 0,
          "min": "0.0",
          "max": "0.0",
          "histogram": [
           {
            "bin_start": -0.5,
            "bin_end": -0.4,
            "count": 0
           },
           {
            "bin_start": -0.4,
            "bin_end": -0.3,
            "count": 0
           },
           {
            "bin_start": -0.3,
            "bin_end": -0.19999999999999996,
            "count": 0
           },
           {
            "bin_start": -0.19999999999999996,
            "bin_end": -0.09999999999999998,
            "count": 0
           },
           {
            "bin_start": -0.09999999999999998,
            "bin_end": 0,
            "count": 0
           },
           {
            "bin_start": 0,
            "bin_end": 0.10000000000000009,
            "count": 3
           },
           {
            "bin_start": 0.10000000000000009,
            "bin_end": 0.20000000000000007,
            "count": 0
           },
           {
            "bin_start": 0.20000000000000007,
            "bin_end": 0.30000000000000004,
            "count": 0
           },
           {
            "bin_start": 0.30000000000000004,
            "bin_end": 0.4,
            "count": 0
           },
           {
            "bin_start": 0.4,
            "bin_end": 0.5,
            "count": 0
           }
          ]
         }
        },
        {
         "name": "MonthsActive",
         "dtype": "int64",
         "stats": {
          "unique_count": 1,
          "nan_count": 0,
          "min": "0",
          "max": "0",
          "histogram": [
           {
            "bin_start": -0.5,
            "bin_end": -0.4,
            "count": 0
           },
           {
            "bin_start": -0.4,
            "bin_end": -0.3,
            "count": 0
           },
           {
            "bin_start": -0.3,
            "bin_end": -0.19999999999999996,
            "count": 0
           },
           {
            "bin_start": -0.19999999999999996,
            "bin_end": -0.09999999999999998,
            "count": 0
           },
           {
            "bin_start": -0.09999999999999998,
            "bin_end": 0,
            "count": 0
           },
           {
            "bin_start": 0,
            "bin_end": 0.10000000000000009,
            "count": 3
           },
           {
            "bin_start": 0.10000000000000009,
            "bin_end": 0.20000000000000007,
            "count": 0
           },
           {
            "bin_start": 0.20000000000000007,
            "bin_end": 0.30000000000000004,
            "count": 0
           },
           {
            "bin_start": 0.30000000000000004,
            "bin_end": 0.4,
            "count": 0
           },
           {
            "bin_start": 0.4,
            "bin_end": 0.5,
            "count": 0
           }
          ]
         }
        },
        {
         "name": "MonthsSinceLastActivity",
         "dtype": "int64",
         "stats": {
          "unique_count": 1,
          "nan_count": 0,
          "min": "112",
          "max": "112",
          "histogram": [
           {
            "bin_start": 111.5,
            "bin_end": 111.6,
            "count": 0
           },
           {
            "bin_start": 111.6,
            "bin_end": 111.7,
            "count": 0
           },
           {
            "bin_start": 111.7,
            "bin_end": 111.8,
            "count": 0
           },
           {
            "bin_start": 111.8,
            "bin_end": 111.9,
            "count": 0
           },
           {
            "bin_start": 111.9,
            "bin_end": 112,
            "count": 0
           },
           {
            "bin_start": 112,
            "bin_end": 112.1,
            "count": 3
           },
           {
            "bin_start": 112.1,
            "bin_end": 112.2,
            "count": 0
           },
           {
            "bin_start": 112.2,
            "bin_end": 112.3,
            "count": 0
           },
           {
            "bin_start": 112.3,
            "bin_end": 112.4,
            "count": 0
           },
           {
            "bin_start": 112.4,
            "bin_end": 112.5,
            "count": 0
           }
          ]
         }
        },
        {
         "name": "MonthsSinceJoined",
         "dtype": "int64",
         "stats": {
          "unique_count": 1,
          "nan_count": 0,
          "min": "112",
          "max": "112",
          "histogram": [
           {
            "bin_start": 111.5,
            "bin_end": 111.6,
            "count": 0
           },
           {
            "bin_start": 111.6,
            "bin_end": 111.7,
            "count": 0
           },
           {
            "bin_start": 111.7,
            "bin_end": 111.8,
            "count": 0
           },
           {
            "bin_start": 111.8,
            "bin_end": 111.9,
            "count": 0
           },
           {
            "bin_start": 111.9,
            "bin_end": 112,
            "count": 0
           },
           {
            "bin_start": 112,
            "bin_end": 112.1,
            "count": 3
           },
           {
            "bin_start": 112.1,
            "bin_end": 112.2,
            "count": 0
           },
           {
            "bin_start": 112.2,
            "bin_end": 112.3,
            "count": 0
           },
           {
            "bin_start": 112.3,
            "bin_end": 112.4,
            "count": 0
           },
           {
            "bin_start": 112.4,
            "bin_end": 112.5,
            "count": 0
           }
          ]
         }
        },
        {
         "name": "_deepnote_index_column",
         "dtype": "int64"
        }
       ],
       "rows": [
        {
         "UserId": 74,
         "CreationDate": "2012-03-06 20:09:16",
         "CastDownVotes": 0,
         "CastUpVotes": 0,
         "ProfileViews": 0,
         "LastAccessDate": "2012-03-06 20:09:16",
         "QuestionCount": 0,
         "AnswerCount": 0,
         "CommentCount": 0,
         "AvgQuestionViewCount": 0,
         "AvgQuestionFavouriteCount": 0,
         "AvgQuestionCommentCount": 0,
         "AvgQuestionScore": 0,
         "AvgAnswerScore": 0,
         "AvgAnswerCommentCount": 0,
         "AvgCommentScore": 0,
         "MonthsActive": 0,
         "MonthsSinceLastActivity": 112,
         "MonthsSinceJoined": 112,
         "_deepnote_index_column": 0
        },
        {
         "UserId": 93,
         "CreationDate": "2012-03-06 22:11:12",
         "CastDownVotes": 0,
         "CastUpVotes": 0,
         "ProfileViews": 0,
         "LastAccessDate": "2012-03-06 22:11:12",
         "QuestionCount": 0,
         "AnswerCount": 0,
         "CommentCount": 0,
         "AvgQuestionViewCount": 0,
         "AvgQuestionFavouriteCount": 0,
         "AvgQuestionCommentCount": 0,
         "AvgQuestionScore": 0,
         "AvgAnswerScore": 0,
         "AvgAnswerCommentCount": 0,
         "AvgCommentScore": 0,
         "MonthsActive": 0,
         "MonthsSinceLastActivity": 112,
         "MonthsSinceJoined": 112,
         "_deepnote_index_column": 1
        },
        {
         "UserId": 109,
         "CreationDate": "2012-03-07 01:15:40",
         "CastDownVotes": 0,
         "CastUpVotes": 0,
         "ProfileViews": 0,
         "LastAccessDate": "2012-03-07 01:15:40",
         "QuestionCount": 0,
         "AnswerCount": 0,
         "CommentCount": 0,
         "AvgQuestionViewCount": 0,
         "AvgQuestionFavouriteCount": 0,
         "AvgQuestionCommentCount": 0,
         "AvgQuestionScore": 0,
         "AvgAnswerScore": 0,
         "AvgAnswerCommentCount": 0,
         "AvgCommentScore": 0,
         "MonthsActive": 0,
         "MonthsSinceLastActivity": 112,
         "MonthsSinceJoined": 112,
         "_deepnote_index_column": 2
        }
       ]
      },
      "text/plain": "   UserId         CreationDate  CastDownVotes  CastUpVotes  ProfileViews  \\\n0      74  2012-03-06 20:09:16              0            0             0   \n1      93  2012-03-06 22:11:12              0            0             0   \n2     109  2012-03-07 01:15:40              0            0             0   \n\n        LastAccessDate  QuestionCount  AnswerCount  CommentCount  \\\n0  2012-03-06 20:09:16              0            0             0   \n1  2012-03-06 22:11:12              0            0             0   \n2  2012-03-07 01:15:40              0            0             0   \n\n   AvgQuestionViewCount  AvgQuestionFavouriteCount  AvgQuestionCommentCount  \\\n0                   0.0                        0.0                      0.0   \n1                   0.0                        0.0                      0.0   \n2                   0.0                        0.0                      0.0   \n\n   AvgQuestionScore  AvgAnswerScore  AvgAnswerCommentCount  AvgCommentScore  \\\n0               0.0             0.0                    0.0              0.0   \n1               0.0             0.0                    0.0              0.0   \n2               0.0             0.0                    0.0              0.0   \n\n   MonthsActive  MonthsSinceLastActivity  MonthsSinceJoined  \n0             0                      112                112  \n1             0                      112                112  \n2             0                      112                112  ",
      "text/html": "<div>\n<style scoped>\n    .dataframe tbody tr th:only-of-type {\n        vertical-align: middle;\n    }\n\n    .dataframe tbody tr th {\n        vertical-align: top;\n    }\n\n    .dataframe thead th {\n        text-align: right;\n    }\n</style>\n<table border=\"1\" class=\"dataframe\">\n  <thead>\n    <tr style=\"text-align: right;\">\n      <th></th>\n      <th>UserId</th>\n      <th>CreationDate</th>\n      <th>CastDownVotes</th>\n      <th>CastUpVotes</th>\n      <th>ProfileViews</th>\n      <th>LastAccessDate</th>\n      <th>QuestionCount</th>\n      <th>AnswerCount</th>\n      <th>CommentCount</th>\n      <th>AvgQuestionViewCount</th>\n      <th>AvgQuestionFavouriteCount</th>\n      <th>AvgQuestionCommentCount</th>\n      <th>AvgQuestionScore</th>\n      <th>AvgAnswerScore</th>\n      <th>AvgAnswerCommentCount</th>\n      <th>AvgCommentScore</th>\n      <th>MonthsActive</th>\n      <th>MonthsSinceLastActivity</th>\n      <th>MonthsSinceJoined</th>\n    </tr>\n  </thead>\n  <tbody>\n    <tr>\n      <th>0</th>\n      <td>74</td>\n      <td>2012-03-06 20:09:16</td>\n      <td>0</td>\n      <td>0</td>\n      <td>0</td>\n      <td>2012-03-06 20:09:16</td>\n      <td>0</td>\n      <td>0</td>\n      <td>0</td>\n      <td>0.0</td>\n      <td>0.0</td>\n      <td>0.0</td>\n      <td>0.0</td>\n      <td>0.0</td>\n      <td>0.0</td>\n      <td>0.0</td>\n      <td>0</td>\n      <td>112</td>\n      <td>112</td>\n    </tr>\n    <tr>\n      <th>1</th>\n      <td>93</td>\n      <td>2012-03-06 22:11:12</td>\n      <td>0</td>\n      <td>0</td>\n      <td>0</td>\n      <td>2012-03-06 22:11:12</td>\n      <td>0</td>\n      <td>0</td>\n      <td>0</td>\n      <td>0.0</td>\n      <td>0.0</td>\n      <td>0.0</td>\n      <td>0.0</td>\n      <td>0.0</td>\n      <td>0.0</td>\n      <td>0.0</td>\n      <td>0</td>\n      <td>112</td>\n      <td>112</td>\n    </tr>\n    <tr>\n      <th>2</th>\n      <td>109</td>\n      <td>2012-03-07 01:15:40</td>\n      <td>0</td>\n      <td>0</td>\n      <td>0</td>\n      <td>2012-03-07 01:15:40</td>\n      <td>0</td>\n      <td>0</td>\n      <td>0</td>\n      <td>0.0</td>\n      <td>0.0</td>\n      <td>0.0</td>\n      <td>0.0</td>\n      <td>0.0</td>\n      <td>0.0</td>\n      <td>0.0</td>\n      <td>0</td>\n      <td>112</td>\n      <td>112</td>\n    </tr>\n  </tbody>\n</table>\n</div>"
     },
     "metadata": {}
    }
   ]
  },
  {
   "cell_type": "code",
   "metadata": {
    "cell_id": "00002-db340e89-0434-4dbc-867f-ddf206a5cb44",
    "deepnote_to_be_reexecuted": false,
    "source_hash": "4fee8b9b",
    "execution_start": 1654265035683,
    "execution_millis": 8,
    "deepnote_cell_type": "code",
    "deepnote_cell_height": 2186.833251953125
   },
   "source": "def heatmap(data, row_labels, col_labels, ax=None,\n            cbar_kw={}, cbarlabel=\"\", **kwargs):\n    \"\"\"\n    Create a heatmap from a numpy array and two lists of labels.\n\n    Parameters\n    ----------\n    data\n        A 2D numpy array of shape (N, M).\n    row_labels\n        A list or array of length N with the labels for the rows.\n    col_labels\n        A list or array of length M with the labels for the columns.\n    ax\n        A `matplotlib.axes.Axes` instance to which the heatmap is plotted.  If\n        not provided, use current axes or create a new one.  Optional.\n    cbar_kw\n        A dictionary with arguments to `matplotlib.Figure.colorbar`.  Optional.\n    cbarlabel\n        The label for the colorbar.  Optional.\n    **kwargs\n        All other arguments are forwarded to `imshow`.\n    \"\"\"\n\n    if not ax:\n        ax = plt.gca()\n\n    # Plot the heatmap\n    im = ax.imshow(data, **kwargs)\n\n    # Create colorbar\n    cbar = ax.figure.colorbar(im, ax=ax, **cbar_kw)\n    cbar.ax.set_ylabel(cbarlabel, rotation=-90, va=\"bottom\")\n\n    # We want to show all ticks...\n    ax.set_xticks(np.arange(data.shape[1]))\n    ax.set_yticks(np.arange(data.shape[0]))\n    # ... and label them with the respective list entries.\n    ax.set_xticklabels(col_labels)\n    ax.set_yticklabels(row_labels)\n\n    # Let the horizontal axes labeling appear on top.\n    ax.tick_params(top=True, bottom=False,\n                   labeltop=True, labelbottom=False)\n\n    # Rotate the tick labels and set their alignment.\n    plt.setp(ax.get_xticklabels(), rotation=0, ha=\"right\",\n             rotation_mode=\"anchor\")\n\n    # Turn spines off and create white grid.\n    for edge, spine in ax.spines.items():\n        spine.set_visible(False)\n\n    ax.set_xticks(np.arange(data.shape[1]+1)-.5, minor=True)\n    ax.set_yticks(np.arange(data.shape[0]+1)-.5, minor=True)\n    ax.grid(which=\"minor\", color=\"w\", linestyle='-', linewidth=3)\n    ax.tick_params(which=\"minor\", bottom=False, left=False)\n\n    return im, cbar\n\n\ndef annotate_heatmap(im, data=None, valfmt=\"{x:.2f}\",\n                     textcolors=[\"black\", \"white\"],\n                     threshold=None, **textkw):\n    \"\"\"\n    A function to annotate a heatmap.\n\n    Parameters\n    ----------\n    im\n        The AxesImage to be labeled.\n    data\n        Data used to annotate.  If None, the image's data is used.  Optional.\n    valfmt\n        The format of the annotations inside the heatmap.  This should either\n        use the string format method, e.g. \"$ {x:.2f}\", or be a\n        `matplotlib.ticker.Formatter`.  Optional.\n    textcolors\n        A list or array of two color specifications.  The first is used for\n        values below a threshold, the second for those above.  Optional.\n    threshold\n        Value in data units according to which the colors from textcolors are\n        applied.  If None (the default) uses the middle of the colormap as\n        separation.  Optional.\n    **kwargs\n        All other arguments are forwarded to each call to `text` used to create\n        the text labels.\n    \"\"\"\n\n    if not isinstance(data, (list, np.ndarray)):\n        data = im.get_array()\n\n    # Normalize the threshold to the images color range.\n    if threshold is not None:\n        threshold = im.norm(threshold)\n    else:\n        threshold = im.norm(data.max())/2.\n\n    # Set default alignment to center, but allow it to be\n    # overwritten by textkw.\n    kw = dict(horizontalalignment=\"center\",\n              verticalalignment=\"center\")\n    kw.update(textkw)\n\n    # Get the formatter in case a string is supplied\n    if isinstance(valfmt, str):\n        valfmt = matplotlib.ticker.StrMethodFormatter(valfmt)\n\n    # Loop over the data and create a `Text` for each \"pixel\".\n    # Change the text's color depending on the data.\n    texts = []\n    for i in range(data.shape[0]):\n        for j in range(data.shape[1]):\n            kw.update(color=textcolors[int(im.norm(data[i, j]) > threshold)])\n            text = im.axes.text(j, i, valfmt(data[i, j], None), **kw)\n            texts.append(text)\n\n    return texts",
   "execution_count": 4,
   "outputs": []
  },
  {
   "cell_type": "code",
   "metadata": {
    "cell_id": "00003-488a5495-966c-4cb7-9819-9686967ea30a",
    "deepnote_to_be_reexecuted": false,
    "source_hash": "52429003",
    "execution_start": 1654265035696,
    "execution_millis": 4884,
    "deepnote_cell_type": "code",
    "deepnote_cell_height": 1121.8333740234375,
    "deepnote_output_heights": [
     611,
     611
    ]
   },
   "source": "features = ['CastDownVotes', 'CastUpVotes',\n            'QuestionCount', 'AnswerCount', 'CommentCount', \n            \n            'AvgQuestionViewCount', 'AvgQuestionCommentCount',\n            'AvgQuestionScore', 'AvgAnswerScore',\n            'AvgAnswerCommentCount', 'AvgCommentScore',\n           ]\n\n#correlation_matrix(raw_dataset[features], figure_size=(20, 8), text_fontsize=8)\n\nfig, ax = plt.subplots(figsize=(10,10))\n\nattributes = [\"$A_1$\", \"$A_2$\", \"$A_3$\", \"$A_4$\", \"$A_5$\"]\n\nim, cbar = heatmap(raw_dataset[features].corr(), features, features, ax=ax,\n                   cmap=\"Greys\", cbarlabel=\"Peasrson's correlation\")\ntexts = annotate_heatmap(im, valfmt=\"{x:.2f}\")\n\nfig.tight_layout()\n\n#tikzplotlib.save(\"attribute_corr.tikz\")\nfig.savefig('all_attributes_corr.pgf')\n\nplt.show()",
   "execution_count": 5,
   "outputs": [
    {
     "data": {
      "text/plain": "<Figure size 720x720 with 2 Axes>",
      "image/png": "[encoded data removed]"
     },
     "metadata": {
      "needs_background": "light",
      "image/png": {
       "width": 701,
       "height": 712
      }
     },
     "output_type": "display_data"
    }
   ]
  },
  {
   "cell_type": "code",
   "metadata": {
    "cell_id": "00004-26690bce-9704-4a23-8d3e-137f72751c0a",
    "deepnote_to_be_reexecuted": false,
    "source_hash": "443dd8a9",
    "execution_start": 1654265040595,
    "execution_millis": 1671,
    "deepnote_cell_type": "code",
    "deepnote_cell_height": 792.8333129882812,
    "deepnote_output_heights": [
     282
    ]
   },
   "source": "# content-based attributes\nfeatures_content_based = ['AvgQuestionViewCount', 'AvgQuestionCommentCount',\n                          'AvgQuestionScore', 'AvgAnswerScore',\n                          'AvgAnswerCommentCount', 'AvgCommentScore']\n\nraw_dataset_corr = raw_dataset[features_content_based].copy()\nraw_dataset_corr.rename(columns={'AvgQuestionViewCount': 'A_6', 'AvgQuestionCommentCount': 'A_7',\n                                 'AvgQuestionScore': 'A_8', 'AvgAnswerScore': 'A_9',\n                                 'AvgAnswerCommentCount': 'A_10', 'AvgCommentScore': 'A_11'}, inplace=True)\n\nfig, ax = plt.subplots()\n\nattributes = [\"$A_6$\", \"$A_7$\", \"$A_8$\", \"$A_9$\", \"$A_{10}$\", \"$A_{11}$\"]\n\nim, cbar = heatmap(raw_dataset_corr.corr(), attributes, attributes, ax=ax,\n                   cmap=\"Greys\", cbarlabel=\"Peasrson's correlation\")\ntexts = annotate_heatmap(im, valfmt=\"{x:.2f}\")\n\nfig.tight_layout()\n\n#tikzplotlib.save(\"attribute_corr.tikz\")\nfig.savefig('attribute_corr_content_based.pgf')\n\nplt.show()",
   "execution_count": 6,
   "outputs": [
    {
     "data": {
      "text/plain": "<Figure size 432x288 with 2 Axes>",
      "image/png": "[encoded data removed]"
     },
     "metadata": {
      "needs_background": "light",
      "image/png": {
       "width": 354,
       "height": 280
      }
     },
     "output_type": "display_data"
    }
   ]
  },
  {
   "cell_type": "code",
   "metadata": {
    "cell_id": "00005-26ad9383-7f82-4ac2-bdfc-2f7a065494d1",
    "deepnote_to_be_reexecuted": false,
    "source_hash": "b9b6201c",
    "execution_start": 1654265042274,
    "execution_millis": 1006,
    "deepnote_cell_type": "code",
    "deepnote_cell_height": 774.8333129882812,
    "deepnote_output_heights": [
     282
    ]
   },
   "source": "# behavioural attributes\nfeatures_behvavioural = ['CastDownVotes', 'CastUpVotes', 'QuestionCount',\n                         'AnswerCount', 'CommentCount']\n\nraw_dataset_corr = raw_dataset[features_behvavioural].copy()\nraw_dataset_corr.rename(columns={'CastDownVotes': 'A_1', 'CastUpVotes': 'A_2',\n                                 'QuestionCount': 'A_3', 'AnswerCount': 'A_4',\n                                 'CommentCount': 'A_5'}, inplace=True)\n\nfig, ax = plt.subplots()\n\nattributes = [\"$A_1$\", \"$A_2$\", \"$A_3$\", \"$A_4$\", \"$A_5$\"]\n\nim, cbar = heatmap(raw_dataset_corr.corr(), attributes, attributes, ax=ax,\n                   cmap=\"Greys\", cbarlabel=\"Peasrson's correlation\")\ntexts = annotate_heatmap(im, valfmt=\"{x:.2f}\")\n\nfig.tight_layout()\n\n#tikzplotlib.save(\"attribute_corr.tikz\")\nfig.savefig('attribute_corr_behavioural.pgf')\n\nplt.show()",
   "execution_count": 7,
   "outputs": [
    {
     "data": {
      "text/plain": "<Figure size 432x288 with 2 Axes>",
      "image/png": "[encoded data removed]"
     },
     "metadata": {
      "needs_background": "light",
      "image/png": {
       "width": 350,
       "height": 280
      }
     },
     "output_type": "display_data"
    }
   ]
  },
  {
   "cell_type": "code",
   "metadata": {
    "cell_id": "00006-4e3eac01-f364-4ec5-a12e-5b9ba194afa5",
    "deepnote_to_be_reexecuted": false,
    "source_hash": "7832fb47",
    "execution_start": 1654265043295,
    "execution_millis": 120,
    "deepnote_cell_type": "code",
    "deepnote_cell_height": 188.8333282470703
   },
   "source": "def f(x):\n    if x > 24:\n        return 1\n    else:\n        return 0\n    \nraw_dataset['disengaged'] = raw_dataset['MonthsSinceLastActivity'].apply(f)",
   "execution_count": 8,
   "outputs": []
  },
  {
   "cell_type": "code",
   "metadata": {
    "cell_id": "00007-2028923b-cabd-4230-9d8c-c0489ac1e67c",
    "deepnote_to_be_reexecuted": false,
    "source_hash": "f792113b",
    "execution_start": 1654265043435,
    "execution_millis": 190,
    "deepnote_cell_type": "code",
    "deepnote_cell_height": 405.83331298828125
   },
   "source": "raw_dataset.head()",
   "execution_count": 9,
   "outputs": [
    {
     "output_type": "execute_result",
     "execution_count": 9,
     "data": {
      "application/vnd.deepnote.dataframe.v3+json": {
       "column_count": 20,
       "row_count": 5,
       "columns": [
        {
         "name": "UserId",
         "dtype": "int64",
         "stats": {
          "unique_count": 5,
          "nan_count": 0,
          "min": "74",
          "max": "143",
          "histogram": [
           {
            "bin_start": 74,
            "bin_end": 80.9,
            "count": 1
           },
           {
            "bin_start": 80.9,
            "bin_end": 87.8,
            "count": 0
           },
           {
            "bin_start": 87.8,
            "bin_end": 94.7,
            "count": 1
           },
           {
            "bin_start": 94.7,
            "bin_end": 101.6,
            "count": 0
           },
           {
            "bin_start": 101.6,
            "bin_end": 108.5,
            "count": 0
           },
           {
            "bin_start": 108.5,
            "bin_end": 115.4,
            "count": 1
           },
           {
            "bin_start": 115.4,
            "bin_end": 122.30000000000001,
            "count": 0
           },
           {
            "bin_start": 122.30000000000001,
            "bin_end": 129.2,
            "count": 0
           },
           {
            "bin_start": 129.2,
            "bin_end": 136.1,
            "count": 1
           },
           {
            "bin_start": 136.1,
            "bin_end": 143,
            "count": 1
           }
          ]
         }
        },
        {
         "name": "CreationDate",
         "dtype": "object",
         "stats": {
          "unique_count": 5,
          "nan_count": 0,
          "categories": [
           {
            "name": "2012-03-06 20:09:16",
            "count": 1
           },
           {
            "name": "2012-03-06 22:11:12",
            "count": 1
           },
           {
            "name": "3 others",
            "count": 3
           }
          ]
         }
        },
        {
         "name": "CastDownVotes",
         "dtype": "int64",
         "stats": {
          "unique_count": 1,
          "nan_count": 0,
          "min": "0",
          "max": "0",
          "histogram": [
           {
            "bin_start": -0.5,
            "bin_end": -0.4,
            "count": 0
           },
           {
            "bin_start": -0.4,
            "bin_end": -0.3,
            "count": 0
           },
           {
            "bin_start": -0.3,
            "bin_end": -0.19999999999999996,
            "count": 0
           },
           {
            "bin_start": -0.19999999999999996,
            "bin_end": -0.09999999999999998,
            "count": 0
           },
           {
            "bin_start": -0.09999999999999998,
            "bin_end": 0,
            "count": 0
           },
           {
            "bin_start": 0,
            "bin_end": 0.10000000000000009,
            "count": 5
           },
           {
            "bin_start": 0.10000000000000009,
            "bin_end": 0.20000000000000007,
            "count": 0
           },
           {
            "bin_start": 0.20000000000000007,
            "bin_end": 0.30000000000000004,
            "count": 0
           },
           {
            "bin_start": 0.30000000000000004,
            "bin_end": 0.4,
            "count": 0
           },
           {
            "bin_start": 0.4,
            "bin_end": 0.5,
            "count": 0
           }
          ]
         }
        },
        {
         "name": "CastUpVotes",
         "dtype": "int64",
         "stats": {
          "unique_count": 2,
          "nan_count": 0,
          "min": "0",
          "max": "2",
          "histogram": [
           {
            "bin_start": 0,
            "bin_end": 0.2,
            "count": 4
           },
           {
            "bin_start": 0.2,
            "bin_end": 0.4,
            "count": 0
           },
           {
            "bin_start": 0.4,
            "bin_end": 0.6000000000000001,
            "count": 0
           },
           {
            "bin_start": 0.6000000000000001,
            "bin_end": 0.8,
            "count": 0
           },
           {
            "bin_start": 0.8,
            "bin_end": 1,
            "count": 0
           },
           {
            "bin_start": 1,
            "bin_end": 1.2000000000000002,
            "count": 0
           },
           {
            "bin_start": 1.2000000000000002,
            "bin_end": 1.4000000000000001,
            "count": 0
           },
           {
            "bin_start": 1.4000000000000001,
            "bin_end": 1.6,
            "count": 0
           },
           {
            "bin_start": 1.6,
            "bin_end": 1.8,
            "count": 0
           },
           {
            "bin_start": 1.8,
            "bin_end": 2,
            "count": 1
           }
          ]
         }
        },
        {
         "name": "ProfileViews",
         "dtype": "int64",
         "stats": {
          "unique_count": 2,
          "nan_count": 0,
          "min": "0",
          "max": "1",
          "histogram": [
           {
            "bin_start": 0,
            "bin_end": 0.1,
            "count": 3
           },
           {
            "bin_start": 0.1,
            "bin_end": 0.2,
            "count": 0
           },
           {
            "bin_start": 0.2,
            "bin_end": 0.30000000000000004,
            "count": 0
           },
           {
            "bin_start": 0.30000000000000004,
            "bin_end": 0.4,
            "count": 0
           },
           {
            "bin_start": 0.4,
            "bin_end": 0.5,
            "count": 0
           },
           {
            "bin_start": 0.5,
            "bin_end": 0.6000000000000001,
            "count": 0
           },
           {
            "bin_start": 0.6000000000000001,
            "bin_end": 0.7000000000000001,
            "count": 0
           },
           {
            "bin_start": 0.7000000000000001,
            "bin_end": 0.8,
            "count": 0
           },
           {
            "bin_start": 0.8,
            "bin_end": 0.9,
            "count": 0
           },
           {
            "bin_start": 0.9,
            "bin_end": 1,
            "count": 2
           }
          ]
         }
        },
        {
         "name": "LastAccessDate",
         "dtype": "object",
         "stats": {
          "unique_count": 5,
          "nan_count": 0,
          "categories": [
           {
            "name": "2012-03-06 20:09:16",
            "count": 1
           },
           {
            "name": "2012-03-06 22:11:12",
            "count": 1
           },
           {
            "name": "3 others",
            "count": 3
           }
          ]
         }
        },
        {
         "name": "QuestionCount",
         "dtype": "int64",
         "stats": {
          "unique_count": 1,
          "nan_count": 0,
          "min": "0",
          "max": "0",
          "histogram": [
           {
            "bin_start": -0.5,
            "bin_end": -0.4,
            "count": 0
           },
           {
            "bin_start": -0.4,
            "bin_end": -0.3,
            "count": 0
           },
           {
            "bin_start": -0.3,
            "bin_end": -0.19999999999999996,
            "count": 0
           },
           {
            "bin_start": -0.19999999999999996,
            "bin_end": -0.09999999999999998,
            "count": 0
           },
           {
            "bin_start": -0.09999999999999998,
            "bin_end": 0,
            "count": 0
           },
           {
            "bin_start": 0,
            "bin_end": 0.10000000000000009,
            "count": 5
           },
           {
            "bin_start": 0.10000000000000009,
            "bin_end": 0.20000000000000007,
            "count": 0
           },
           {
            "bin_start": 0.20000000000000007,
            "bin_end": 0.30000000000000004,
            "count": 0
           },
           {
            "bin_start": 0.30000000000000004,
            "bin_end": 0.4,
            "count": 0
           },
           {
            "bin_start": 0.4,
            "bin_end": 0.5,
            "count": 0
           }
          ]
         }
        },
        {
         "name": "AnswerCount",
         "dtype": "int64",
         "stats": {
          "unique_count": 1,
          "nan_count": 0,
          "min": "0",
          "max": "0",
          "histogram": [
           {
            "bin_start": -0.5,
            "bin_end": -0.4,
            "count": 0
           },
           {
            "bin_start": -0.4,
            "bin_end": -0.3,
            "count": 0
           },
           {
            "bin_start": -0.3,
            "bin_end": -0.19999999999999996,
            "count": 0
           },
           {
            "bin_start": -0.19999999999999996,
            "bin_end": -0.09999999999999998,
            "count": 0
           },
           {
            "bin_start": -0.09999999999999998,
            "bin_end": 0,
            "count": 0
           },
           {
            "bin_start": 0,
            "bin_end": 0.10000000000000009,
            "count": 5
           },
           {
            "bin_start": 0.10000000000000009,
            "bin_end": 0.20000000000000007,
            "count": 0
           },
           {
            "bin_start": 0.20000000000000007,
            "bin_end": 0.30000000000000004,
            "count": 0
           },
           {
            "bin_start": 0.30000000000000004,
            "bin_end": 0.4,
            "count": 0
           },
           {
            "bin_start": 0.4,
            "bin_end": 0.5,
            "count": 0
           }
          ]
         }
        },
        {
         "name": "CommentCount",
         "dtype": "int64",
         "stats": {
          "unique_count": 1,
          "nan_count": 0,
          "min": "0",
          "max": "0",
          "histogram": [
           {
            "bin_start": -0.5,
            "bin_end": -0.4,
            "count": 0
           },
           {
            "bin_start": -0.4,
            "bin_end": -0.3,
            "count": 0
           },
           {
            "bin_start": -0.3,
            "bin_end": -0.19999999999999996,
            "count": 0
           },
           {
            "bin_start": -0.19999999999999996,
            "bin_end": -0.09999999999999998,
            "count": 0
           },
           {
            "bin_start": -0.09999999999999998,
            "bin_end": 0,
            "count": 0
           },
           {
            "bin_start": 0,
            "bin_end": 0.10000000000000009,
            "count": 5
           },
           {
            "bin_start": 0.10000000000000009,
            "bin_end": 0.20000000000000007,
            "count": 0
           },
           {
            "bin_start": 0.20000000000000007,
            "bin_end": 0.30000000000000004,
            "count": 0
           },
           {
            "bin_start": 0.30000000000000004,
            "bin_end": 0.4,
            "count": 0
           },
           {
            "bin_start": 0.4,
            "bin_end": 0.5,
            "count": 0
           }
          ]
         }
        },
        {
         "name": "AvgQuestionViewCount",
         "dtype": "float64",
         "stats": {
          "unique_count": 1,
          "nan_count": 0,
          "min": "0.0",
          "max": "0.0",
          "histogram": [
           {
            "bin_start": -0.5,
            "bin_end": -0.4,
            "count": 0
           },
           {
            "bin_start": -0.4,
            "bin_end": -0.3,
            "count": 0
           },
           {
            "bin_start": -0.3,
            "bin_end": -0.19999999999999996,
            "count": 0
           },
           {
            "bin_start": -0.19999999999999996,
            "bin_end": -0.09999999999999998,
            "count": 0
           },
           {
            "bin_start": -0.09999999999999998,
            "bin_end": 0,
            "count": 0
           },
           {
            "bin_start": 0,
            "bin_end": 0.10000000000000009,
            "count": 5
           },
           {
            "bin_start": 0.10000000000000009,
            "bin_end": 0.20000000000000007,
            "count": 0
           },
           {
            "bin_start": 0.20000000000000007,
            "bin_end": 0.30000000000000004,
            "count": 0
           },
           {
            "bin_start": 0.30000000000000004,
            "bin_end": 0.4,
            "count": 0
           },
           {
            "bin_start": 0.4,
            "bin_end": 0.5,
            "count": 0
           }
          ]
         }
        },
        {
         "name": "AvgQuestionFavouriteCount",
         "dtype": "float64",
         "stats": {
          "unique_count": 1,
          "nan_count": 0,
          "min": "0.0",
          "max": "0.0",
          "histogram": [
           {
            "bin_start": -0.5,
            "bin_end": -0.4,
            "count": 0
           },
           {
            "bin_start": -0.4,
            "bin_end": -0.3,
            "count": 0
           },
           {
            "bin_start": -0.3,
            "bin_end": -0.19999999999999996,
            "count": 0
           },
           {
            "bin_start": -0.19999999999999996,
            "bin_end": -0.09999999999999998,
            "count": 0
           },
           {
            "bin_start": -0.09999999999999998,
            "bin_end": 0,
            "count": 0
           },
           {
            "bin_start": 0,
            "bin_end": 0.10000000000000009,
            "count": 5
           },
           {
            "bin_start": 0.10000000000000009,
            "bin_end": 0.20000000000000007,
            "count": 0
           },
           {
            "bin_start": 0.20000000000000007,
            "bin_end": 0.30000000000000004,
            "count": 0
           },
           {
            "bin_start": 0.30000000000000004,
            "bin_end": 0.4,
            "count": 0
           },
           {
            "bin_start": 0.4,
            "bin_end": 0.5,
            "count": 0
           }
          ]
         }
        },
        {
         "name": "AvgQuestionCommentCount",
         "dtype": "float64",
         "stats": {
          "unique_count": 1,
          "nan_count": 0,
          "min": "0.0",
          "max": "0.0",
          "histogram": [
           {
            "bin_start": -0.5,
            "bin_end": -0.4,
            "count": 0
           },
           {
            "bin_start": -0.4,
            "bin_end": -0.3,
            "count": 0
           },
           {
            "bin_start": -0.3,
            "bin_end": -0.19999999999999996,
            "count": 0
           },
           {
            "bin_start": -0.19999999999999996,
            "bin_end": -0.09999999999999998,
            "count": 0
           },
           {
            "bin_start": -0.09999999999999998,
            "bin_end": 0,
            "count": 0
           },
           {
            "bin_start": 0,
            "bin_end": 0.10000000000000009,
            "count": 5
           },
           {
            "bin_start": 0.10000000000000009,
            "bin_end": 0.20000000000000007,
            "count": 0
           },
           {
            "bin_start": 0.20000000000000007,
            "bin_end": 0.30000000000000004,
            "count": 0
           },
           {
            "bin_start": 0.30000000000000004,
            "bin_end": 0.4,
            "count": 0
           },
           {
            "bin_start": 0.4,
            "bin_end": 0.5,
            "count": 0
           }
          ]
         }
        },
        {
         "name": "AvgQuestionScore",
         "dtype": "float64",
         "stats": {
          "unique_count": 1,
          "nan_count": 0,
          "min": "0.0",
          "max": "0.0",
          "histogram": [
           {
            "bin_start": -0.5,
            "bin_end": -0.4,
            "count": 0
           },
           {
            "bin_start": -0.4,
            "bin_end": -0.3,
            "count": 0
           },
           {
            "bin_start": -0.3,
            "bin_end": -0.19999999999999996,
            "count": 0
           },
           {
            "bin_start": -0.19999999999999996,
            "bin_end": -0.09999999999999998,
            "count": 0
           },
           {
            "bin_start": -0.09999999999999998,
            "bin_end": 0,
            "count": 0
           },
           {
            "bin_start": 0,
            "bin_end": 0.10000000000000009,
            "count": 5
           },
           {
            "bin_start": 0.10000000000000009,
            "bin_end": 0.20000000000000007,
            "count": 0
           },
           {
            "bin_start": 0.20000000000000007,
            "bin_end": 0.30000000000000004,
            "count": 0
           },
           {
            "bin_start": 0.30000000000000004,
            "bin_end": 0.4,
            "count": 0
           },
           {
            "bin_start": 0.4,
            "bin_end": 0.5,
            "count": 0
           }
          ]
         }
        },
        {
         "name": "AvgAnswerScore",
         "dtype": "float64",
         "stats": {
          "unique_count": 1,
          "nan_count": 0,
          "min": "0.0",
          "max": "0.0",
          "histogram": [
           {
            "bin_start": -0.5,
            "bin_end": -0.4,
            "count": 0
           },
           {
            "bin_start": -0.4,
            "bin_end": -0.3,
            "count": 0
           },
           {
            "bin_start": -0.3,
            "bin_end": -0.19999999999999996,
            "count": 0
           },
           {
            "bin_start": -0.19999999999999996,
            "bin_end": -0.09999999999999998,
            "count": 0
           },
           {
            "bin_start": -0.09999999999999998,
            "bin_end": 0,
            "count": 0
           },
           {
            "bin_start": 0,
            "bin_end": 0.10000000000000009,
            "count": 5
           },
           {
            "bin_start": 0.10000000000000009,
            "bin_end": 0.20000000000000007,
            "count": 0
           },
           {
            "bin_start": 0.20000000000000007,
            "bin_end": 0.30000000000000004,
            "count": 0
           },
           {
            "bin_start": 0.30000000000000004,
            "bin_end": 0.4,
            "count": 0
           },
           {
            "bin_start": 0.4,
            "bin_end": 0.5,
            "count": 0
           }
          ]
         }
        },
        {
         "name": "AvgAnswerCommentCount",
         "dtype": "float64",
         "stats": {
          "unique_count": 1,
          "nan_count": 0,
          "min": "0.0",
          "max": "0.0",
          "histogram": [
           {
            "bin_start": -0.5,
            "bin_end": -0.4,
            "count": 0
           },
           {
            "bin_start": -0.4,
            "bin_end": -0.3,
            "count": 0
           },
           {
            "bin_start": -0.3,
            "bin_end": -0.19999999999999996,
            "count": 0
           },
           {
            "bin_start": -0.19999999999999996,
            "bin_end": -0.09999999999999998,
            "count": 0
           },
           {
            "bin_start": -0.09999999999999998,
            "bin_end": 0,
            "count": 0
           },
           {
            "bin_start": 0,
            "bin_end": 0.10000000000000009,
            "count": 5
           },
           {
            "bin_start": 0.10000000000000009,
            "bin_end": 0.20000000000000007,
            "count": 0
           },
           {
            "bin_start": 0.20000000000000007,
            "bin_end": 0.30000000000000004,
            "count": 0
           },
           {
            "bin_start": 0.30000000000000004,
            "bin_end": 0.4,
            "count": 0
           },
           {
            "bin_start": 0.4,
            "bin_end": 0.5,
            "count": 0
           }
          ]
         }
        },
        {
         "name": "AvgCommentScore",
         "dtype": "float64",
         "stats": {
          "unique_count": 1,
          "nan_count": 0,
          "min": "0.0",
          "max": "0.0",
          "histogram": [
           {
            "bin_start": -0.5,
            "bin_end": -0.4,
            "count": 0
           },
           {
            "bin_start": -0.4,
            "bin_end": -0.3,
            "count": 0
           },
           {
            "bin_start": -0.3,
            "bin_end": -0.19999999999999996,
            "count": 0
           },
           {
            "bin_start": -0.19999999999999996,
            "bin_end": -0.09999999999999998,
            "count": 0
           },
           {
            "bin_start": -0.09999999999999998,
            "bin_end": 0,
            "count": 0
           },
           {
            "bin_start": 0,
            "bin_end": 0.10000000000000009,
            "count": 5
           },
           {
            "bin_start": 0.10000000000000009,
            "bin_end": 0.20000000000000007,
            "count": 0
           },
           {
            "bin_start": 0.20000000000000007,
            "bin_end": 0.30000000000000004,
            "count": 0
           },
           {
            "bin_start": 0.30000000000000004,
            "bin_end": 0.4,
            "count": 0
           },
           {
            "bin_start": 0.4,
            "bin_end": 0.5,
            "count": 0
           }
          ]
         }
        },
        {
         "name": "MonthsActive",
         "dtype": "int64",
         "stats": {
          "unique_count": 1,
          "nan_count": 0,
          "min": "0",
          "max": "0",
          "histogram": [
           {
            "bin_start": -0.5,
            "bin_end": -0.4,
            "count": 0
           },
           {
            "bin_start": -0.4,
            "bin_end": -0.3,
            "count": 0
           },
           {
            "bin_start": -0.3,
            "bin_end": -0.19999999999999996,
            "count": 0
           },
           {
            "bin_start": -0.19999999999999996,
            "bin_end": -0.09999999999999998,
            "count": 0
           },
           {
            "bin_start": -0.09999999999999998,
            "bin_end": 0,
            "count": 0
           },
           {
            "bin_start": 0,
            "bin_end": 0.10000000000000009,
            "count": 5
           },
           {
            "bin_start": 0.10000000000000009,
            "bin_end": 0.20000000000000007,
            "count": 0
           },
           {
            "bin_start": 0.20000000000000007,
            "bin_end": 0.30000000000000004,
            "count": 0
           },
           {
            "bin_start": 0.30000000000000004,
            "bin_end": 0.4,
            "count": 0
           },
           {
            "bin_start": 0.4,
            "bin_end": 0.5,
            "count": 0
           }
          ]
         }
        },
        {
         "name": "MonthsSinceLastActivity",
         "dtype": "int64",
         "stats": {
          "unique_count": 2,
          "nan_count": 0,
          "min": "111",
          "max": "112",
          "histogram": [
           {
            "bin_start": 111,
            "bin_end": 111.1,
            "count": 2
           },
           {
            "bin_start": 111.1,
            "bin_end": 111.2,
            "count": 0
           },
           {
            "bin_start": 111.2,
            "bin_end": 111.3,
            "count": 0
           },
           {
            "bin_start": 111.3,
            "bin_end": 111.4,
            "count": 0
           },
           {
            "bin_start": 111.4,
            "bin_end": 111.5,
            "count": 0
           },
           {
            "bin_start": 111.5,
            "bin_end": 111.6,
            "count": 0
           },
           {
            "bin_start": 111.6,
            "bin_end": 111.7,
            "count": 0
           },
           {
            "bin_start": 111.7,
            "bin_end": 111.8,
            "count": 0
           },
           {
            "bin_start": 111.8,
            "bin_end": 111.9,
            "count": 0
           },
           {
            "bin_start": 111.9,
            "bin_end": 112,
            "count": 3
           }
          ]
         }
        },
        {
         "name": "MonthsSinceJoined",
         "dtype": "int64",
         "stats": {
          "unique_count": 2,
          "nan_count": 0,
          "min": "111",
          "max": "112",
          "histogram": [
           {
            "bin_start": 111,
            "bin_end": 111.1,
            "count": 2
           },
           {
            "bin_start": 111.1,
            "bin_end": 111.2,
            "count": 0
           },
           {
            "bin_start": 111.2,
            "bin_end": 111.3,
            "count": 0
           },
           {
            "bin_start": 111.3,
            "bin_end": 111.4,
            "count": 0
           },
           {
            "bin_start": 111.4,
            "bin_end": 111.5,
            "count": 0
           },
           {
            "bin_start": 111.5,
            "bin_end": 111.6,
            "count": 0
           },
           {
            "bin_start": 111.6,
            "bin_end": 111.7,
            "count": 0
           },
           {
            "bin_start": 111.7,
            "bin_end": 111.8,
            "count": 0
           },
           {
            "bin_start": 111.8,
            "bin_end": 111.9,
            "count": 0
           },
           {
            "bin_start": 111.9,
            "bin_end": 112,
            "count": 3
           }
          ]
         }
        },
        {
         "name": "disengaged",
         "dtype": "int64",
         "stats": {
          "unique_count": 1,
          "nan_count": 0,
          "min": "1",
          "max": "1",
          "histogram": [
           {
            "bin_start": 0.5,
            "bin_end": 0.6,
            "count": 0
           },
           {
            "bin_start": 0.6,
            "bin_end": 0.7,
            "count": 0
           },
           {
            "bin_start": 0.7,
            "bin_end": 0.8,
            "count": 0
           },
           {
            "bin_start": 0.8,
            "bin_end": 0.9,
            "count": 0
           },
           {
            "bin_start": 0.9,
            "bin_end": 1,
            "count": 0
           },
           {
            "bin_start": 1,
            "bin_end": 1.1,
            "count": 5
           },
           {
            "bin_start": 1.1,
            "bin_end": 1.2000000000000002,
            "count": 0
           },
           {
            "bin_start": 1.2000000000000002,
            "bin_end": 1.3,
            "count": 0
           },
           {
            "bin_start": 1.3,
            "bin_end": 1.4,
            "count": 0
           },
           {
            "bin_start": 1.4,
            "bin_end": 1.5,
            "count": 0
           }
          ]
         }
        },
        {
         "name": "_deepnote_index_column",
         "dtype": "int64"
        }
       ],
       "rows": [
        {
         "UserId": 74,
         "CreationDate": "2012-03-06 20:09:16",
         "CastDownVotes": 0,
         "CastUpVotes": 0,
         "ProfileViews": 0,
         "LastAccessDate": "2012-03-06 20:09:16",
         "QuestionCount": 0,
         "AnswerCount": 0,
         "CommentCount": 0,
         "AvgQuestionViewCount": 0,
         "AvgQuestionFavouriteCount": 0,
         "AvgQuestionCommentCount": 0,
         "AvgQuestionScore": 0,
         "AvgAnswerScore": 0,
         "AvgAnswerCommentCount": 0,
         "AvgCommentScore": 0,
         "MonthsActive": 0,
         "MonthsSinceLastActivity": 112,
         "MonthsSinceJoined": 112,
         "disengaged": 1,
         "_deepnote_index_column": 0
        },
        {
         "UserId": 93,
         "CreationDate": "2012-03-06 22:11:12",
         "CastDownVotes": 0,
         "CastUpVotes": 0,
         "ProfileViews": 0,
         "LastAccessDate": "2012-03-06 22:11:12",
         "QuestionCount": 0,
         "AnswerCount": 0,
         "CommentCount": 0,
         "AvgQuestionViewCount": 0,
         "AvgQuestionFavouriteCount": 0,
         "AvgQuestionCommentCount": 0,
         "AvgQuestionScore": 0,
         "AvgAnswerScore": 0,
         "AvgAnswerCommentCount": 0,
         "AvgCommentScore": 0,
         "MonthsActive": 0,
         "MonthsSinceLastActivity": 112,
         "MonthsSinceJoined": 112,
         "disengaged": 1,
         "_deepnote_index_column": 1
        },
        {
         "UserId": 109,
         "CreationDate": "2012-03-07 01:15:40",
         "CastDownVotes": 0,
         "CastUpVotes": 0,
         "ProfileViews": 0,
         "LastAccessDate": "2012-03-07 01:15:40",
         "QuestionCount": 0,
         "AnswerCount": 0,
         "CommentCount": 0,
         "AvgQuestionViewCount": 0,
         "AvgQuestionFavouriteCount": 0,
         "AvgQuestionCommentCount": 0,
         "AvgQuestionScore": 0,
         "AvgAnswerScore": 0,
         "AvgAnswerCommentCount": 0,
         "AvgCommentScore": 0,
         "MonthsActive": 0,
         "MonthsSinceLastActivity": 112,
         "MonthsSinceJoined": 112,
         "disengaged": 1,
         "_deepnote_index_column": 2
        },
        {
         "UserId": 131,
         "CreationDate": "2012-03-07 10:36:39",
         "CastDownVotes": 0,
         "CastUpVotes": 0,
         "ProfileViews": 1,
         "LastAccessDate": "2012-03-07 10:36:39",
         "QuestionCount": 0,
         "AnswerCount": 0,
         "CommentCount": 0,
         "AvgQuestionViewCount": 0,
         "AvgQuestionFavouriteCount": 0,
         "AvgQuestionCommentCount": 0,
         "AvgQuestionScore": 0,
         "AvgAnswerScore": 0,
         "AvgAnswerCommentCount": 0,
         "AvgCommentScore": 0,
         "MonthsActive": 0,
         "MonthsSinceLastActivity": 111,
         "MonthsSinceJoined": 111,
         "disengaged": 1,
         "_deepnote_index_column": 3
        },
        {
         "UserId": 143,
         "CreationDate": "2012-03-07 16:21:44",
         "CastDownVotes": 0,
         "CastUpVotes": 2,
         "ProfileViews": 1,
         "LastAccessDate": "2012-03-07 16:21:44",
         "QuestionCount": 0,
         "AnswerCount": 0,
         "CommentCount": 0,
         "AvgQuestionViewCount": 0,
         "AvgQuestionFavouriteCount": 0,
         "AvgQuestionCommentCount": 0,
         "AvgQuestionScore": 0,
         "AvgAnswerScore": 0,
         "AvgAnswerCommentCount": 0,
         "AvgCommentScore": 0,
         "MonthsActive": 0,
         "MonthsSinceLastActivity": 111,
         "MonthsSinceJoined": 111,
         "disengaged": 1,
         "_deepnote_index_column": 4
        }
       ]
      },
      "text/plain": "   UserId         CreationDate  CastDownVotes  CastUpVotes  ProfileViews  \\\n0      74  2012-03-06 20:09:16              0            0             0   \n1      93  2012-03-06 22:11:12              0            0             0   \n2     109  2012-03-07 01:15:40              0            0             0   \n3     131  2012-03-07 10:36:39              0            0             1   \n4     143  2012-03-07 16:21:44              0            2             1   \n\n        LastAccessDate  QuestionCount  AnswerCount  CommentCount  \\\n0  2012-03-06 20:09:16              0            0             0   \n1  2012-03-06 22:11:12              0            0             0   \n2  2012-03-07 01:15:40              0            0             0   \n3  2012-03-07 10:36:39              0            0             0   \n4  2012-03-07 16:21:44              0            0             0   \n\n   AvgQuestionViewCount  AvgQuestionFavouriteCount  AvgQuestionCommentCount  \\\n0                   0.0                        0.0                      0.0   \n1                   0.0                        0.0                      0.0   \n2                   0.0                        0.0                      0.0   \n3                   0.0                        0.0                      0.0   \n4                   0.0                        0.0                      0.0   \n\n   AvgQuestionScore  AvgAnswerScore  AvgAnswerCommentCount  AvgCommentScore  \\\n0               0.0             0.0                    0.0              0.0   \n1               0.0             0.0                    0.0              0.0   \n2               0.0             0.0                    0.0              0.0   \n3               0.0             0.0                    0.0              0.0   \n4               0.0             0.0                    0.0              0.0   \n\n   MonthsActive  MonthsSinceLastActivity  MonthsSinceJoined  disengaged  \n0             0                      112                112           1  \n1             0                      112                112           1  \n2             0                      112                112           1  \n3             0                      111                111           1  \n4             0                      111                111           1  ",
      "text/html": "<div>\n<style scoped>\n    .dataframe tbody tr th:only-of-type {\n        vertical-align: middle;\n    }\n\n    .dataframe tbody tr th {\n        vertical-align: top;\n    }\n\n    .dataframe thead th {\n        text-align: right;\n    }\n</style>\n<table border=\"1\" class=\"dataframe\">\n  <thead>\n    <tr style=\"text-align: right;\">\n      <th></th>\n      <th>UserId</th>\n      <th>CreationDate</th>\n      <th>CastDownVotes</th>\n      <th>CastUpVotes</th>\n      <th>ProfileViews</th>\n      <th>LastAccessDate</th>\n      <th>QuestionCount</th>\n      <th>AnswerCount</th>\n      <th>CommentCount</th>\n      <th>AvgQuestionViewCount</th>\n      <th>AvgQuestionFavouriteCount</th>\n      <th>AvgQuestionCommentCount</th>\n      <th>AvgQuestionScore</th>\n      <th>AvgAnswerScore</th>\n      <th>AvgAnswerCommentCount</th>\n      <th>AvgCommentScore</th>\n      <th>MonthsActive</th>\n      <th>MonthsSinceLastActivity</th>\n      <th>MonthsSinceJoined</th>\n      <th>disengaged</th>\n    </tr>\n  </thead>\n  <tbody>\n    <tr>\n      <th>0</th>\n      <td>74</td>\n      <td>2012-03-06 20:09:16</td>\n      <td>0</td>\n      <td>0</td>\n      <td>0</td>\n      <td>2012-03-06 20:09:16</td>\n      <td>0</td>\n      <td>0</td>\n      <td>0</td>\n      <td>0.0</td>\n      <td>0.0</td>\n      <td>0.0</td>\n      <td>0.0</td>\n      <td>0.0</td>\n      <td>0.0</td>\n      <td>0.0</td>\n      <td>0</td>\n      <td>112</td>\n      <td>112</td>\n      <td>1</td>\n    </tr>\n    <tr>\n      <th>1</th>\n      <td>93</td>\n      <td>2012-03-06 22:11:12</td>\n      <td>0</td>\n      <td>0</td>\n      <td>0</td>\n      <td>2012-03-06 22:11:12</td>\n      <td>0</td>\n      <td>0</td>\n      <td>0</td>\n      <td>0.0</td>\n      <td>0.0</td>\n      <td>0.0</td>\n      <td>0.0</td>\n      <td>0.0</td>\n      <td>0.0</td>\n      <td>0.0</td>\n      <td>0</td>\n      <td>112</td>\n      <td>112</td>\n      <td>1</td>\n    </tr>\n    <tr>\n      <th>2</th>\n      <td>109</td>\n      <td>2012-03-07 01:15:40</td>\n      <td>0</td>\n      <td>0</td>\n      <td>0</td>\n      <td>2012-03-07 01:15:40</td>\n      <td>0</td>\n      <td>0</td>\n      <td>0</td>\n      <td>0.0</td>\n      <td>0.0</td>\n      <td>0.0</td>\n      <td>0.0</td>\n      <td>0.0</td>\n      <td>0.0</td>\n      <td>0.0</td>\n      <td>0</td>\n      <td>112</td>\n      <td>112</td>\n      <td>1</td>\n    </tr>\n    <tr>\n      <th>3</th>\n      <td>131</td>\n      <td>2012-03-07 10:36:39</td>\n      <td>0</td>\n      <td>0</td>\n      <td>1</td>\n      <td>2012-03-07 10:36:39</td>\n      <td>0</td>\n      <td>0</td>\n      <td>0</td>\n      <td>0.0</td>\n      <td>0.0</td>\n      <td>0.0</td>\n      <td>0.0</td>\n      <td>0.0</td>\n      <td>0.0</td>\n      <td>0.0</td>\n      <td>0</td>\n      <td>111</td>\n      <td>111</td>\n      <td>1</td>\n    </tr>\n    <tr>\n      <th>4</th>\n      <td>143</td>\n      <td>2012-03-07 16:21:44</td>\n      <td>0</td>\n      <td>2</td>\n      <td>1</td>\n      <td>2012-03-07 16:21:44</td>\n      <td>0</td>\n      <td>0</td>\n      <td>0</td>\n      <td>0.0</td>\n      <td>0.0</td>\n      <td>0.0</td>\n      <td>0.0</td>\n      <td>0.0</td>\n      <td>0.0</td>\n      <td>0.0</td>\n      <td>0</td>\n      <td>111</td>\n      <td>111</td>\n      <td>1</td>\n    </tr>\n  </tbody>\n</table>\n</div>"
     },
     "metadata": {}
    }
   ]
  },
  {
   "cell_type": "code",
   "metadata": {
    "cell_id": "00008-983d6c4e-7a9c-48b2-814b-5ebc8d042a4a",
    "deepnote_to_be_reexecuted": false,
    "source_hash": "1724934",
    "execution_start": 1654265043630,
    "execution_millis": 99,
    "deepnote_cell_type": "code",
    "deepnote_cell_height": 988.8333129882812
   },
   "source": "features = ['CastDownVotes', 'CastUpVotes', 'QuestionCount',\n            'AnswerCount', 'CommentCount', #'ProfileViews', \n            'AvgQuestionViewCount', 'AvgQuestionFavouriteCount', \n            'AvgQuestionCommentCount', 'AvgAnswerScore', \n            'AvgCommentScore', 'AvgAnswerCommentCount', \n            \"AvgQuestionScore\"\n           ]\n\ntime_column = \"MonthsActive\"\nevent_column = \"disengaged\"\n\nraw_dataset_cut = raw_dataset.copy()[features + [time_column, event_column]]\nraw_dataset_cut = raw_dataset_cut[((raw_dataset_cut['QuestionCount'] > 0) | \\\n                                  (raw_dataset_cut['AnswerCount'] > 0) |\n                                  (raw_dataset_cut['CommentCount'] > 0) |\n                                  (raw_dataset_cut['CastDownVotes'] > 0) |\n                                  (raw_dataset_cut['CastUpVotes'] > 0)) &\n                                  (raw_dataset_cut['MonthsActive'] > -1)|\n                                  True]\n\nraw_dataset_cut.reset_index(inplace=True)\nraw_dataset_cut",
   "execution_count": 10,
   "outputs": [
    {
     "output_type": "execute_result",
     "execution_count": 10,
     "data": {
      "application/vnd.deepnote.dataframe.v3+json": {
       "column_count": 15,
       "row_count": 113433,
       "columns": [
        {
         "name": "index",
         "dtype": "int64"
        },
        {
         "name": "CastDownVotes",
         "dtype": "int64"
        },
        {
         "name": "CastUpVotes",
         "dtype": "int64"
        },
        {
         "name": "QuestionCount",
         "dtype": "int64"
        },
        {
         "name": "AnswerCount",
         "dtype": "int64"
        },
        {
         "name": "CommentCount",
         "dtype": "int64"
        },
        {
         "name": "AvgQuestionViewCount",
         "dtype": "float64"
        },
        {
         "name": "AvgQuestionFavouriteCount",
         "dtype": "float64"
        },
        {
         "name": "AvgQuestionCommentCount",
         "dtype": "float64"
        },
        {
         "name": "AvgAnswerScore",
         "dtype": "float64"
        },
        {
         "name": "AvgCommentScore",
         "dtype": "float64"
        },
        {
         "name": "AvgAnswerCommentCount",
         "dtype": "float64"
        },
        {
         "name": "AvgQuestionScore",
         "dtype": "float64"
        },
        {
         "name": "MonthsActive",
         "dtype": "int64"
        },
        {
         "name": "disengaged",
         "dtype": "int64"
        },
        {
         "name": "_deepnote_index_column",
         "dtype": "int64"
        }
       ],
       "rows": [
        {
         "index": 0,
         "CastDownVotes": 0,
         "CastUpVotes": 0,
         "QuestionCount": 0,
         "AnswerCount": 0,
         "CommentCount": 0,
         "AvgQuestionViewCount": 0,
         "AvgQuestionFavouriteCount": 0,
         "AvgQuestionCommentCount": 0,
         "AvgAnswerScore": 0,
         "AvgCommentScore": 0,
         "AvgAnswerCommentCount": 0,
         "AvgQuestionScore": 0,
         "MonthsActive": 0,
         "disengaged": 1,
         "_deepnote_index_column": 0
        },
        {
         "index": 1,
         "CastDownVotes": 0,
         "CastUpVotes": 0,
         "QuestionCount": 0,
         "AnswerCount": 0,
         "CommentCount": 0,
         "AvgQuestionViewCount": 0,
         "AvgQuestionFavouriteCount": 0,
         "AvgQuestionCommentCount": 0,
         "AvgAnswerScore": 0,
         "AvgCommentScore": 0,
         "AvgAnswerCommentCount": 0,
         "AvgQuestionScore": 0,
         "MonthsActive": 0,
         "disengaged": 1,
         "_deepnote_index_column": 1
        },
        {
         "index": 2,
         "CastDownVotes": 0,
         "CastUpVotes": 0,
         "QuestionCount": 0,
         "AnswerCount": 0,
         "CommentCount": 0,
         "AvgQuestionViewCount": 0,
         "AvgQuestionFavouriteCount": 0,
         "AvgQuestionCommentCount": 0,
         "AvgAnswerScore": 0,
         "AvgCommentScore": 0,
         "AvgAnswerCommentCount": 0,
         "AvgQuestionScore": 0,
         "MonthsActive": 0,
         "disengaged": 1,
         "_deepnote_index_column": 2
        },
        {
         "index": 3,
         "CastDownVotes": 0,
         "CastUpVotes": 0,
         "QuestionCount": 0,
         "AnswerCount": 0,
         "CommentCount": 0,
         "AvgQuestionViewCount": 0,
         "AvgQuestionFavouriteCount": 0,
         "AvgQuestionCommentCount": 0,
         "AvgAnswerScore": 0,
         "AvgCommentScore": 0,
         "AvgAnswerCommentCount": 0,
         "AvgQuestionScore": 0,
         "MonthsActive": 0,
         "disengaged": 1,
         "_deepnote_index_column": 3
        },
        {
         "index": 4,
         "CastDownVotes": 0,
         "CastUpVotes": 2,
         "QuestionCount": 0,
         "AnswerCount": 0,
         "CommentCount": 0,
         "AvgQuestionViewCount": 0,
         "AvgQuestionFavouriteCount": 0,
         "AvgQuestionCommentCount": 0,
         "AvgAnswerScore": 0,
         "AvgCommentScore": 0,
         "AvgAnswerCommentCount": 0,
         "AvgQuestionScore": 0,
         "MonthsActive": 0,
         "disengaged": 1,
         "_deepnote_index_column": 4
        },
        {
         "index": 5,
         "CastDownVotes": 0,
         "CastUpVotes": 2,
         "QuestionCount": 0,
         "AnswerCount": 0,
         "CommentCount": 0,
         "AvgQuestionViewCount": 0,
         "AvgQuestionFavouriteCount": 0,
         "AvgQuestionCommentCount": 0,
         "AvgAnswerScore": 0,
         "AvgCommentScore": 0,
         "AvgAnswerCommentCount": 0,
         "AvgQuestionScore": 0,
         "MonthsActive": 0,
         "disengaged": 1,
         "_deepnote_index_column": 5
        },
        {
         "index": 6,
         "CastDownVotes": 0,
         "CastUpVotes": 3,
         "QuestionCount": 0,
         "AnswerCount": 0,
         "CommentCount": 0,
         "AvgQuestionViewCount": 0,
         "AvgQuestionFavouriteCount": 0,
         "AvgQuestionCommentCount": 0,
         "AvgAnswerScore": 0,
         "AvgCommentScore": 0,
         "AvgAnswerCommentCount": 0,
         "AvgQuestionScore": 0,
         "MonthsActive": 0,
         "disengaged": 1,
         "_deepnote_index_column": 6
        },
        {
         "index": 7,
         "CastDownVotes": 0,
         "CastUpVotes": 0,
         "QuestionCount": 0,
         "AnswerCount": 0,
         "CommentCount": 0,
         "AvgQuestionViewCount": 0,
         "AvgQuestionFavouriteCount": 0,
         "AvgQuestionCommentCount": 0,
         "AvgAnswerScore": 0,
         "AvgCommentScore": 0,
         "AvgAnswerCommentCount": 0,
         "AvgQuestionScore": 0,
         "MonthsActive": 0,
         "disengaged": 1,
         "_deepnote_index_column": 7
        },
        {
         "index": 8,
         "CastDownVotes": 0,
         "CastUpVotes": 0,
         "QuestionCount": 0,
         "AnswerCount": 0,
         "CommentCount": 0,
         "AvgQuestionViewCount": 0,
         "AvgQuestionFavouriteCount": 0,
         "AvgQuestionCommentCount": 0,
         "AvgAnswerScore": 0,
         "AvgCommentScore": 0,
         "AvgAnswerCommentCount": 0,
         "AvgQuestionScore": 0,
         "MonthsActive": 0,
         "disengaged": 1,
         "_deepnote_index_column": 8
        },
        {
         "index": 9,
         "CastDownVotes": 0,
         "CastUpVotes": 0,
         "QuestionCount": 0,
         "AnswerCount": 0,
         "CommentCount": 0,
         "AvgQuestionViewCount": 0,
         "AvgQuestionFavouriteCount": 0,
         "AvgQuestionCommentCount": 0,
         "AvgAnswerScore": 0,
         "AvgCommentScore": 0,
         "AvgAnswerCommentCount": 0,
         "AvgQuestionScore": 0,
         "MonthsActive": 0,
         "disengaged": 1,
         "_deepnote_index_column": 9
        }
       ]
      },
      "text/plain": "         index  CastDownVotes  CastUpVotes  QuestionCount  AnswerCount  \\\n0            0              0            0              0            0   \n1            1              0            0              0            0   \n2            2              0            0              0            0   \n3            3              0            0              0            0   \n4            4              0            2              0            0   \n...        ...            ...          ...            ...          ...   \n113428  113428              0            0              0            0   \n113429  113429              0           15              8            7   \n113430  113430              0            1              1            0   \n113431  113431             57          119              2           36   \n113432  113432              0            0              1            0   \n\n        CommentCount  AvgQuestionViewCount  AvgQuestionFavouriteCount  \\\n0                  0                  0.00                        0.0   \n1                  0                  0.00                        0.0   \n2                  0                  0.00                        0.0   \n3                  0                  0.00                        0.0   \n4                  0                  0.00                        0.0   \n...              ...                   ...                        ...   \n113428             0                  0.00                        0.0   \n113429             7                 37.75                        0.0   \n113430             1                 31.00                        0.0   \n113431          1344                 38.50                        0.0   \n113432             0                 30.00                        0.0   \n\n        AvgQuestionCommentCount  AvgAnswerScore  AvgCommentScore  \\\n0                          0.00          0.0000           0.0000   \n1                          0.00          0.0000           0.0000   \n2                          0.00          0.0000           0.0000   \n3                          0.00          0.0000           0.0000   \n4                          0.00          0.0000           0.0000   \n...                         ...             ...              ...   \n113428                     0.00          0.0000           0.0000   \n113429                     0.75          0.2857           0.2857   \n113430                     2.00          0.0000           0.0000   \n113431                     0.00          1.0556           0.2433   \n113432                     2.00          0.0000           0.0000   \n\n        AvgAnswerCommentCount  AvgQuestionScore  MonthsActive  disengaged  \n0                      0.0000             0.000             0           1  \n1                      0.0000             0.000             0           1  \n2                      0.0000             0.000             0           1  \n3                      0.0000             0.000             0           1  \n4                      0.0000             0.000             0           1  \n...                       ...               ...           ...         ...  \n113428                 0.0000             0.000             0           0  \n113429                 0.5714             0.625            13           0  \n113430                 0.0000             0.000            78           0  \n113431                 1.3611             1.500            82           0  \n113432                 0.0000             1.000             0           0  \n\n[113433 rows x 15 columns]",
      "text/html": "<div>\n<style scoped>\n    .dataframe tbody tr th:only-of-type {\n        vertical-align: middle;\n    }\n\n    .dataframe tbody tr th {\n        vertical-align: top;\n    }\n\n    .dataframe thead th {\n        text-align: right;\n    }\n</style>\n<table border=\"1\" class=\"dataframe\">\n  <thead>\n    <tr style=\"text-align: right;\">\n      <th></th>\n      <th>index</th>\n      <th>CastDownVotes</th>\n      <th>CastUpVotes</th>\n      <th>QuestionCount</th>\n      <th>AnswerCount</th>\n      <th>CommentCount</th>\n      <th>AvgQuestionViewCount</th>\n      <th>AvgQuestionFavouriteCount</th>\n      <th>AvgQuestionCommentCount</th>\n      <th>AvgAnswerScore</th>\n      <th>AvgCommentScore</th>\n      <th>AvgAnswerCommentCount</th>\n      <th>AvgQuestionScore</th>\n      <th>MonthsActive</th>\n      <th>disengaged</th>\n    </tr>\n  </thead>\n  <tbody>\n    <tr>\n      <th>0</th>\n      <td>0</td>\n      <td>0</td>\n      <td>0</td>\n      <td>0</td>\n      <td>0</td>\n      <td>0</td>\n      <td>0.00</td>\n      <td>0.0</td>\n      <td>0.00</td>\n      <td>0.0000</td>\n      <td>0.0000</td>\n      <td>0.0000</td>\n      <td>0.000</td>\n      <td>0</td>\n      <td>1</td>\n    </tr>\n    <tr>\n      <th>1</th>\n      <td>1</td>\n      <td>0</td>\n      <td>0</td>\n      <td>0</td>\n      <td>0</td>\n      <td>0</td>\n      <td>0.00</td>\n      <td>0.0</td>\n      <td>0.00</td>\n      <td>0.0000</td>\n      <td>0.0000</td>\n      <td>0.0000</td>\n      <td>0.000</td>\n      <td>0</td>\n      <td>1</td>\n    </tr>\n    <tr>\n      <th>2</th>\n      <td>2</td>\n      <td>0</td>\n      <td>0</td>\n      <td>0</td>\n      <td>0</td>\n      <td>0</td>\n      <td>0.00</td>\n      <td>0.0</td>\n      <td>0.00</td>\n      <td>0.0000</td>\n      <td>0.0000</td>\n      <td>0.0000</td>\n      <td>0.000</td>\n      <td>0</td>\n      <td>1</td>\n    </tr>\n    <tr>\n      <th>3</th>\n      <td>3</td>\n      <td>0</td>\n      <td>0</td>\n      <td>0</td>\n      <td>0</td>\n      <td>0</td>\n      <td>0.00</td>\n      <td>0.0</td>\n      <td>0.00</td>\n      <td>0.0000</td>\n      <td>0.0000</td>\n      <td>0.0000</td>\n      <td>0.000</td>\n      <td>0</td>\n      <td>1</td>\n    </tr>\n    <tr>\n      <th>4</th>\n      <td>4</td>\n      <td>0</td>\n      <td>2</td>\n      <td>0</td>\n      <td>0</td>\n      <td>0</td>\n      <td>0.00</td>\n      <td>0.0</td>\n      <td>0.00</td>\n      <td>0.0000</td>\n      <td>0.0000</td>\n      <td>0.0000</td>\n      <td>0.000</td>\n      <td>0</td>\n      <td>1</td>\n    </tr>\n    <tr>\n      <th>...</th>\n      <td>...</td>\n      <td>...</td>\n      <td>...</td>\n      <td>...</td>\n      <td>...</td>\n      <td>...</td>\n      <td>...</td>\n      <td>...</td>\n      <td>...</td>\n      <td>...</td>\n      <td>...</td>\n      <td>...</td>\n      <td>...</td>\n      <td>...</td>\n      <td>...</td>\n    </tr>\n    <tr>\n      <th>113428</th>\n      <td>113428</td>\n      <td>0</td>\n      <td>0</td>\n      <td>0</td>\n      <td>0</td>\n      <td>0</td>\n      <td>0.00</td>\n      <td>0.0</td>\n      <td>0.00</td>\n      <td>0.0000</td>\n      <td>0.0000</td>\n      <td>0.0000</td>\n      <td>0.000</td>\n      <td>0</td>\n      <td>0</td>\n    </tr>\n    <tr>\n      <th>113429</th>\n      <td>113429</td>\n      <td>0</td>\n      <td>15</td>\n      <td>8</td>\n      <td>7</td>\n      <td>7</td>\n      <td>37.75</td>\n      <td>0.0</td>\n      <td>0.75</td>\n      <td>0.2857</td>\n      <td>0.2857</td>\n      <td>0.5714</td>\n      <td>0.625</td>\n      <td>13</td>\n      <td>0</td>\n    </tr>\n    <tr>\n      <th>113430</th>\n      <td>113430</td>\n      <td>0</td>\n      <td>1</td>\n      <td>1</td>\n      <td>0</td>\n      <td>1</td>\n      <td>31.00</td>\n      <td>0.0</td>\n      <td>2.00</td>\n      <td>0.0000</td>\n      <td>0.0000</td>\n      <td>0.0000</td>\n      <td>0.000</td>\n      <td>78</td>\n      <td>0</td>\n    </tr>\n    <tr>\n      <th>113431</th>\n      <td>113431</td>\n      <td>57</td>\n      <td>119</td>\n      <td>2</td>\n      <td>36</td>\n      <td>1344</td>\n      <td>38.50</td>\n      <td>0.0</td>\n      <td>0.00</td>\n      <td>1.0556</td>\n      <td>0.2433</td>\n      <td>1.3611</td>\n      <td>1.500</td>\n      <td>82</td>\n      <td>0</td>\n    </tr>\n    <tr>\n      <th>113432</th>\n      <td>113432</td>\n      <td>0</td>\n      <td>0</td>\n      <td>1</td>\n      <td>0</td>\n      <td>0</td>\n      <td>30.00</td>\n      <td>0.0</td>\n      <td>2.00</td>\n      <td>0.0000</td>\n      <td>0.0000</td>\n      <td>0.0000</td>\n      <td>1.000</td>\n      <td>0</td>\n      <td>0</td>\n    </tr>\n  </tbody>\n</table>\n<p>113433 rows × 15 columns</p>\n</div>"
     },
     "metadata": {}
    }
   ]
  },
  {
   "cell_type": "code",
   "metadata": {
    "cell_id": "00009-a578e964-a7b9-4a8f-a6d2-18472f38323d",
    "deepnote_to_be_reexecuted": false,
    "source_hash": "aa346a12",
    "execution_start": 1654265043777,
    "execution_millis": 794,
    "deepnote_cell_type": "code",
    "deepnote_cell_height": 397.83331298828125
   },
   "source": "print(raw_dataset_cut[features].describe().to_latex())",
   "execution_count": 11,
   "outputs": [
    {
     "name": "stdout",
     "text": "\\begin{tabular}{lrrrrrrrrrrrr}\n\\toprule\n{} &  CastDownVotes &    CastUpVotes &  QuestionCount &    AnswerCount &   CommentCount &  AvgQuestionViewCount &  AvgQuestionFavouriteCount &  AvgQuestionCommentCount &  AvgAnswerScore &  AvgCommentScore &  AvgAnswerCommentCount &  AvgQuestionScore \\\\\n\\midrule\ncount &  113433.000000 &  113433.000000 &  113433.000000 &  113433.000000 &  113433.000000 &         113433.000000 &              113433.000000 &            113433.000000 &   113433.000000 &    113433.000000 &          113433.000000 &     113433.000000 \\\\\nmean  &       0.282845 &       2.375217 &       0.350815 &       0.412446 &       1.442808 &            172.210642 &                   0.104342 &                 0.435245 &        0.142372 &         0.035946 &               0.079942 &          0.403992 \\\\\nstd   &      31.254950 &      94.676645 &       1.743540 &      24.199871 &      69.862164 &           1806.810832 &                   1.114505 &                 1.370530 &        1.326895 &         0.410993 &               0.555697 &          2.272522 \\\\\nmin   &       0.000000 &       0.000000 &       0.000000 &       0.000000 &       0.000000 &              0.000000 &                   0.000000 &                 0.000000 &      -11.000000 &         0.000000 &               0.000000 &        -12.000000 \\\\\n25\\%   &       0.000000 &       0.000000 &       0.000000 &       0.000000 &       0.000000 &              0.000000 &                   0.000000 &                 0.000000 &        0.000000 &         0.000000 &               0.000000 &          0.000000 \\\\\n50\\%   &       0.000000 &       0.000000 &       0.000000 &       0.000000 &       0.000000 &              0.000000 &                   0.000000 &                 0.000000 &        0.000000 &         0.000000 &               0.000000 &          0.000000 \\\\\n75\\%   &       0.000000 &       0.000000 &       0.000000 &       0.000000 &       0.000000 &              0.000000 &                   0.000000 &                 0.000000 &        0.000000 &         0.000000 &               0.000000 &          0.000000 \\\\\nmax   &    9013.000000 &   19549.000000 &     152.000000 &    6523.000000 &   14493.000000 &         327724.000000 &                 241.000000 &                25.000000 &      143.000000 &        44.000000 &              22.000000 &        359.000000 \\\\\n\\bottomrule\n\\end{tabular}\n\n",
     "output_type": "stream"
    }
   ]
  },
  {
   "cell_type": "code",
   "metadata": {
    "cell_id": "00010-8c398dfd-81d2-439b-b31d-9feaf9a7eaad",
    "deepnote_to_be_reexecuted": false,
    "source_hash": "778fde8d",
    "execution_start": 1654265043906,
    "execution_millis": 0,
    "deepnote_cell_type": "code",
    "deepnote_cell_height": 134.8333282470703
   },
   "source": "raw_dataset_cut_original = raw_dataset_cut.copy() \nraw_dataset_cut = raw_dataset_cut[features].transform(lambda x: x) #np.log(x+1))\nraw_dataset_cut[time_column] = raw_dataset_cut_original[time_column].values\nraw_dataset_cut[event_column] = raw_dataset_cut_original[event_column].values",
   "execution_count": 12,
   "outputs": []
  },
  {
   "cell_type": "code",
   "metadata": {
    "cell_id": "00012-83c3a5a4-3cdd-417b-8140-e293dc0a8e96",
    "deepnote_to_be_reexecuted": false,
    "source_hash": "27fca390",
    "execution_start": 1654265043949,
    "execution_millis": 181,
    "owner_user_id": "1d5e23fc-586a-4fb2-a64d-9f5bc0547ef6",
    "deepnote_cell_type": "code",
    "deepnote_cell_height": 1377.7833251953125,
    "deepnote_output_heights": [
     40
    ]
   },
   "source": "# Reading the dataset\nN = raw_dataset_cut.shape[0]\ndataset = raw_dataset_cut\n\nseed = 33\n\n# Building training and testing sets #\nindex_train, index_test = train_test_split(range(N), test_size = 0.01, random_state=seed)\ndata_train = dataset.loc[index_train].reset_index(drop=True)\ndata_test = dataset.loc[index_test].reset_index(drop=True)\n\n# Creating the X, T and E input\nX_test = data_test[features]\nT_test = data_test[time_column]\nE_test = data_test[event_column]\n\ndef fit0(model, X_train, T_train, E_train):\n    return model.fit(X_train, T_train, E_train, max_features = 'all', max_depth = 5,\n    min_node_size = 7, num_threads = -1,\n    weights = None, sample_size_pct = 0.63, importance_mode = 'normalized_permutation', seed = seed,\n    save_memory=False)\n\ndef fit1(model, X_train, T_train, E_train):\n    return model.fit(X_train, T_train, E_train,\n                     max_features=\"sqrt\", max_depth=5, min_node_size=20)\n\nmodel = ConditionalSurvivalForestModel(num_trees = 5)\n\nmodel = RandomSurvivalForestModel(num_trees=5)\n\n# Initializing the KaplanMeierModel\n#model = KaplanMeierModel()\n\n# Displaying the survival function and confidence intervals\n#display_non_parametric(model)\n\naverage_c_index = 0.0\nn_fold = 5\n\nkf = KFold(n_splits=n_fold)\nfor fold, te in enumerate(kf.split(data_train)):\n    trainining, evaluation = te\n    \n    data_train_kf =data_train.loc[trainining].reset_index(drop=True)\n    data_eval_kf = data_train.loc[evaluation].reset_index(drop=True)\n    \n    X_train, X_evaluation = data_train_kf[features], data_eval_kf[features]\n    T_train, T_evaluation = data_train_kf[time_column], data_eval_kf[time_column]\n    E_train, E_evaluation = data_train_kf[event_column], data_eval_kf[event_column]\n    \n    fit0(model, X_train, T_train, E_train)\n    \n    c_index = concordance_index(model, X_evaluation, T_evaluation, E_evaluation)\n    print('Fold #{fold} C-index: {:.2f}'.format(c_index, fold=fold))\n    \n    average_c_index += c_index \n    \n    #ibs = integrated_brier_score(model, X_evaluation, T_evaluation, E_evaluation, \n    #                             t_max=30, figure_size=(10, 3))\n    #print('Fold #{fold} IBS: {:.2f}'.format(ibs, fold=fold))\n\nprint('Average C-index: {:.2f}'.format(average_c_index/n_fold))",
   "outputs": [],
   "execution_count": null
  },
  {
   "cell_type": "code",
   "metadata": {
    "cell_id": "00013-a0ad02a4-49a5-4959-85d5-fd9e4c78c106",
    "deepnote_to_be_reexecuted": true,
    "source_hash": "dbf70884",
    "execution_start": 1654265016359,
    "execution_millis": 722,
    "deepnote_cell_type": "code",
    "deepnote_cell_height": 197.9499969482422,
    "deepnote_output_heights": [
     401
    ]
   },
   "source": "from pysurvival.utils.display import compare_to_actual\nresults = compare_to_actual(model, X_test, T_test, E_test,\n                            is_at_risk = False,  figure_size=(16, 6),\n                            metrics = ['rmse', 'mean', 'median'])",
   "outputs": [
    {
     "output_type": "error",
     "ename": "NameError",
     "evalue": "name 'model' is not defined",
     "traceback": [
      "\u001b[0;31m---------------------------------------------------------------------------\u001b[0m",
      "\u001b[0;31mNameError\u001b[0m                                 Traceback (most recent call last)",
      "\u001b[0;32m<ipython-input-13-ffa4de80e1f2>\u001b[0m in \u001b[0;36m<module>\u001b[0;34m\u001b[0m\n\u001b[1;32m      1\u001b[0m \u001b[0;32mfrom\u001b[0m \u001b[0mpysurvival\u001b[0m\u001b[0;34m.\u001b[0m\u001b[0mutils\u001b[0m\u001b[0;34m.\u001b[0m\u001b[0mdisplay\u001b[0m \u001b[0;32mimport\u001b[0m \u001b[0mcompare_to_actual\u001b[0m\u001b[0;34m\u001b[0m\u001b[0;34m\u001b[0m\u001b[0m\n\u001b[0;32m----> 2\u001b[0;31m results = compare_to_actual(model, X_test, T_test, E_test,\n\u001b[0m\u001b[1;32m      3\u001b[0m                             \u001b[0mis_at_risk\u001b[0m \u001b[0;34m=\u001b[0m \u001b[0;32mFalse\u001b[0m\u001b[0;34m,\u001b[0m  \u001b[0mfigure_size\u001b[0m\u001b[0;34m=\u001b[0m\u001b[0;34m(\u001b[0m\u001b[0;36m16\u001b[0m\u001b[0;34m,\u001b[0m \u001b[0;36m6\u001b[0m\u001b[0;34m)\u001b[0m\u001b[0;34m,\u001b[0m\u001b[0;34m\u001b[0m\u001b[0;34m\u001b[0m\u001b[0m\n\u001b[1;32m      4\u001b[0m                             metrics = ['rmse', 'mean', 'median'])\n",
      "\u001b[0;31mNameError\u001b[0m: name 'model' is not defined"
     ]
    }
   ],
   "execution_count": null
  },
  {
   "cell_type": "code",
   "metadata": {
    "cell_id": "00014-a4aa4ccd-baf4-4cd7-8c07-6511adc2341c",
    "deepnote_to_be_reexecuted": true,
    "source_hash": "69ae6ca3",
    "deepnote_cell_type": "code",
    "deepnote_cell_height": 188.8333282470703
   },
   "source": "# from pysurvival.utils.display import create_risk_groups\n\n# risk_groups = create_risk_groups(model=model, X=X_test,\n#     use_log = False, num_bins=20, figure_size=(20, 4),\n#     low={'lower_bound':0, 'upper_bound':20, 'color':'green'},\n#     medium={'lower_bound':20, 'upper_bound':60.,'color':'blue'},\n#     high={'lower_bound':60, 'upper_bound':120,  'color':'red'})",
   "execution_count": null,
   "outputs": []
  },
  {
   "cell_type": "code",
   "metadata": {
    "cell_id": "00015-8a06e7b4-684d-4b70-bfc3-ae9a85ad9119",
    "deepnote_to_be_reexecuted": true,
    "source_hash": "5773fd9d",
    "deepnote_cell_type": "code",
    "deepnote_cell_height": 1012.8333129882812,
    "deepnote_output_heights": [
     268
    ]
   },
   "source": "from collections import Counter\n\n# Creating an empty chart\nfig, ((ax1, ax2)) = plt.subplots(1, 2,  figsize=(15, 4))\n\n# Counting the number of occurrences for each category \ndata = Counter(raw_dataset['disengaged'])\ncategory = list(data.keys())\ncounts = list(data.values())\nidx = range(len(counts))\n\n# Displaying the occurrences of the event/censoring\nax1.bar(idx, counts, color=(0.2, 0.4, 0.6, 0.6))\n#ax1.bar([\"disengaged\", \"censored\"], [13584, 17657])\nax1.set_xticks(idx)\nax1.set_xticklabels(category)\nax1.set_title('Historgram of occurences of disengagement events', fontsize=12)\nax1.set_xlabel(\"Event\")\nax1.set_ylabel(\"Count\")\n\n# Showing the histogram of the survival times for the censoring\ntime_0 = raw_dataset.loc[raw_dataset['disengaged'] == 0, 'MonthsActive']\nax2.hist(time_0, bins=20, alpha=0.3, color='blue', label = 'User seems still active')\n\n# Showing the histogram of the survival times for the events\ntime_1 = raw_dataset.loc[raw_dataset['disengaged'] == 1, 'MonthsActive']\nax2.hist(time_1, bins=20, alpha=0.7, color='black', label = 'User disengaged')\nax2.set_title('Histogram of survial time', fontsize=12)\nax2.set_xlabel(\"Time (months)\")\nax2.set_ylabel(\"Count\")\n\n# Displaying everything side-by-side\nplt.legend(fontsize=12)\n#tikzplotlib.save(\"observation_period_not_last36.tikz\")\nplt.savefig('observation_period_not_last24.pdf')\n\nplt.show()",
   "execution_count": null,
   "outputs": [
    {
     "data": {
      "image/png": "[encoded data removed]",
      "text/plain": "<Figure size 1080x288 with 2 Axes>"
     },
     "metadata": {
      "needs_background": "light",
      "image/png": {
       "width": 904,
       "height": 278
      }
     },
     "output_type": "display_data"
    }
   ]
  },
  {
   "cell_type": "code",
   "metadata": {
    "cell_id": "00016-a3e0d51f-ef1f-45dd-9941-b082f68beb87",
    "deepnote_to_be_reexecuted": true,
    "source_hash": "36bfd5d7",
    "deepnote_cell_type": "code",
    "deepnote_cell_height": 458.83331298828125
   },
   "source": "# for feature in features:\n\n#     # Creating an empty chart\n#     fig, ((ax1, ax2)) = plt.subplots(1, 2,  figsize=(12, 5))\n\n#     # Extracting the feature values\n#     x = raw_dataset_cut_original[feature].values\n\n#     # Histogram\n#     ax1.hist(x, bins=10)\n#     ax1.set_title( 'Histogram for {}'.format(feature))\n    \n#     # Logged Histogram\n#     ax2.hist(np.log(x+20), bins=10)\n#     ax2.set_title( 'Histogram for log-transformed {}'.format(feature))\n    \n#     # Boxplot\n#     #ax3.boxplot(np.log(x+1))\n#     #ax3.set_title( 'Boxplot for {}'.format(feature))\n\n#     # Display\n#     plt.show()",
   "execution_count": null,
   "outputs": []
  },
  {
   "cell_type": "code",
   "metadata": {
    "cell_id": "00017-999fada1-428d-48f9-985f-c91b4302a82d",
    "deepnote_to_be_reexecuted": true,
    "source_hash": "e30d09bc",
    "deepnote_cell_type": "code",
    "deepnote_cell_height": 418.83331298828125,
    "deepnote_output_heights": [
     232
    ]
   },
   "source": "from operator import itemgetter\n\nd = model.variable_importance\n\n# feature importance based on 'nornalised permutation'\nsorted(d.items(), key=itemgetter(1), reverse=True)",
   "execution_count": null,
   "outputs": [
    {
     "data": {
      "text/plain": "[('CastUpVotes', 2.852056514002443),\n ('CastDownVotes', 2.668770862057603),\n ('AvgAnswerScore', 2.623304811587191),\n ('QuestionCount', 2.1481864507685646),\n ('AvgQuestionViewCount', 2.0196667073773398),\n ('CommentCount', 1.9925982958594115),\n ('AvgCommentScore', 1.7648654122390455),\n ('AnswerCount', 1.7178613772079125),\n ('AvgQuestionScore', 1.3884677874576214),\n ('AvgQuestionCommentCount', 1.0333598644113433),\n ('AvgAnswerCommentCount', 1.007943341249362),\n ('AvgQuestionFavouriteCount', -0.1302930514437474)]"
     },
     "execution_count": 17,
     "metadata": {},
     "output_type": "execute_result"
    }
   ]
  },
  {
   "cell_type": "code",
   "metadata": {
    "cell_id": "00018-dc742f26-26fa-4ef7-bbbc-836a3342bf8c",
    "deepnote_to_be_reexecuted": true,
    "source_hash": "db918527",
    "deepnote_cell_type": "code",
    "deepnote_cell_height": 475.83331298828125,
    "deepnote_output_heights": [
     379
    ]
   },
   "source": "model.variable_importance_table",
   "execution_count": null,
   "outputs": [
    {
     "data": {
      "text/html": "<div>\n<style scoped>\n    .dataframe tbody tr th:only-of-type {\n        vertical-align: middle;\n    }\n\n    .dataframe tbody tr th {\n        vertical-align: top;\n    }\n\n    .dataframe thead th {\n        text-align: right;\n    }\n</style>\n<table border=\"1\" class=\"dataframe\">\n  <thead>\n    <tr style=\"text-align: right;\">\n      <th></th>\n      <th>feature</th>\n      <th>importance</th>\n      <th>pct_importance</th>\n    </tr>\n  </thead>\n  <tbody>\n    <tr>\n      <th>0</th>\n      <td>CastUpVotes</td>\n      <td>2.852057</td>\n      <td>0.134423</td>\n    </tr>\n    <tr>\n      <th>1</th>\n      <td>CastDownVotes</td>\n      <td>2.668771</td>\n      <td>0.125784</td>\n    </tr>\n    <tr>\n      <th>2</th>\n      <td>AvgAnswerScore</td>\n      <td>2.623305</td>\n      <td>0.123641</td>\n    </tr>\n    <tr>\n      <th>3</th>\n      <td>QuestionCount</td>\n      <td>2.148186</td>\n      <td>0.101248</td>\n    </tr>\n    <tr>\n      <th>4</th>\n      <td>AvgQuestionViewCount</td>\n      <td>2.019667</td>\n      <td>0.095191</td>\n    </tr>\n    <tr>\n      <th>5</th>\n      <td>CommentCount</td>\n      <td>1.992598</td>\n      <td>0.093915</td>\n    </tr>\n    <tr>\n      <th>6</th>\n      <td>AvgCommentScore</td>\n      <td>1.764865</td>\n      <td>0.083181</td>\n    </tr>\n    <tr>\n      <th>7</th>\n      <td>AnswerCount</td>\n      <td>1.717861</td>\n      <td>0.080966</td>\n    </tr>\n    <tr>\n      <th>8</th>\n      <td>AvgQuestionScore</td>\n      <td>1.388468</td>\n      <td>0.065441</td>\n    </tr>\n    <tr>\n      <th>9</th>\n      <td>AvgQuestionCommentCount</td>\n      <td>1.033360</td>\n      <td>0.048704</td>\n    </tr>\n    <tr>\n      <th>10</th>\n      <td>AvgAnswerCommentCount</td>\n      <td>1.007943</td>\n      <td>0.047506</td>\n    </tr>\n    <tr>\n      <th>11</th>\n      <td>AvgQuestionFavouriteCount</td>\n      <td>-0.130293</td>\n      <td>0.000000</td>\n    </tr>\n  </tbody>\n</table>\n</div>",
      "text/plain": "                      feature  importance  pct_importance\n0                 CastUpVotes    2.852057        0.134423\n1               CastDownVotes    2.668771        0.125784\n2              AvgAnswerScore    2.623305        0.123641\n3               QuestionCount    2.148186        0.101248\n4        AvgQuestionViewCount    2.019667        0.095191\n5                CommentCount    1.992598        0.093915\n6             AvgCommentScore    1.764865        0.083181\n7                 AnswerCount    1.717861        0.080966\n8            AvgQuestionScore    1.388468        0.065441\n9     AvgQuestionCommentCount    1.033360        0.048704\n10      AvgAnswerCommentCount    1.007943        0.047506\n11  AvgQuestionFavouriteCount   -0.130293        0.000000"
     },
     "execution_count": 18,
     "metadata": {},
     "output_type": "execute_result"
    }
   ]
  },
  {
   "cell_type": "code",
   "metadata": {
    "cell_id": "00019-52d1d832-2853-4653-893b-c1b8b67c0947",
    "deepnote_to_be_reexecuted": true,
    "source_hash": "8bd7d80a",
    "deepnote_cell_type": "code",
    "deepnote_cell_height": 1270.86669921875,
    "deepnote_output_heights": [
     null,
     304
    ]
   },
   "source": "# Initializing the figure\nfig, ax = plt.subplots(figsize=(15, 5))\n\n# Selecting a random individual that experienced an event from each group\ngroups = []\nfor i, (label, (color, indexes)) in enumerate(risk_groups.items()) :\n\n    # Selecting the individuals that belong to this group\n    if len(indexes) == 0 :\n        continue\n        \n    X = X_test.values[indexes, :]\n    T = T_test.values[indexes]\n    E = E_test.values[indexes]\n\n    # Randomly extracting an individual that experienced an event\n    choices = np.argwhere((E==1.)).flatten()\n    if len(choices) == 0 :\n        continue\n        \n    k = np.random.choice(choices, 1)[0]\n\n    # Saving the time of event\n    t = T[k]\n\n    # Computing the Survival function for all times t\n    survival = model.predict_survival(X[k, :]).flatten()\n\n    # Displaying the functions\n    label_ = '{} risk'.format(label)\n    plt.plot(model.times, survival, color = color, label=label_, lw=2)\n    groups.append(label)\n\n    # Actual time\n    plt.axvline(x=t, color=color, ls ='--')\n    ax.annotate('T={:.1f}'.format(t), xy=(t, 0.5*(1.+0.2*i)),\n                xytext=(t, 0.5*(1.+0.2*i)), fontsize=12)\n\n# Show everything\ngroups_str = ', '.join(groups)\ntitle = \"Comparing Survival functions between {} risk grades\".format(groups_str)\nplt.legend(fontsize=12)\nplt.title(title, fontsize=15)\nplt.ylim(0, 1.05)\nplt.show()",
   "execution_count": null,
   "outputs": [
    {
     "ename": "NameError",
     "evalue": "name 'risk_groups' is not defined",
     "output_type": "error",
     "traceback": [
      "\u001b[0;31m---------------------------------------------------------------------------\u001b[0m",
      "\u001b[0;31mNameError\u001b[0m                                 Traceback (most recent call last)",
      "\u001b[0;32m<ipython-input-19-e7a08ee8ee62>\u001b[0m in \u001b[0;36m<module>\u001b[0;34m\u001b[0m\n\u001b[1;32m      4\u001b[0m \u001b[0;31m# Selecting a random individual that experienced an event from each group\u001b[0m\u001b[0;34m\u001b[0m\u001b[0;34m\u001b[0m\u001b[0;34m\u001b[0m\u001b[0m\n\u001b[1;32m      5\u001b[0m \u001b[0mgroups\u001b[0m \u001b[0;34m=\u001b[0m \u001b[0;34m[\u001b[0m\u001b[0;34m]\u001b[0m\u001b[0;34m\u001b[0m\u001b[0;34m\u001b[0m\u001b[0m\n\u001b[0;32m----> 6\u001b[0;31m \u001b[0;32mfor\u001b[0m \u001b[0mi\u001b[0m\u001b[0;34m,\u001b[0m \u001b[0;34m(\u001b[0m\u001b[0mlabel\u001b[0m\u001b[0;34m,\u001b[0m \u001b[0;34m(\u001b[0m\u001b[0mcolor\u001b[0m\u001b[0;34m,\u001b[0m \u001b[0mindexes\u001b[0m\u001b[0;34m)\u001b[0m\u001b[0;34m)\u001b[0m \u001b[0;32min\u001b[0m \u001b[0menumerate\u001b[0m\u001b[0;34m(\u001b[0m\u001b[0mrisk_groups\u001b[0m\u001b[0;34m.\u001b[0m\u001b[0mitems\u001b[0m\u001b[0;34m(\u001b[0m\u001b[0;34m)\u001b[0m\u001b[0;34m)\u001b[0m \u001b[0;34m:\u001b[0m\u001b[0;34m\u001b[0m\u001b[0;34m\u001b[0m\u001b[0m\n\u001b[0m\u001b[1;32m      7\u001b[0m \u001b[0;34m\u001b[0m\u001b[0m\n\u001b[1;32m      8\u001b[0m     \u001b[0;31m# Selecting the individuals that belong to this group\u001b[0m\u001b[0;34m\u001b[0m\u001b[0;34m\u001b[0m\u001b[0;34m\u001b[0m\u001b[0m\n",
      "\u001b[0;31mNameError\u001b[0m: name 'risk_groups' is not defined"
     ]
    },
    {
     "data": {
      "image/png": "[encoded data removed]",
      "text/plain": "<Figure size 1080x360 with 1 Axes>"
     },
     "metadata": {
      "needs_background": "light",
      "image/png": {
       "width": 882,
       "height": 307
      }
     },
     "output_type": "display_data"
    }
   ]
  },
  {
   "cell_type": "code",
   "metadata": {
    "cell_id": "00020-7986e280-c0c3-4211-8501-39eb45631ae5",
    "deepnote_to_be_reexecuted": true,
    "source_hash": "b623e53d",
    "deepnote_cell_type": "code",
    "deepnote_cell_height": 80.83332824707031
   },
   "source": "",
   "execution_count": null,
   "outputs": []
  },
  {
   "cell_type": "markdown",
   "source": "<a style='text-decoration:none;line-height:16px;display:flex;color:#5B5B62;padding:10px;justify-content:end;' href='https://deepnote.com?utm_source=created-in-deepnote-cell&projectId=5b875ec7-933b-4a3a-92bc-cefd5e08f9f6' target=\"_blank\">\n<img alt='Created in deepnote.com' style='display:inline;max-height:16px;margin:0px;margin-right:7.5px;' src='data:image/svg+xml;base64,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' > </img>\nCreated in <span style='font-weight:600;margin-left:4px;'>Deepnote</span></a>",
   "metadata": {
    "tags": [],
    "created_in_deepnote_cell": true,
    "deepnote_cell_type": "markdown"
   }
  }
 ],
 "nbformat": 4,
 "nbformat_minor": 5,
 "metadata": {
  "kernelspec": {
   "display_name": "Python 3",
   "language": "python",
   "name": "python3"
  },
  "language_info": {
   "codemirror_mode": {
    "name": "ipython",
    "version": 3
   },
   "file_extension": ".py",
   "mimetype": "text/x-python",
   "name": "python",
   "nbconvert_exporter": "python",
   "pygments_lexer": "ipython3",
   "version": "3.7.10"
  },
  "deepnote_notebook_id": "18460379-8235-4eb4-b7dc-20daeab59e6f",
  "deepnote": {},
  "deepnote_execution_queue": [
   {
    "cellId": "00012-83c3a5a4-3cdd-417b-8140-e293dc0a8e96",
    "sessionId": "ce456432-3646-44ee-82e2-d8041b5bb33e",
    "msgId": "52195bcd-afd8-44e8-9244-2725c9806978"
   },
   {
    "cellId": "00013-a0ad02a4-49a5-4959-85d5-fd9e4c78c106",
    "sessionId": "ce456432-3646-44ee-82e2-d8041b5bb33e",
    "msgId": "e04fd9ac-e5fb-476c-a8b9-3e7b7f5767ff"
   },
   {
    "cellId": "00014-a4aa4ccd-baf4-4cd7-8c07-6511adc2341c",
    "sessionId": "ce456432-3646-44ee-82e2-d8041b5bb33e",
    "msgId": "d25ff72f-f029-4b8e-aacd-be53940581ca"
   },
   {
    "cellId": "00015-8a06e7b4-684d-4b70-bfc3-ae9a85ad9119",
    "sessionId": "ce456432-3646-44ee-82e2-d8041b5bb33e",
    "msgId": "0085c69f-18e8-489b-b5fd-aaaec9890a36"
   },
   {
    "cellId": "00016-a3e0d51f-ef1f-45dd-9941-b082f68beb87",
    "sessionId": "ce456432-3646-44ee-82e2-d8041b5bb33e",
    "msgId": "ae4d434c-deff-45e6-b26f-dd30c477b254"
   },
   {
    "cellId": "00017-999fada1-428d-48f9-985f-c91b4302a82d",
    "sessionId": "ce456432-3646-44ee-82e2-d8041b5bb33e",
    "msgId": "8a9a0390-c107-48b3-ba4c-32208f746517"
   },
   {
    "cellId": "00018-dc742f26-26fa-4ef7-bbbc-836a3342bf8c",
    "sessionId": "ce456432-3646-44ee-82e2-d8041b5bb33e",
    "msgId": "baf4f4e0-28d4-4da6-8580-a28b23343652"
   },
   {
    "cellId": "00019-52d1d832-2853-4653-893b-c1b8b67c0947",
    "sessionId": "ce456432-3646-44ee-82e2-d8041b5bb33e",
    "msgId": "84943e95-a991-44f8-9f47-daaf7c15eec3"
   },
   {
    "cellId": "00020-7986e280-c0c3-4211-8501-39eb45631ae5",
    "sessionId": "ce456432-3646-44ee-82e2-d8041b5bb33e",
    "msgId": "29cd7ea5-9c05-482f-8d03-8e5ae74c8ecc"
   }
  ]
 }
}